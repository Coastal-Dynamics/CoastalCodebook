{
 "cells": [
  {
   "cell_type": "markdown",
   "id": "d9cbcca0-aea0-41b5-935f-a9b55b3dcf2f",
   "metadata": {},
   "source": [
    "<figure>\n",
    "  <img src=\"../images/tudelft_logo.png\" alt=\"image\" width=\"250\" align=\"right\"/>\n",
    "</figure>"
   ]
  },
  {
   "attachments": {},
   "cell_type": "markdown",
   "id": "51b97a57",
   "metadata": {},
   "source": [
    "# 5: Coastal Classification and Beach States\n",
    "\n",
    "Welcome to the notebook of Week 5! With this notebook, we focus on morphodynamics of the upper shoreface, supplementing the material treated in Chapter 7 of the [Coastal Dynamics Open Textbook](https://books.open.tudelft.nl/home/catalog/book/202). The main topics are coastal classification (see also Chapter 2 and 4 in the book) and beach states. As you may remember, we have explored coastal classification before, not only in the Week 1 notebooks but also in the Week 3 notebook on tidal environments. However, we feel that this topic is especially important to revisit before considering the beach states, to better connect your knowledge with Chapter 7 of this course. \n",
    "\n",
    "As you know from Chapter 2 and 4 of the book and the 1a, 1b and 3a notebooks, coasts can be classified based on tectonics and physical processes. In this notebook, we will only consider process-based classification. We will look at data and satellite imagery of different Brazilian beaches, and try to classify them in various ways, considering the effects of both waves and tides. \n",
    "\n",
    "The notebook consists of the following three parts:\n",
    "1. Exploration of the available data and satellite imagery (*3 multiple-choice questions and one text question*)\n",
    "2. Classification based on relative wave and tide influence (*3 multiple-choice and 2 multiple-selection questions*)\n",
    "3. Beach states (*12 multiple-choice questions and 1 multiple-selection question*)\n"
   ]
  },
  {
   "cell_type": "markdown",
   "id": "cdf2fce2-e155-4383-886a-c8a2cc8e042e",
   "metadata": {},
   "source": [
    "## Import the required libraries, questions and data.\n",
    "\n",
    "Run the below three cells to import:\n",
    "1. All libraries that we use for our analysis\n",
    "2. The question files\n",
    "3. The dataset with data for different coordinates along the Brazilian coast "
   ]
  },
  {
   "cell_type": "code",
   "execution_count": null,
   "id": "7d6f5660-3939-4d95-b5bd-79b770efb391",
   "metadata": {},
   "outputs": [],
   "source": [
    "from pathlib import Path\n",
    "import warnings\n",
    "\n",
    "import bokeh.io\n",
    "import geopandas as gpd\n",
    "import holoviews as hv\n",
    "import hvplot.pandas  # noqa: API import\n",
    "import numpy as np\n",
    "import pandas as pd\n",
    "import panel as pn\n",
    "from bokeh.resources import INLINE\n",
    "\n",
    "import coastal_dynamics as cd\n",
    "\n",
    "# Activate Panel extension to make interactive visualizations\n",
    "pn.extension()"
   ]
  },
  {
   "cell_type": "code",
   "execution_count": null,
   "id": "a008eeec",
   "metadata": {},
   "outputs": [],
   "source": [
    "import sys\n",
    "\n",
    "sys.path.append('../')\n",
    "\n",
    "from modules import mod_5"
   ]
  },
  {
   "cell_type": "code",
   "execution_count": null,
   "id": "95265f6d-c208-4b3c-b255-5fa11459993c",
   "metadata": {},
   "outputs": [],
   "source": [
    "# Read questions from local file\n",
    "questions = cd.read_questions(Path(\"../hashed_questions/5_coastal_impact_beach_states_hashed.json\"))\n",
    "\n",
    "question_industry = cd.QuestionIndustry(questions)\n",
    "\n",
    "cd.UseAnswersApp(\"5\").serve()"
   ]
  },
  {
   "cell_type": "code",
   "execution_count": null,
   "id": "9884035f-c6d9-4164-a034-f30c0fed3554",
   "metadata": {},
   "outputs": [],
   "source": [
    "# file path\n",
    "fp = Path(\"../database/5_coastal_impact_beach_states/5_data.csv\")\n",
    "\n",
    "# We load this file as a Dataframe\n",
    "df = pd.read_csv(fp, sep=\";\", encoding=\"latin1\", engine=\"python\", decimal=\",\")\n",
    "\n",
    "# We add a column containing the geometry of each entry using geopandas. For this dataset, these are points (longitude, latitude)\n",
    "gdf = gpd.GeoDataFrame(df, geometry=gpd.points_from_xy(df.Longitude, df.Latitude), crs=\"EPSG:4326\")\n",
    "\n",
    "# uncomment to show the (geo)dataframe\n",
    "gdf           "
   ]
  },
  {
   "cell_type": "markdown",
   "id": "824fb13d-a4aa-44c1-9729-2a4e61f3e72a",
   "metadata": {},
   "source": [
    "## Part 1: Get to know the data\n",
    "\n",
    "### Aggregated data set\n",
    "\n",
    "The dataframe (see above) shows a total of 13 beaches from 4 different Brazilian states. These states (from north to south) are Pará, Maranhão, Rio de Janeiro, and Santa Catarina. The dataset has been aggregated and adapted by us for the purposes of this notebook. \n",
    "\n",
    "We have based ourselves on:\n",
    "* [Athanasiou et al. (2023)](https://zenodo.org/records/8200200)\n",
    "* [Klein et al. (2016)](https://link.springer.com/book/10.1007/978-3-319-30394-9)\n",
    "* [Dadalto et al. (2022)](https://www.cambridge.org/core/journals/quaternary-research/article/holocene-morphosedimentary-evolution-of-marambaia-barrier-island-se-brazil/675595DC02D7E9C841FD794F9F0061CB)\n",
    "\n",
    "Specifically, the first source is used to get values for the significant wave height ($H_s$), the peak period ($T$) and the mean tidal range (MTR). The second source is used to get the relative tidal range RTR (see Eq. 4.2 in the book), the mean grain diameter $D$ and the beach slope for the Santa Catarina, Maranhão, and Pará states. The third source is used to get the RTR, the $D$ and the beach slope for the Rio de Janeiro state. Some of the values have been modified slightly for educational purposes. \n",
    "\n",
    "Using the data from the three sources, we computed the wave height at breaking $H_b$, the fall velocity $w_s$ and the dimensionless fall velocity $\\Omega$ and added these to the dataframe. We will not use these computed parameters until Part 3, where we will further explain the parameters and how we computed them computations. \n",
    "\n",
    "We should note that for the Santa Catarina beaches, we had only regional values available for the sediment size, and the beach slope. Therefore, some of these beaches have equal values for the sediment size and beach slope. \n",
    "\n",
    "The regions are displayed in the table below, so you can see which beaches belong to which regions. The region is also part of the above dataframe. \n",
    "\n",
    "| Region (in Santa Catarina) | Coastal section                  | D [mm] | beach slope [degrees] |\n",
    "| :---------------------------------- | :------------------------------- | :----- | :------------------------ |\n",
    "| 1                                   | Barra Velha, <br> Do Ubatuba     | 0\\.300  | 5\\.0                      |\n",
    "| 2                                   | Balnario Camboriu, <br> Tijucas  | 0\\.320  | 5\\.0                      |\n",
    "| 3                                   | Praia do Macambique              | 0\\.300  | 4\\.1                      |\n",
    "| 4                                   | Enseada de Pinheira, <br> Laguna | 0\\.190  | 3\\.0                      |\n",
    "| 5                                   | Campo Bom                        | 0\\.210  | 1\\.8                      |\n",
    "\n",
    "### Warning!\n",
    "At many points in your career, you may have to assess coastal sites based on limited information. Learning to critically interpret datasets aggregated from multiple sources (like this one), and especially to critically assess the accuracy of \"global\" datasets at a local scale is an essential skill for the modern coastal engineer. Athanasiou et al. (2023) for example use a numerical model to compute offshore wave data for sites around the world, whereas Klein et al. (2016) use direct measurements from Brazil. All of this is to say that this data is not presumed to be locally accurate. However, in this context, we use it to compare the Brazilian coastline on a larger regional scale and draw broad conclusions to illustrate the concepts introduced in this course. The $\\Omega$ values as presented in the dataset should be sufficient for qualitatively comparing the different beaches.\n",
    "\n",
    "Nonetheless, we would like to stress that the values should not be interpreted as highly accurate for specific beaches, given the coarse resolution and simplifying assumptions of the global dataset and limited local data. However, they are still useful to get a feel for the surrounding area (and relative differences from other regions), and to get first estimates of the order of magnitude for these parameters."
   ]
  },
  {
   "cell_type": "markdown",
   "id": "9e1e31af-f01e-4c4a-9b87-f6f683a4353b",
   "metadata": {},
   "source": [
    "### Brazilian beaches panel\n",
    "\n",
    "We are now going to create a plot that shows satellite images of the above listed beaches in a separate panel, the Brazilian beaches panel! \n",
    "\n",
    "In this Brazilian beaches panel, satellite images and data from the selected beaches from the Brazilian states of (from north to south) Pará, Maranhão, Rio de Janeiro, and Santa Catarina are shown:\n",
    "- You can select one of the 13 beaches, grouped by state.\n",
    "- You can freely zoom and move around in the presented satellite image.\n",
    "- You can see all of the values from the dataframe when hovering over a data point with the cursor. Some of these values will be needed to answer the questions below.\n",
    "- Please note that altering the slider positions or selecting different options from the dropdown menus may trigger a warning; it can safely be ignored, and possibly silenced by adjusting the logging warning level. \n",
    "\n",
    "Go ahead and run the below code cell!"
   ]
  },
  {
   "cell_type": "code",
   "execution_count": null,
   "id": "7371762f-02f9-4a04-99fd-587ba0240f17",
   "metadata": {},
   "outputs": [],
   "source": [
    "app = mod_5.plot_brazilian_coast(gdf)\n",
    "\n",
    "cd.launch_app(app)"
   ]
  },
  {
   "attachments": {},
   "cell_type": "markdown",
   "id": "7768a848-f236-4713-b639-7e19c35d281b",
   "metadata": {},
   "source": [
    "### Questions about Part 1\n",
    "\n",
    "Now, using the Brazilian beaches panel, try to answer the questions below. For each question, try to relate your answer to the satellite imagery. \n",
    "\n",
    "**Note**: Remember that we are working with an aggregated dataset. Each data point should be interpreted as representative of the region around it, and not as specific to that beach. How well do the provided data match what you see in the satellite images? What clues can you look for to check whether the data look reasonable?"
   ]
  },
  {
   "cell_type": "code",
   "execution_count": null,
   "id": "34e0c15c-135d-4490-83e8-7c0cb4dd57e2",
   "metadata": {},
   "outputs": [],
   "source": [
    "q = [\n",
    "    \"Q5a-highest_MTR\",\n",
    "    \"Q5a-highest_Hs\",\n",
    "    \"Q5a-Marambaia_barrier\",\n",
    "    \"Q5a-alongshore_transport\",\n",
    "]\n",
    "\n",
    "question_industry.serve(q)"
   ]
  },
  {
   "cell_type": "markdown",
   "id": "eda2d65f-0c9e-44cf-bdd0-d345042e05a5",
   "metadata": {},
   "source": [
    "## Part 2: Classification based on relative wave and tide influence\n",
    "\n",
    "The Brazilian coast has tides ranging from 0.5 to 11 m and waves from low to high. We can therefore find very diverse beaches. In Part 1, you have seen that the beaches in the Southern states are wave-dominated and that the influence of tides becomes significant for the Northern states. Let's look into this a bit further. \n",
    "\n",
    "There a a few methods to classify coastal systems and beaches based on the relative influence of waves and tides; have a look at Chapter 4.4.2 in the textbook. Coasts can be classified into three types based on relative tide range RTR, as described above (see Eq. 4.2 in the book). This parameter quantifies the relative contribution of waves and tides. We can also investigate the relative influence of waves and tides by using a figure as Figure 4.13. Let's try to classify some of the coastal sections using the mean tidal range (MTR) and mean significant wave height ($H_s$)! We plot some of the Brazilian coasts and see how they are classified using the figure. \n",
    "\n",
    "Run the below cell to generate this plot. \n",
    "\n",
    "**Note**: Again, you can hover over points to get relevant values. You can also highlight points by clicking the labels in the legend."
   ]
  },
  {
   "cell_type": "code",
   "execution_count": null,
   "id": "7cc68af6-7022-4d38-9afa-f00d1cc01cb0",
   "metadata": {},
   "outputs": [],
   "source": [
    "mod_5.fig413(gdf)"
   ]
  },
  {
   "cell_type": "markdown",
   "id": "ec0d09f7-b375-4221-98e3-b285ae8dacdf",
   "metadata": {},
   "source": [
    "### Questions about Part 2\n",
    "\n",
    "Using the above figure, and the Brazilian beaches plot, answer the questions below. \n",
    "\n",
    "Don't forget to also have a look at the relative tidal ranges (RTR) for the different beaches! To do so, hover over points to get relevant values. highlight points by clicking the labels in the legend.\n",
    "\n",
    "#### Some notes on the RTR classification\n",
    "The maximum RTR for this specific dataset is quite small, but it can be much bigger (for instance values of 10-50). When waves are relatively high and tides low (RTR < 3) beaches are wave-dominated. When waves are very low and the tide relatively high (RTR larger then, say, 15) the coast becomes tide-dominated and gradually approaches the pure tidal flat situation. In the intermediate range, we will still have beaches shaped by waves, but they carry some distinct tidal characteristics. They are called tide-dominated beaches in this notebook, but you will also find the term *tide-modified* in literature. The RTR values for the selected Pará and São Luís beaches hint towards wave-shaped beaches with significant tidal influence."
   ]
  },
  {
   "cell_type": "code",
   "execution_count": null,
   "id": "5e20d77b-b4d7-4e6d-a349-83a23db8a9cd",
   "metadata": {},
   "outputs": [],
   "source": [
    "q = [\n",
    "    \"Q5a-Princesa_Tijucas\",\n",
    "    \"Q5a-Ajuruteua\",\n",
    "    \"Q5a-SaoLuis_DoUbatuba\",\n",
    "    \"Q5a-fluvial_sediment\",\n",
    "    \"Q5a-tombolo\",\n",
    "]\n",
    "\n",
    "question_industry.serve(q)"
   ]
  },
  {
   "cell_type": "markdown",
   "id": "16dce8c3-b9bb-412c-85d5-c7f9d7a5c187",
   "metadata": {},
   "source": [
    "## Part 3: Beach states\n",
    "\n",
    "We will now explore the topic of beach states. We will focus on the wave-dominated coastal sections (i.e., the coastal sections from the Rio de Janeiro and Santa Catarina coastline). From Section 7.3 of the book, you know that a wave-dominated beach may be classified as reflective or dissipative, or an intermediate state in between. Note that there is a broad spectrum of intermediate beach states. In this notebook, we will not look at this in detail and make some broad generalizations. For instance, we call higher intermediate states (i.e.,  “more dissipative” and lower intermediate states “more reflective”. \n",
    "\n",
    "**Note** that the coastal sections considered as wave-dominated here all have a relative tidal range of lower than 3.\n",
    "\n",
    "### Theory\n",
    "A common classifier used besides the Iribarren number is the dimensionless fall velocity, which is calculated as follows (see Eq. 7.8 from the book): \n",
    "$$\n",
    "\\Omega = \\frac{H_b}{w_s T}\n",
    "$$\n",
    "where $H_b$ is the wave height at breaking, $T$ is the wave period and $w_s$ is the fall velocity. \n",
    "\n",
    "$\\Omega$ quantifies the relative contribution of wave height and period and sediment grain size (expressed as sediment fall velocity) to beach morphodynamics. When waves are relatively low, periods long and sand coarse ($\\Omega < 1$), the beaches are narrow without bars and called reflective. When waves are moderate to high ($2 < \\Omega < 5$), the beaches usually have one or two bars cut by rip channels and currents. When wave are high and sand is fine (($\\Omega > 6$) the beaches become wide and dissipative with often multiple shore-parallel sand bars. A recent, very nice overview of beach states is shown in [Castelle and Masselink (2022)](https://doi.org/10.1017/cft.2022.2). \n",
    "\n",
    "### Computations \n",
    "Using the data from the three sources, we computed the wave height at breaking $H_b$, the fall velocity $w_s$ and the dimensionless fall velocity $\\Omega$. These values are added to the loaded dataframe and to the satellite images, for you to inspect.\n",
    "\n",
    "We computed the wave height at breaking $H_b$ as MTR/RTR, using Eq. 4.2 in the book and ignoring any differences between the mean tidal range and the mean spring tidal range. The fall velocity $w_s$ was calculated using Soulsby (1997). You don't have to remember this equation, but it is included here for completeness:\n",
    "\n",
    "$$ w_s = \\frac{\\nu_{kin}}{D} \\left( \\sqrt{10.36^2 + 1.049 * (D_{*}^3)} - 10.36 \\right) $$\n",
    "with\n",
    "$ D_{*} = \\left(\\frac{(\\rho_s / \\rho_w - 1)g}{\\nu_{kin}^2}\\right) ^{1/3} D $, $g=9.81$ m/s$^2$, $\\nu_{kin}=1.36 \\cdot 10^{-6}$ m$^2$/s, $\\rho_w=1027$ kg/m$^3$, $\\rho_s=2650$ kg/m$^3$\n",
    "\n",
    "### Beach slope versus sediment size plot\n",
    "\n",
    "Klein et al. (2005) use beach slope and sediment size as a proxy for classifying wave-dominated beaches with different exposure, see also Figure 7.10 in the book. Let's try this for ourselves! We include all 13 beaches, so not only the wave-dominated beaches but the tidally influenced ones as well.\n",
    "\n",
    "As pointed out in Part 1, we had only regional values available for the sediment size, and the beach slope of the Santa Catarina beaches.  Therefore, some of these beaches have equal values for the sediment size and beach slope; they will therefore plot on top of each other in the below figure. This is also the likely reason that we don't really see any reflective beaches, at least with respect to the data. Note that different coastal sections might still have varying dimensionless fall velocity, even if they are within the same region (you can check the values from the dataframe or data with the satellite imagery). Think about why this is the case.\n",
    "\n",
    "You can now run the below cell to get the plot. \n",
    "\n",
    "**Note**: Again, you can hover over points to get relevant values. You can remove or add locations by (de)selecting them using the checkboxes. Note that this may change the color of each point, which is updated accordingly in the legend."
   ]
  },
  {
   "cell_type": "code",
   "execution_count": null,
   "id": "39554350-c991-4fa5-8cf8-addb48a3dce4",
   "metadata": {},
   "outputs": [],
   "source": [
    "mod_5.fig710(df)"
   ]
  },
  {
   "cell_type": "markdown",
   "id": "26f694bf-4ebc-4c9e-9cfe-0e8fba12619c",
   "metadata": {},
   "source": [
    "### Questions about Part 3\n",
    "\n",
    "Using the figure above, as well as the Brazilian beaches panel with satellite imagery, try to answer the questions below."
   ]
  },
  {
   "cell_type": "code",
   "execution_count": null,
   "id": "2b64f22b-5bf9-4145-8b2f-693c27ecc198",
   "metadata": {},
   "outputs": [],
   "source": [
    "q = [\n",
    "    \"Q5b-grain_size_slope\",\n",
    "    \"Q5b-beach_characteristics_error\",\n",
    "    \"Q5b-lowest_dimless_fall_velocity\",\n",
    "    \"Q5b-value_fall_velocity_CamboBom\",\n",
    "    \"Q5b-number_of_bars\",\n",
    "    \"Q5b-reflective_or_dissipative\",\n",
    "    \"Q5b-beach_state\",\n",
    "    \"Q5b-value_fall_velocity_EnseadaDePinheira\",\n",
    "    \"Q5b-characteristics_reflective_beach1\",\n",
    "    \"Q5b-characteristics_reflective_beach2\",\n",
    "    \"Q5b-BarraVelha\",\n",
    "    \"Q5b-compare_dimless_fall_velocity\",\n",
    "    \"Q5b-coastal_appreciation\",\n",
    "]\n",
    "\n",
    "question_industry.serve(q)"
   ]
  },
  {
   "cell_type": "markdown",
   "id": "e16ed184-d3c7-4179-9aac-ce8d672b0495",
   "metadata": {},
   "source": [
    "## Disclaimer\n",
    "\n",
    "When using satellite images to investigate coastal sites, bear in mind several important limitations: the image captures only a snapshot in time, and may therefore not be representative of average or extreme conditions. For example, an image taken at low tide in calm conditions might give a very different impression from an image at high tide in rough conditions. This is further complicated by the frequent presence of clouds, especially in stormy weather. Usually studies analyzing remotely-sensed coastal systems average together images from multiple time periods to get a better idea of the system's behaviour. Furthermore, the imagery dataset used in this notebook is updated automatically from year to year, so some of the beach conditions described above may have changed since we developed it in March 2025. Remote sensing is an exciting new frontier for coastal engineering and geoscience, but as with any data source, it is important to ask critical questions about what you are looking at. \n",
    "\n",
    "## The end\n",
    "\n",
    "You have reached the end of this notebook 5. This was the only notebook of this week.\n"
   ]
  }
 ],
 "metadata": {
  "kernelspec": {
   "display_name": "coastalcodebook",
   "language": "python",
   "name": "python3"
  },
  "language_info": {
   "codemirror_mode": {
    "name": "ipython",
    "version": 3
   },
   "file_extension": ".py",
   "mimetype": "text/x-python",
   "name": "python",
   "nbconvert_exporter": "python",
   "pygments_lexer": "ipython3",
   "version": "3.13.1"
  }
 },
 "nbformat": 4,
 "nbformat_minor": 5
}
