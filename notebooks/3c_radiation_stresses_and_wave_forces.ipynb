{
 "cells": [
  {
   "cell_type": "markdown",
   "id": "a57196e5-eb53-4eab-8bb2-b11c2a313e56",
   "metadata": {},
   "source": [
    "<figure>\n",
    "  <img src=\"../images/tudelft_logo.png\" alt=\"image\" width=\"250\" align=\"right\"/>\n",
    "</figure>"
   ]
  },
  {
   "cell_type": "markdown",
   "id": "55200145-c32c-444e-b925-9e73e173cf2a",
   "metadata": {},
   "source": [
    "# 3c: Radiation stresses and wave forces"
   ]
  },
  {
   "cell_type": "markdown",
   "id": "75e92d3c-f6b9-40c4-9fe1-3082483a6ff7",
   "metadata": {
    "jp-MarkdownHeadingCollapsed": true
   },
   "source": [
    "## Introduction\n",
    "\n",
    "This notebook is the last of the three notebooks for this week. It deals with wave transformation and wave forces in the nearshore for *obliquely incident waves*. We assume an *alongshore uniform* coast. \n",
    "\n",
    "In the Waves Unit of CIEM3000, you have worked on a notebook on linear theory and wave transformation. You have used linear wave theory and a simple breaking model to calculate the evolution of regular, normally incident waves of varying heights and periods over a planar beach, and used the results to calculate the radiation stress $S_{xx}$ and resulting variations of the mean water level. \n",
    "\n",
    "In this notebook, we will extend this to obliquely incident waves, radiation shear stresses $S_{yx}$ and alongshore current. We will not only consider radiation normal and shear stresses, but explicitly look at their cross-shore gradients as well. These cross-shore gradients lead to the wave forces responsible for wave set-down and set-up and longshore current.\n",
    "\n",
    "The notebook consists of two parts: \n",
    "1. Wave transformation of several wave parameters like wave length $L$, phase celerity $c$, wave angle $\\theta$ and wave height $H$ as they vary in the cross-shore. This part consists of coding exercises and *five* reflective multiple-selection questions.\n",
    "2. Radiation stresses $S_{xx}$ and $S_{yx}$, wave forces $F_x$ and $F_y$ and the effect on mean water level variations $\\eta$ and alongshore current $V$. This part consists of coding exercises and *seven* reflective multiple-selection questions. \n",
    "\n",
    "You will need to apply the dispersion relationship in the cross-shore, which was discussed in the Waves Unit and Notebooks 2a and 2b. So, please find your Fenton approximation to the dispersion relationship again and copy it into the indicated cell of this notebook."
   ]
  },
  {
   "cell_type": "markdown",
   "id": "3b285113-3dc5-452d-9c32-2d11630b72fb",
   "metadata": {},
   "source": [
    "## Import libraries that we use for our analysis\n",
    "\n",
    "Let's first import the libraries that we use for our analysis by running the next cells."
   ]
  },
  {
   "cell_type": "code",
   "execution_count": null,
   "id": "59f51bad-f362-48d4-b5c5-9dd22f07579a",
   "metadata": {},
   "outputs": [],
   "source": [
    "from pathlib import Path\n",
    "\n",
    "import numpy as np\n",
    "import holoviews as hv\n",
    "import panel as pn\n",
    "\n",
    "import coastal_dynamics as cd\n",
    "\n",
    "pn.extension()"
   ]
  },
  {
   "cell_type": "code",
   "execution_count": null,
   "id": "410799b2",
   "metadata": {},
   "outputs": [],
   "source": [
    "import sys\n",
    "\n",
    "sys.path.append('../')\n",
    "\n",
    "from modules import mod_3c"
   ]
  },
  {
   "cell_type": "code",
   "execution_count": null,
   "id": "67446374-893c-48f7-bca5-7d4221c5b720",
   "metadata": {},
   "outputs": [],
   "source": [
    "questions = cd.read_questions(Path(\"../hashed_questions/3c_radiation_stresses_and_wave_forces_hashed.json\"))\n",
    "\n",
    "question_industry = cd.QuestionIndustry(questions)\n",
    "\n",
    "cd.UseAnswersApp(\"3c\").serve()"
   ]
  },
  {
   "cell_type": "markdown",
   "id": "2f14150d-6c38-4799-81e3-d2d31e9c3714",
   "metadata": {},
   "source": [
    "## Fenton approximation\n",
    "\n",
    "Also in this notebook, you will need the Fenton approximation for solving the dispersion relationship. Copy your code in the below cell."
   ]
  },
  {
   "cell_type": "code",
   "execution_count": null,
   "id": "bef0ae0f-af40-4c1f-be02-41233425d739",
   "metadata": {},
   "outputs": [],
   "source": [
    "## Fenton approximation to the linear dispersion relationship\n",
    "def waveNumber_Fenton(T, h):\n",
    "    \"\"\"Complete the code here\"\"\"\n",
    "    k = None\n",
    "    \n",
    "    return k\n",
    "\n"
   ]
  },
  {
   "cell_type": "markdown",
   "id": "17205ca8-dfd6-4622-8482-c64cfd445857",
   "metadata": {},
   "source": [
    "## Part 1: Wave transformation obliquely incident waves\n",
    "\n",
    "In Waves (CIEM3000) you (should) have coded the computation of several wave parameters in a cross-shore profile, for (mainly) normally incident waves. You can build on this code below, while generalizing it to obliquely incident waves. \n",
    "\n",
    "First, let's define the input values and bed profile.\n",
    "\n",
    "### Input values\n",
    "The input consists of: \n",
    "1. Bed profile defined by a water depth (*h_off*) at the most offshore location and a linear bed slope (*slope*). \n",
    "2. Wave parameters: wave period (*T*) and the wave height (*H_off*) and wave angle (*theta_off*) at the offshore boundary of the domain\n",
    "3. Water density *rho* and breaker parameter *gamma*\n",
    "\n",
    "### Bed profile\n",
    "We have prepared a function for you that defines the bed profile (cross-shore position and corresponding depth) using the above mentioned input values for *h_off* and *slope*. The below cell calls the function to get the cross-shore position *x* and corresponding water depth *h*. The cell also plot the profiles with *x* on the horizontal axis and $z = -h$ on the vertical axis. Note that *x* is defined positive shorewards, with *x* = 0 at the coastline. Check that the resulting profile corresponds to the chosen input values for *h_off* and *slope*."
   ]
  },
  {
   "cell_type": "code",
   "execution_count": null,
   "id": "bdb39be4-b34b-4dee-bf1f-e900fd295d16",
   "metadata": {},
   "outputs": [],
   "source": [
    "# Run this cell to define the input and plot the bed profile\n",
    "# Choose the input values \n",
    "input_values = {\n",
    "    \"H_off\": 2.0,             # offshore wave height [m]\n",
    "    \"T\": 8,                   # wave period [s]\n",
    "    \"h_off\": 20,              # water depth at offshore boundary [m]\n",
    "    \"slope\": 1 / 100,         # bed profile slope [-]\n",
    "    \"rho\": 1025,              # water density [kg/m^3]\n",
    "    \"theta_off\": 30,          # wave angle at offshore boundary [degrees]\n",
    "    \"gamma\": 0.8,             # wave breaking parameter [-]\n",
    "}\n",
    "\n",
    "# Do not change this line\n",
    "H_off, T, h_off, slope, rho, theta_off, gamma = input_values.values()\n",
    "\n",
    "# Define the cross-shore profile calling a pre-defined function. \n",
    "# The function outputs a vector for x-axis x_rev and the water depth h\n",
    "h, x,*_ = mod_3c.depth_xrange(slope, h_off)\n",
    "\n",
    "# Plot the cross-shore profile\n",
    "bed_lvl = hv.Curve((x, -h),label=\"Bed (1:\" + str(round(1 / slope)) + \")\",).opts(color=\"black\")\n",
    "water_lvl = hv.Curve(([np.min(x), 0], [0, 0]), label=\"MSL\").opts(color=\"gray\")\n",
    "figure_h = hv.Overlay(bed_lvl * water_lvl)\n",
    "figure_h.opts(\n",
    "    title=\"cross-shore profile\",\n",
    "    width=500, height=300,\n",
    "    legend_position=\"bottom_right\",\n",
    "    ylabel=\"z = -h [m]\",\n",
    "    xlabel=\"cross-shore location [m]\",\n",
    "    padding=((0, 0.05), 0.1))\n",
    "\n",
    "print(input_values)   \n",
    "display(figure_h)"
   ]
  },
  {
   "cell_type": "markdown",
   "id": "509e239b-1170-4678-9b2d-46ff19c166bc",
   "metadata": {},
   "source": [
    "### Coding exercise: the transformation of several wave parameters\n",
    "In the below code cell, add code to the function *wave_transformation* to compute: \n",
    "- Wave length L (m)\n",
    "- Phase celerity c (m/s)\n",
    "- Parameter n = cg / c (-)\n",
    "- Group velocity cg (m/s)\n",
    "- Wave angle theta (degrees)\n",
    "- Shoaling coefficient Ksh (-)\n",
    "- Refraction coefficient Kr (-)\n",
    "- Wave height H (m)\n",
    "- Wave energy E (J/m^2)\n",
    "\n",
    "When you run the below cell, your variables will be compared with and plotted against the correct variables. \n",
    "Note that the above-defined input values will be used. If you leave the code cell unchanged, your answers will be assumed to be zero by default."
   ]
  },
  {
   "cell_type": "code",
   "execution_count": null,
   "id": "a903c1f3-af10-46e5-bfc3-8d086a18923b",
   "metadata": {},
   "outputs": [],
   "source": [
    "def wave_transformation(H_off, T, h_off, slope, rho, theta_off, gamma):    \n",
    "   \n",
    "    # Define the water depth (h) values. \n",
    "    h, *_ = mod_3c.depth_xrange(slope, h_off)\n",
    "      \n",
    "    # Use this value for the acceleration of gravity\n",
    "    g = 9.81     # acceleration of gravity [m/s^2]\n",
    "\n",
    "    \"\"\"Complete the code here for the following parameters for each cross-shore location\"\"\"\n",
    "    \"\"\"Write your variables in terms of h, H_off, T, h_off, slope, rho, theta_off, gamma\"\"\"\n",
    "    \"\"\"Make sure that your function is valid regardless of whether or not the offshore boundary represents deep water\"\"\"\n",
    "    \n",
    "    L = None        # Wave length [m]\n",
    "    c = None        # Phase celerity [m/s]\n",
    "    n = None        # n [-]\n",
    "    cg = None       # Group velocity [m/s]\n",
    "    theta = None    # Wave angle [degrees]\n",
    "    Ksh = None      # The shoaling coefficient [-]\n",
    "    Kr = None       # The refraction coefficient [-]\n",
    "    H = None        # The wave height [m]\n",
    "    E = None        # The wave energy [J/m^2]\n",
    "\n",
    "\n",
    "    return L, c, n, cg, theta, Ksh, Kr, H, E\n",
    "\n",
    "output, figure = mod_3c.check_wave_transformation(input_values, [wave_transformation])\n",
    "print(output)\n",
    "display(figure)"
   ]
  },
  {
   "cell_type": "markdown",
   "id": "2417cb5f-02be-4ce4-92b1-628ac7772e51",
   "metadata": {},
   "source": [
    "### Summarizing figure\n",
    "\n",
    "Now that you have computed the basic wave transformation characteristics, we summarize these in a figure that may help you reflect on the results. The figure gives the cross-shore distribution of the same wave characteristics, but now for two different wave conditions that you can change using the sliders. You can use this figure to answer the reflective questions below."
   ]
  },
  {
   "cell_type": "code",
   "execution_count": null,
   "id": "3a71b950-508b-4a71-a49b-256809171474",
   "metadata": {},
   "outputs": [],
   "source": [
    "app = mod_3c.pop_wave_transformation()\n",
    "\n",
    "cd.launch_app(app)"
   ]
  },
  {
   "cell_type": "markdown",
   "id": "0f8fcbce-557d-41e2-a38a-30926cb2d28d",
   "metadata": {},
   "source": [
    "### Reflective questions\n",
    "\n",
    "Run the next cell for five multiple-selection questions, which you can answer using the summarizing figure. With each question, try to also think of the *why* behind it."
   ]
  },
  {
   "cell_type": "code",
   "execution_count": null,
   "id": "ddb31d87-9cdc-4304-8cb5-145dd989fa29",
   "metadata": {},
   "outputs": [],
   "source": [
    "q = [\n",
    "    \"Q3c-boundary\",\n",
    "    \"Q3c-period\",\n",
    "    \"Q3c-angle\",\n",
    "    \"Q3c-increasing_breaking_height\",\n",
    "    \"Q3c-increasing_surf_zone_width\"\n",
    "]\n",
    "\n",
    "question_industry.serve(q)"
   ]
  },
  {
   "cell_type": "markdown",
   "id": "bb378c1f-7267-4ab0-a15b-eb1cbee22bf3",
   "metadata": {},
   "source": [
    "## Part 2: Effect of waves on mean water level and flow\n",
    "\n",
    "### Theory\n",
    "Now that we are able to compute the wave transformation in the cross-shore, we will continue with the effect of wave forces on the mean water level and mean flow. Make sure you have read Section 5.5 of the [Coastal Dynamics Open Textbook](https://books.open.tudelft.nl/home/catalog/book/202).\n",
    "\n",
    "For an alonghore uniform coast, the cross-shore wave force $F_x$ is determined by the *cross-shore gradient* of the radiation normal stress $S_{xx}$, with $S_{xx}$ given by Eq. (5.53a) in the textbook. This wave force is balanced by a pressure force due to a water level gradient (see also Eq. (5.60) in the textbook):\n",
    "\n",
    "\\begin{equation}\n",
    "\\tag{1}\n",
    "F_x = - \\frac{dS_{xx}}{dx} = \\rho g h \\frac{d \\overline{\\eta}}{dx} \n",
    "\\end{equation} \n",
    "\n",
    "As you can see in Eq. (5.60), $h$ in this equation is the sum of the water depth $h_0$ without the presence of waves and $\\overline{\\eta}$. For simplicity, we are going to solve Eq. (1) assuming $h = h_0$, like we did in Part 1. This implies that we do not account for the beach width that is 'lost' due to set-up. An illustration hereof is shown in Figure 5.35 in the textbook: \n",
    "\n",
    "<img src=\"../images/3_tides_nonlinearity/5_shore_side_force-equilibrium-setdown-setup-breaker-zone-autoconversie-300dpi-1.png\"\n",
    "     style=\"display:block;float:none;margin-left:20%;margin-right:auto;width:60%\">\n",
    "\n",
    "Note that the formulations for maximum set-down and set-up, shown in this figure, are analytically determined for normally incident waves and under the assumption of shallow water (pages 216-218 of the textbook).\n",
    "\n",
    "Following week 1.5 of the MUDE and the first Wave Computer Lab, Eq. (1) can be discretized using forward Euler. This leads to: \n",
    "\n",
    "\\begin{equation}\n",
    "\\tag{2a}\n",
    "F_{x,i} = - \\frac{S_{xx,i+1}-S_{xx,i}}{x_{i+1}-x_{i}} \n",
    "\\end{equation} \n",
    "\n",
    "\\begin{equation}\n",
    "\\tag{2b}\n",
    "\\overline{\\eta}_{i+1}=\\overline{\\eta}_{i} - \\frac{S_{xx,i+1}-S_{xx,i}}{\\rho g h_i}\n",
    "\\end{equation} \n",
    "\n",
    "For an alonghore uniform coast, the alongshore wave force $F_y$ is determined by the *cross-shore gradient* of the radiation shear stress $S_{yx}$, with $S_{yx}$ given by Eq. (5.53c) in the textbook. This wave force is balanced by a pressure force due to a water level gradient (see also Eq. (5.72) in the textbook):\n",
    "\n",
    "\\begin{equation}\n",
    "\\tag{3}\n",
    "F_y = - \\frac{dS_{yx}}{dx} = \\overline{\\tau}_{b,y} \n",
    "\\end{equation} \n",
    "\n",
    "and using forward Euler: \n",
    "\n",
    "\\begin{equation}\n",
    "\\tag{4}\n",
    "F_{y,i} = - \\frac{S_{yx,i+1}-S_{yx,i}}{x_{i+1}-x_{i}} \n",
    "\\end{equation} \n",
    "\n",
    "To compute the longshore current velocity, you can use Eq. (5.82) in the textbook and approximate $h$ again as $h_0$ (the mean water depth without wave-induced water level variations $\\overline{\\eta}$). You will also be asked to compute the near-bed orbital velocity amplitude according to linear wave theory, see Eq. (5.27) in the textbook."
   ]
  },
  {
   "cell_type": "markdown",
   "id": "78bb6182-7240-4fec-9157-e15f3d0247bb",
   "metadata": {},
   "source": [
    "### How to use the results of Part 1 as a starting point?\n",
    "\n",
    "Let's first determine the input for the computations of Part 2. You have the following options in the below code cell: \n",
    "1. If your function *wave_transformation* was correct, choose in the below code cell: \"wave_transformation_function = True\" and select input values. By running the cell the wave parameters L, c, n, cg, theta, Ksh, Kr, H and E are computed from your function *wave_transformation* with the chosen input values as input. \n",
    "2. If your function *wave_transformation* was incorrect, choose in the below code cell: \"wave_transformation_function = False\". By now running the cell, the wave parameters L, c, n, cg, theta, Ksh, Kr, H and E are loaded from file and the corresponding input values are assigned (do not change these; they correspond to the pre-calculated values).\n",
    "\n",
    "#### Input at offshore boundary\n",
    "Note that in Part 1, it was *not* necessary for the wave conditions at the offshore boundary to represent deep water. In this Part 2, this is different, since the solution to Eq. (2b) requires that $\\overline{\\eta} = 0$ at the offshore boundary. Therefore, if you choose \"wave_transformation_function = True\", you now have to make sure the input parameters (the ones you choose in the below cell for your offshore boundary conditions) represent deep water. If you choose \"wave_transformation_function = False\", the input parameters are fixed (we have chosen them such that they represent deep water)."
   ]
  },
  {
   "cell_type": "code",
   "execution_count": null,
   "id": "f1990320-52ad-452c-ac50-a8c0ff8a888d",
   "metadata": {},
   "outputs": [],
   "source": [
    "# Choose whether to load pre-calculated values or to continue with your above defined function wave_transformation\n",
    "wave_transformation_function = False\n",
    "\n",
    "if wave_transformation_function:\n",
    "    # Choose the input values. Make sure / verify the offshore boundary is now in deep water.\n",
    "    # (since we will assume that the set-down is zero at the offshore boundary)\n",
    "    input_values = {\n",
    "        \"H_off\": 2.0,             # offshore wave height [m]\n",
    "        \"T\": 5,                   # wave period [s]\n",
    "        \"h_off\": 25,              # water depth at offshore boundary [m]\n",
    "        \"slope\": 1 / 100,         # bed profile slope [-]\n",
    "        \"rho\": 1025,              # water density [kg/m^3]\n",
    "        \"theta_off\": 30,          # wave angle at offshore boundary [degrees]\n",
    "        \"gamma\": 0.8,             # wave breaking parameter [-]\n",
    "    }\n",
    "    # Do not change these lines:\n",
    "    H_off, T, h_off, slope, rho, theta_off, gamma = input_values.values()  \n",
    "    L, c, n, cg, theta, Ksh, Kr, H, E = wave_transformation(H_off, T, h_off, slope, rho, theta_off, gamma)\n",
    "else:\n",
    "    # Do not change:\n",
    "    fp_L = \"../database/3_tides_nonlinearity/L_values.txt\"\n",
    "    fp_c = \"../database/3_tides_nonlinearity/c_values.txt\"\n",
    "    fp_n = \"../database/3_tides_nonlinearity/n_values.txt\"\n",
    "    fp_cg = \"../database/3_tides_nonlinearity/cg_values.txt\"\n",
    "    fp_angle = \"../database/3_tides_nonlinearity/θ_values.txt\"\n",
    "    fp_Ksh = \"../database/3_tides_nonlinearity/Ksh_values.txt\"\n",
    "    fp_Kr = \"../database/3_tides_nonlinearity/Kr_values.txt\"\n",
    "    fp_H = \"../database/3_tides_nonlinearity/H_values.txt\"\n",
    "    fp_E = \"../database/3_tides_nonlinearity/E_values.txt\"\n",
    "    \n",
    "    L = np.loadtxt(fp_L)\n",
    "    c = np.loadtxt(fp_c)\n",
    "    n = np.loadtxt(fp_n)\n",
    "    cg = np.loadtxt(fp_cg)\n",
    "    theta = np.loadtxt(fp_angle)\n",
    "    Ksh = np.loadtxt(fp_Ksh)\n",
    "    Kr = np.loadtxt(fp_Kr)\n",
    "    H = np.loadtxt(fp_H)\n",
    "    E = np.loadtxt(fp_E)\n",
    "\n",
    "    # Do not change these input values, they correspond to the pre-computed wave transformation parameters!\n",
    "    input_values = {\n",
    "        \"H_off\": 2.0,             # offshore wave height [m]\n",
    "        \"T\": 5,                   # wave period [s]\n",
    "        \"h_off\": 25,              # water depth at offshore boundary [m]\n",
    "        \"slope\": 1 / 100,         # bed profile slope [-]\n",
    "        \"rho\": 1025,              # water density [kg/m^3]\n",
    "        \"theta_off\": 30,          # wave angle at offshore boundary [degrees]\n",
    "        \"gamma\": 0.8,             # wave breaking parameter [-]\n",
    "    }\n",
    "\n",
    "print(input_values)    "
   ]
  },
  {
   "cell_type": "markdown",
   "id": "b02b46e2-29b9-4a81-80f1-ffc9bc533eb4",
   "metadata": {},
   "source": [
    "### Coding exercise: radiation stresses, wave forces and effects on mean water level and flow\n",
    "In the below code cell, add code to the function *radiation_stresses* to compute: \n",
    "- Near-bed orbital velocity amplitude u0 (m/s)\n",
    "- Radiation normal stress Sxx (N/m)\n",
    "- Wave force Fx (N/m²)\n",
    "- Mean water level variation (set-down and set-up) η (m)\n",
    "- Radiation shear stress Syx (N/m)\n",
    "- Wave force Fy (N/m²)\n",
    "- Longshore current velocity V (m/s)\n",
    "\n",
    "When you run the below cell, your variables will be compared with and plotted against the correct variables. If you leave the code cell unchanged, your answers will be assumed to be zero by default.\n",
    "\n",
    "Note that the above-defined input values and values for L, c, n, cg, theta, Ksh, Kr, H, E are available in the function *radiation_stresses*. As the first line in the below code cell, an extra input parameter is appended: the friction coefficient to be used in Eq. (5.82) in the textbook."
   ]
  },
  {
   "cell_type": "code",
   "execution_count": null,
   "id": "0bf515d7-a7e6-4bab-b108-4f258ce9f90c",
   "metadata": {},
   "outputs": [],
   "source": [
    "# Add a value of cf to the input_values dictionary\n",
    "input_values[\"cf\"] = 0.01     # friction coefficient for the alongshore velocity [-]\n",
    "\n",
    "def radiation_stresses(input_values, L, c, n, cg, theta, Ksh, Kr, H, E):\n",
    "    \n",
    "    H_off, T, h_off, slope, rho, theta_off, gamma, cf = input_values.values()\n",
    "    \n",
    "    h, x,*_ = mod_3c.depth_xrange(slope, h_off)\n",
    "    \n",
    "    g = 9.81\n",
    "\n",
    "    \"\"\"Complete the code here for the following parameters for each cross-shore location\"\"\"\n",
    "    \"\"\"Write your variables in terms of h, H_off, T, h_off, slope, rho, theta_off, gamma, cf\"\"\"\n",
    "    \"\"\"And in terms of  L, c, n, cg, theta, Ksh, Kr, H, E (for as far needed)\"\"\"\n",
    "    \n",
    "    u0 = None\n",
    "    Sxx = None\n",
    "    Fx = None\n",
    "    eta = None\n",
    "\n",
    "    Syx = None\n",
    "    Fy = None\n",
    "    V = None\n",
    "    \n",
    "    \n",
    "    return Sxx, Fx, eta, Syx, Fy, V, u0\n",
    "\n",
    "output, figure = mod_3c.check_radiation_stresses(input_values, L, c, n, cg, theta, Ksh, Kr, H, E, [radiation_stresses])\n",
    "print(output)\n",
    "display(figure)"
   ]
  },
  {
   "cell_type": "markdown",
   "id": "369eb2a5-eef8-464e-8a39-15f87cdc427c",
   "metadata": {},
   "source": [
    "### Summarizing figure\n",
    "\n",
    "Now that you have computed the radiation stresses, wave forces, wave-induced water level variation and longshore current, we summarize these in a figure that may help you reflect on the results. The figure gives the cross-shore distribution of several wave characteristics for two different wave conditions that you can change using the wave conditions. Note again, that the computation of $\\overline{\\eta}$ assumes $\\overline{\\eta} = 0$ at the offshore boundary. You can use this figure to answer the reflective questions below."
   ]
  },
  {
   "cell_type": "code",
   "execution_count": null,
   "id": "207cb996-69c4-47c6-9f06-200ab703f241",
   "metadata": {},
   "outputs": [],
   "source": [
    "app = mod_3c.pop_radiation_stresses()\n",
    "\n",
    "cd.launch_app(app)"
   ]
  },
  {
   "cell_type": "markdown",
   "id": "b2f26d72-5a36-4901-937c-52e1a7813fa1",
   "metadata": {},
   "source": [
    "### Reflective questions\n",
    "\n",
    "Run the next cell for seven multiple-selection questions, which you can answer using the summarizing figure(s). With each question, try to also think of the *why* behind it."
   ]
  },
  {
   "cell_type": "code",
   "execution_count": null,
   "id": "09281e64-aeb7-45b7-af52-b9861da3b1ba",
   "metadata": {},
   "outputs": [],
   "source": [
    "q = [\n",
    "    \"Q3c-angle-part2\",\n",
    "    \"Q3c-fx-fy\",\n",
    "    \"Q3c-breaking_wave_height-part2\",\n",
    "    \"Q3c-slope-part2\",\n",
    "    \"Q3c-longshoretransport\",\n",
    "    \"Q3c-cross_shoretransport1\",\n",
    "    \"Q3c-cross_shoretransport2\"\n",
    "]\n",
    "\n",
    "question_industry.serve(q)"
   ]
  },
  {
   "cell_type": "markdown",
   "id": "03bff8d0-187d-48e4-b7bf-f861d08fa2be",
   "metadata": {},
   "source": [
    "### The end\n",
    "\n",
    "You have reached the end of Notebook 3c. This was the last notebook of this week."
   ]
  }
 ],
 "metadata": {
  "kernelspec": {
   "display_name": "Python 3 (ipykernel)",
   "language": "python",
   "name": "python3"
  },
  "language_info": {
   "codemirror_mode": {
    "name": "ipython",
    "version": 3
   },
   "file_extension": ".py",
   "mimetype": "text/x-python",
   "name": "python",
   "nbconvert_exporter": "python",
   "pygments_lexer": "ipython3",
   "version": "3.13.3"
  }
 },
 "nbformat": 4,
 "nbformat_minor": 5
}
