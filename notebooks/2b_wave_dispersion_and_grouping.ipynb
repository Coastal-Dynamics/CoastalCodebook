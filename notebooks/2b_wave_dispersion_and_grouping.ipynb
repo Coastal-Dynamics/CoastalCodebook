{
 "cells": [
  {
   "cell_type": "markdown",
   "id": "08b7ff1c-1e3c-4917-bc39-d046ecfa68eb",
   "metadata": {},
   "source": [
    "<figure>\n",
    "  <img src=\"../images/tudelft_logo.png\" alt=\"image\" width=\"250\" align=\"right\"/>\n",
    "</figure>"
   ]
  },
  {
   "cell_type": "markdown",
   "id": "562c17ce-311a-46be-acdf-e360ce7dd3ee",
   "metadata": {},
   "source": [
    "# 2b: Wave dispersion and grouping"
   ]
  },
  {
   "cell_type": "markdown",
   "id": "ce68662a-75b4-482d-bb7f-81a4f8b5e1e1",
   "metadata": {},
   "source": [
    "Welcome to the second of the four notebooks that you can practice with this week. It deals with wave dispersion and grouping. If you have succesfully taken the Waves Unit, these topics should not have many secrets to you anymore. If this is indeed the case, you could either choose to skip this notebook or use it as a refresher. If you have not taken Waves, you can use this notebook (and the more basic Notebook 2a, if necessary) to get you up-to-speed with the prerequisite knowledge for Coastal Systems. In Coastal Systems, we will not examine this knowledge separately. We will however build on it, and as such, (small) parts of it may come back in the examination. \n",
    "\n",
    "Wind-generated and tidal waves can travel great distances until they finally reach the coast. In this notebook, we consider the propagation of both individual waves and wave groups. It is recommended to read chapter 3 of the book Coastal Dynamics when studying this notebook.\n",
    "\n",
    "The notebook consists of three parts: \n",
    "1. Application of the dispersion relationship to tsunami waves (coding exercises and 4 numeric and multiple-choice questions)\n",
    "2. Cross-shore variation of wave length and wave celerity (2 multiple-selection questions)\n",
    "3. Wave groups (coding exercises, 9 numeric and multiple-selection questions, a few open follow-up questions)"
   ]
  },
  {
   "cell_type": "markdown",
   "id": "988b2f83-4858-4ed7-b479-9635d28ada53",
   "metadata": {},
   "source": [
    "## Import libraries that we use for our analysis"
   ]
  },
  {
   "cell_type": "code",
   "execution_count": null,
   "id": "593e05c2-cc9c-4c0d-a9bb-bf0fee870c29",
   "metadata": {},
   "outputs": [],
   "source": [
    "from pathlib import Path\n",
    "from warnings import filterwarnings\n",
    "\n",
    "import numpy as np\n",
    "import holoviews as hv\n",
    "import hvplot.pandas\n",
    "import pooch\n",
    "import panel as pn\n",
    "from IPython.display import display\n",
    "\n",
    "import coastal_dynamics as cd\n",
    "\n",
    "pn.extension()"
   ]
  },
  {
   "cell_type": "code",
   "execution_count": null,
   "id": "bf88442c",
   "metadata": {},
   "outputs": [],
   "source": [
    "import sys\n",
    "\n",
    "sys.path.append('../')\n",
    "\n",
    "from modules import mod_2b"
   ]
  },
  {
   "cell_type": "code",
   "execution_count": null,
   "id": "7a126391-338d-4518-a6fc-9c4e6437db72",
   "metadata": {},
   "outputs": [],
   "source": [
    "questions = cd.read_questions(Path(\"../hashed_questions/2b_wave_dispersion_hashed.json\"))\n",
    "\n",
    "question_industry = cd.QuestionIndustry(questions)\n",
    "\n",
    "cd.UseAnswersApp(\"2b\").serve()"
   ]
  },
  {
   "cell_type": "markdown",
   "id": "81ea9c12-ae60-42c7-af07-b9164568a4c8",
   "metadata": {},
   "source": [
    "## Fenton approximation\n",
    "\n",
    "In this and next notebooks, we are going to use the Fenton approximation as the standard method for solving the dispersion relationship, so it is handy to find the function as you programmed it in Waves and define it in the below code field. Remember that the explicit approximation reads (see also Equation 5.4.20 in Ocean Waves by Leo Holthuijsen):\n",
    "\n",
    "\\begin{equation}\n",
    "\\tag{1}\n",
    "    k h \\approx (\n",
    "        \\frac{\\alpha + \\beta^2  (\\cosh \\beta)^{-2})}{ \\tanh \\beta + \\beta (\\cosh \\beta)^{-2}} \\; \\mathrm{with} \\; \\beta = \\alpha (\\tanh \\alpha)^{-0.5}  \\; \\mathrm{and} \\;  \\alpha = k_0 h\n",
    "\\end{equation}\n"
   ]
  },
  {
   "cell_type": "code",
   "execution_count": null,
   "id": "09aeb72e-b1a2-4ac4-a9a4-2ec6443727a3",
   "metadata": {},
   "outputs": [],
   "source": [
    "## Fenton approximation to the linear dispersion relationship\n",
    "def waveNumber_Fenton(T, h):\n",
    "    \"\"\"\n",
    "    Calculate wave number using the Fenton explicit approximation\n",
    "    \n",
    "    Args:\n",
    "        T (float): Wave period.\n",
    "        h (float): Water depth.\n",
    "        \n",
    "    Returns:\n",
    "        float: Calculated wave number.\n",
    "    \"\"\"\n",
    "    \n",
    "    k = None          # Replace by your own code\n",
    "    \n",
    "    return k    \n",
    "\n"
   ]
  },
  {
   "cell_type": "markdown",
   "id": "9121657e-c30b-4690-a84c-cdc1719ebcb5",
   "metadata": {},
   "source": [
    "## Part 1: Dispersion relation for tsunami waves"
   ]
  },
  {
   "cell_type": "markdown",
   "id": "ca701a8c-c317-479e-9286-70f894afe575",
   "metadata": {},
   "source": [
    "### Theory \n",
    "\n",
    "The linear dispersion relation relates the wave frequency $\\omega=2\\pi/T$ and the wavenumber $k=2\\pi/L$, through the water depth $h$. It holds for small-amplitude waves and read as follows:\n",
    "\n",
    "\\begin{equation}\n",
    "\\tag{2}\n",
    "\\omega = \\sqrt{gk tanh(kh)} \n",
    "\\end{equation}\n",
    "\n",
    "You may also find it in this form [try to rewrite (2) to obtain (3)]:\n",
    "\n",
    "\\begin{equation}\n",
    "\\tag{3}\n",
    "L = \\frac{g}{2\\pi}T^2 tanh(2\\pi\\frac{h}{L}) \n",
    "\\end{equation}\n",
    "\n",
    "For known $h$ and wave length $L$ (or, equivalently, $k$), it is straightforward to find the wave period $T$ (or, equivalently, $\\omega$). However, generally $h$ and $T$ would be known instead and we would end up with an implicit equation in $k$ or $L$. There are a few methods to solve this implicit equation:\n",
    "1. Use Table A.3 of the [Coastal Dynamics Open Textbook](https://books.open.tudelft.nl/home/catalog/book/202)\n",
    "2. Use the explicit approximation of Fenton (Equation 5.4.20 in Ocean Waves by Leo Holthuijsen)\n",
    "3. Use an iterative procedure\n",
    "\n",
    "If you have no idea at all how to apply these methods, you could first step back to Notebook 2a on Preknowledge Waves, where you can try all three methods. If you are sufficiently familiar with the methods (we assume you are, since you have followed Waves!), you can continue with this notebook 2b.  From here on, we will only use explicit approximation of Fenton (Equation 5.4.20 in Ocean Waves by Leo Holthuijsen) and the deep and shallow water approximations. In Waves you should have programmed a Python function for the Fenton solution. We will use that here!\n",
    "\n",
    "Both for large and small $kh$, the dispersion relationship can be simplified to explicit expressions that can be solved without iterations. *You should be able to find and use these simplified equations in an exam situation (see for instance Table A.3 and Section 3.5.2. in the textbook).* Note that the simplified equations are also summarized in Notebook 2a.\n",
    "   \n",
    "### Exercise\n",
    "Here, we will to apply the dispersion relationship to tsunami waves, following the exercise as described in footnote 2 on page 114 of the textbook. Tsunami periods range from 5 to 60 minutes. We assume a water depth of 4000 m. \n",
    "\n",
    "We are going to address the following to questions: \n",
    "- Question A: What is the wave period range for which this depth of $h$ = 4000 m is classified as intermediate water? In the following, we will refer to the periods that correspond to the deep and shallow water limits of this wave period range as $T_2$ and $T_3$, respectively. \n",
    "- Question B: What is the range in wave lengths for tsunami waves at this water depth? Let's assign the variable name $T_1$ and $T_4$ to the lower and upper bound of the tsunami wave period range, so $T_1$ = 300 s and $T_4$ = 3600 s. We will refer to the corresponding wave lengths as $L_1$ and $L_4$, respectively. \n",
    "\n",
    "#### Question A: What is the wave period range for which this depth is classified as intermediate water?\n",
    "\n",
    "Or, in other words, compute $T_2$ and $T_3$. Also compute $L_2$ and $L_3$ (you will need these later). \n",
    "\n",
    "Let's do these computations in two ways: \n",
    "1. First we use the shallow and deep water approximations\n",
    "1. Next we use the full dispersion relationship (in the Fenton approximation)\n",
    "\n",
    "You can use the below code cells to make your computations. Once you have done this, run the subsequent question cell to verify your answers for $T_2$ and $T_3$. "
   ]
  },
  {
   "cell_type": "markdown",
   "id": "74e27627-a20e-4e58-8114-63a1d764d3a5",
   "metadata": {},
   "source": [
    "#### Deep and shallow water approximations \n",
    "In the code cell below, compute $T_2$ and $T_3$ using the appropriate deep and shallow water approximations. This will help us get an idea of how close these approximations are to the full dispersion relationship at the shallow and deep water limits."
   ]
  },
  {
   "cell_type": "code",
   "execution_count": null,
   "id": "c31a1545-7f22-4d0f-a6e9-c057e1de18d8",
   "metadata": {},
   "outputs": [],
   "source": [
    "## Use this code cell to compute and print your answer using the shallow and deep water approximations.\n",
    "\n",
    "h = 4000\n",
    "g = 9.81\n",
    "\n",
    "############ WRITE CODE HERE ###########\n",
    "\n",
    "T2 = None   # Replace by your code\n",
    "T3 = None   # Replace by your code\n",
    "\n",
    "\n",
    "# You can use these print statements if you wish\n",
    "# print(\"\"\"Deep water limit: \"\"\",'\\n',\"\"\"T2 = \"\"\", T2, 's')\n",
    "# print(\"\"\"Shallow water limit: \"\"\",'\\n',\"\"\"T3 = \"\"\", T3, 's')\n",
    "\n",
    "\n",
    "####################################"
   ]
  },
  {
   "cell_type": "markdown",
   "id": "186befb5-d678-48e0-9c5b-fe5dfa40a985",
   "metadata": {},
   "source": [
    "####  Full dispersion relationship\n",
    "In order to compute $T_2$ and $T_3$, you used the deep and shallow water approximations. In the code cell below, recompute $T_2$ and $T_3$ using the full dispersion relationship to get an idea of how close - at the shallow and deep water limits - these approximations are to the full dispersion relationship. For completeness, also compute $L_2$ and $L_3$ in this code cell (we will need these values later)."
   ]
  },
  {
   "cell_type": "code",
   "execution_count": null,
   "id": "20bea51d-7b96-4e34-9468-75b5b73c4063",
   "metadata": {},
   "outputs": [],
   "source": [
    "## Use this code cell to compute and print your answer using the full dispersion relationship.\n",
    "\n",
    "h = 4000\n",
    "\n",
    "L2 = None\n",
    "L3 = None\n",
    "T2 = None\n",
    "T3 = None\n",
    "\n",
    "print(\"\"\"Deep water limit: \"\"\", '\\n',\"\"\"L2 = \"\"\", L2, 'm','\\n',\"\"\"T2 = \"\"\", T2, 's')\n",
    "print(\"\"\"Shallow water limit: \"\"\", '\\n',\"\"\"L3 = \"\"\", L3, 'm','\\n',\"\"\"T3 = \"\"\", T3, 's')\n",
    "\n"
   ]
  },
  {
   "cell_type": "markdown",
   "id": "5df20c35-29f1-4cc6-8c1a-cda55349e4e3",
   "metadata": {},
   "source": [
    "#### Solution to Question A\n",
    "\n",
    "Using the below question cell, you can verify your answers for $T_2$ and $T_3$. You should have found that the two approaches give slightly different values. Verify the most accurate values. "
   ]
  },
  {
   "cell_type": "code",
   "execution_count": null,
   "id": "bc63280a-b726-4dde-b29e-049970baf86d",
   "metadata": {},
   "outputs": [],
   "source": [
    "# Run this question cell to get two questions to check the answer you coded above\n",
    "q = [\n",
    "    \"Q2b-charact_tsunami_period_deep\",\n",
    "    \"Q2b-charact_tsunami_period_shallow\"\n",
    "]\n",
    "\n",
    "question_industry.serve(q)"
   ]
  },
  {
   "cell_type": "markdown",
   "id": "29f3313e-3d7e-46da-a23c-42210a3eac23",
   "metadata": {},
   "source": [
    "#### Question B: What is the range in wave lengths for tsunami waves at this water depth?\n",
    "\n",
    "We can rephrase this question as: determine the wave lengths $L_1$ and $L_4$, corresponding to the tsunami wave periods $T_1$ = 300 s and $T_4$ = 3600 s, respectively.\n",
    "\n",
    "Let us first determine whether these waves are in deep, shallow or intermediate water. This will tell us whether we can use a deep or shallow water approximation to the dispersion relationship or not. Run the below question cell for questions about this."
   ]
  },
  {
   "cell_type": "code",
   "execution_count": null,
   "id": "f243cc9a-fa12-41f6-8bda-c0648d6ba9c7",
   "metadata": {},
   "outputs": [],
   "source": [
    "# Run this question cell to get two questions about wave conditons 1 and 4\n",
    "q = [\n",
    "    \"Q2b-t1-reflection\",\n",
    "    \"Q2b-t4-reflection\"\n",
    "]\n",
    "\n",
    "question_industry.serve(q)"
   ]
  },
  {
   "cell_type": "markdown",
   "id": "5f3488e9-7936-40cd-be8c-91c1dc73bde9",
   "metadata": {},
   "source": [
    "#### Make the computations for Question B\n",
    "\n",
    "Now determine the wave lengths $L_1$ and $L_4$, corresponding to the tsunami wave periods $T_1$ = 300 s and $T_4$ = 3600 s, respectively. So far, the formulas we used were explicit. Now we need to solve an implicit equation to obtain $L$. You can use your previously created Fenton function (or Table A.3 in the textbook, see also Notebook 2a), or, instead, use a deep or shallow water approximation, where appropriate (see the above questions). \n",
    "\n",
    "Use the code cell below to compute $L_1$ and $L_4$. "
   ]
  },
  {
   "cell_type": "code",
   "execution_count": null,
   "id": "e4bf0309-0889-4c98-9b03-e5e1097281ee",
   "metadata": {},
   "outputs": [],
   "source": [
    "## Use this code cell to compute L1 and L4 and print your answer\n",
    "## Compute the wave lengths in meters!\n",
    "\n",
    "h = 4000\n",
    "T1 = 300\n",
    "T4 = 3600\n",
    "L1 = None\n",
    "L4 = None\n",
    "\n",
    "print(\"\"\"Shortest tsunami wave: \"\"\",'\\n',\"\"\"T1 = \"\"\", T1, 's','\\n',\"\"\"L1 = \"\"\", L1, 'm','\\n')\n",
    "print(\"\"\"Longest tsunami wave: \"\"\",'\\n',\"\"\"T4 = \"\"\", T4, 's','\\n',\"\"\"L4 = \"\"\", L4, 'm','\\n')\n",
    "\n"
   ]
  },
  {
   "cell_type": "markdown",
   "id": "7c68b9be-64fc-4b8f-89a2-abde8d464767",
   "metadata": {},
   "source": [
    "#### Solution to Question B\n",
    "\n",
    "You can now verify your answers for $L_1$ and $L_4$ (and the previously computed $L_2$ and $L_3$). For this we will use a figure, in which your answers will be plotted together with the correct answer.\n",
    "\n",
    "Note that: \n",
    "- You can either fill in the values for $L_1$, $L_2$, $L_3$ and $L_4$ in the code cell below, or leave the lines commented, in which case your above computed values are taken as input automatically. \n",
    "- If your answers are on the solid line they are correct\n",
    "- On the horizontal axis of the figure, we have $\\omega=2\\pi/T$. Hence, the blue line corresponds to the shallow water limit and the yellow line to the deep water limit."
   ]
  },
  {
   "cell_type": "code",
   "execution_count": null,
   "id": "430a46ef-0e96-4b66-a940-3b74eb01e58f",
   "metadata": {},
   "outputs": [],
   "source": [
    "# Give the wave lengths in meters! \n",
    "# Your input will be plotted together with the correct line. If your answers are on the solid line, they are correct. \n",
    "# If you leave the below code lines commented, your above computed values for L1, L2, L3 and L4 will be automatically used. \n",
    "\n",
    "# L1 = None\n",
    "# L2 = None\n",
    "# L3 = None\n",
    "# L4 = None\n",
    "\n",
    "mod_2b.W2_tsunami_L(L1, L2, L3, L4)"
   ]
  },
  {
   "cell_type": "markdown",
   "id": "a39dd926-5d10-445c-ae3e-faaeda20be8b",
   "metadata": {},
   "source": [
    "#### Phase velocities and group velocities\n",
    "\n",
    "Can you now compute the corresponding phase velocities $c_1$, $c_2$, $c_3$ and $c_4$ and group velocities $c_{g1}$, $c_{g2}$, $c_{g3}$ and $c_{g4}$ for the four tsunami waves under consideration? Note that in Notebook 2a, the equation for the group velocity was repeated. Where appropriate, you can use shallow or deep water approximations.\n",
    "\n",
    "Use the code cell below to assign values to these variables. You can check them in the visualization in the next cell."
   ]
  },
  {
   "cell_type": "code",
   "execution_count": null,
   "id": "01a1b69a-6244-48ba-bf23-52cdac14c84e",
   "metadata": {},
   "outputs": [],
   "source": [
    "## Use this code cell to compute c1, c2, c3, c4, cg1, cg2, cg3, cg4 and print your answers\n",
    "\n",
    "c1 = None\n",
    "c2 = None\n",
    "c3 = None\n",
    "c4 = None\n",
    "cg1 = None\n",
    "cg2 = None\n",
    "cg3 = None\n",
    "cg4 = None\n",
    "\n",
    "print(\"\"\"Shortest tsunami wave: \"\"\",'\\n',\"\"\"T1 = \"\"\", T1, 's','\\n',\"\"\"c1 = \"\"\", c1, 'm/s','\\n',\"\"\"cg1 = \"\"\", cg1, 'm/s')\n",
    "print(\"\"\"Deep water limit: \"\"\", '\\n',\"\"\"T2 = \"\"\", T2, 's','\\n',\"\"\"c2 = \"\"\", c2, 'm/s','\\n',\"\"\"cg2 = \"\"\", cg2, 'm/s')\n",
    "print(\"\"\"Shallow water limit: \"\"\",'\\n',\"\"\"T3 = \"\"\", T3, '\\n',\"\"\"c3 = \"\"\", c3, 'm/s','\\n',\"\"\"cg3 = \"\"\", cg3, 'm/s')\n",
    "print(\"\"\"Longest tsunami wave: \"\"\", '\\n',\"\"\"T4 = \"\"\", T4, 's','\\n',\"\"\"c4 = \"\"\", c4, 'm/s','\\n',\"\"\"cg4 = \"\"\", cg4, 'm/s')\n",
    "\n"
   ]
  },
  {
   "cell_type": "markdown",
   "id": "2bfde2bf-de32-4479-a145-944b457d28a0",
   "metadata": {},
   "source": [
    "#### Figure of phase and group velocities\n",
    "\n",
    "You can now verify your answers for phase velocities $c_1$, $c_2$, $c_3$ and $c_4$ and group velocities $c_{g1}$, $c_{g2}$, $c_{g3}$ and $c_{g4}$. Again, we will use a figure for this, in which your answers will be plotted together with the correct answer. Note that: \n",
    "- You can either fill in the correct values in the code cell below, or leave the lines commented, in which case your above computed values are taken as input automatically. \n",
    "- If your answers are on the solid line they are correct\n",
    "- On the horizontal axis of the figure, we have $\\omega=2\\pi/T$. Hence, the blue line corresponds to the shallow water limit and the yellow line to the deep water limit.\n",
    "\n",
    "Study the figures for $c$ and $c_g$ and answer the folllowing questions:\n",
    "1. For this constant depth, which waves travel faster, shorter-period or longer-period waves?\n",
    "2. What is the ratio between $c_g$ and $c$ in deep and shallow, respectively?"
   ]
  },
  {
   "cell_type": "code",
   "execution_count": null,
   "id": "ab4c8344-1760-4ed7-a747-d8927b581d07",
   "metadata": {},
   "outputs": [],
   "source": [
    "# Give the speeds in meters per second!\n",
    "# Your input will be plotted together with the correct line. If your answers are on the solid line, they are correct. \n",
    "# If you leave the below code lines commented, your above computed values for c1, c2, c3, c4, cg1, cg2, cg3 and cg4 will be automatically used.\n",
    "\n",
    "# c1 = None\n",
    "# c2 = None\n",
    "# c3 = None\n",
    "# c4 = None\n",
    "# cg1 = None\n",
    "# cg2 = None\n",
    "# cg3 = None\n",
    "# cg4 = None\n",
    "\n",
    "mod_2b.W2_tsunami_c_cg(c1, c2, c3, c4,cg1, cg2, cg3, cg4)"
   ]
  },
  {
   "cell_type": "markdown",
   "id": "22671e3e-a2c0-4b12-883d-c405d476e939",
   "metadata": {},
   "source": [
    "## Part 2: Cross-shore variation of wave length and wave celerity"
   ]
  },
  {
   "cell_type": "markdown",
   "id": "011ad064-a9f8-4da1-90e9-603a9e76a8f7",
   "metadata": {},
   "source": [
    "In Part 1, we have considered waves with different wave periods $T$ at a constant water depth $h$. Now we will consider waves with a certain wave period propagating towards the shore (so from larger water depths to a zero water depth). The wave period remains constant, but since the depth of the water decreases gradually, the wave celerity and the wavelength change also. Given the wave period $T$, we can compute the wave length $L$ and wave celerity $c$ as they vary with $h$. \n",
    "\n",
    "We have already performed this task for you (we have used the Fenton approximation to the dispersion relationship). The result is shown in the below interactive figure. In the figure three waves with different wave periods are compared. You can change the wave periods for these three waves. You can also change the parameter $m$, which indicates the bed slope (1:$m$) as well as the water depth at the most seaward point (variable \"max. depth\"). \n",
    "\n",
    "Play around with the graph to study the cross-shore variation of $L$ and $c$ and assess the influence of the various parameters. When you have done so, you can run the question cell below the figure and try answering the presented questions. "
   ]
  },
  {
   "cell_type": "code",
   "execution_count": null,
   "id": "46394ee4-8be3-4436-82bc-b267db83c4a9",
   "metadata": {},
   "outputs": [],
   "source": [
    "# Run this cell to get the cross-shore distribution of wave length and wave celerity for different wave periods and cross-shore profile characteristics\n",
    "mod_2b.hv_W2_Q7()"
   ]
  },
  {
   "cell_type": "code",
   "execution_count": null,
   "id": "e8c3f038-9ec9-4170-b317-d59ca3985702",
   "metadata": {},
   "outputs": [],
   "source": [
    "# Run this question cell to get two questions about the above figure: \"Cross-shore distribution of wave length and wave celerity\"\n",
    "q = [\n",
    "    \"Q2b-cross-shore-1\",\n",
    "    \"Q2b-cross-shore-2\"\n",
    "]\n",
    "\n",
    "question_industry.serve(q)"
   ]
  },
  {
   "cell_type": "markdown",
   "id": "31de804d-efcd-46d2-b489-9a5a5afd93ef",
   "metadata": {},
   "source": [
    "## Part 3: Wave grouping\n",
    "\n",
    "### Bichromatic wave train on horizontal bed\n",
    "\n",
    "Multiple wave components can coexist, influencing the shape of the sea surface elevation. For multiple components with frequencies that are close together, the sea-surface elevation will exhibit groupiness. We will investigate this for the simplified situation of a bi-chromatic wave train (bi-chromatic refers to two frequencies or periods). Let's express the sea surface elevation in terms of two harmonic components:\n",
    "\n",
    "\\begin{equation}\n",
    "\\tag{4}\n",
    "\\eta(x,t) = a_1 sin(w_1t-k_1x) + a_2 sin(w_2t-k_2x)\n",
    "\\end{equation}\n",
    "\n",
    "When $a_1 = a_2 = a$, this can be rewritten to (using the addition formula for two sinusoids):\n",
    "\n",
    "\\begin{equation}\n",
    "\\tag{5}\n",
    "\\eta(x,t) = 2a sin(\\frac{\\omega_2+\\omega_1}{2}t - \\frac{k_2+k_1}{2}x)cos(\\frac{\\omega_2-\\omega_1}{2}t-\\frac{k_2-k_1}{2}x)\n",
    "\\end{equation}\n",
    "\n",
    "We can also write this as: \n",
    "\\begin{equation}\n",
    "\\tag{6}\n",
    "\\eta(x,t) = 2a sin(\\bar\\omega t - \\bar k x)cos(\\frac{\\Delta\\omega}{2}t - \\frac{\\Delta k}{2}x)\n",
    "\\end{equation}\n",
    "\n",
    "using:\n",
    "\n",
    "\\begin{equation}\n",
    "\\tag{6a}\n",
    "\\Delta \\omega=\\omega_2-\\omega_1\n",
    "\\end{equation}\n",
    "\n",
    "\\begin{equation}\n",
    "\\tag{6b}\n",
    "\\Delta k=k_2-k_1\n",
    "\\end{equation}\n",
    "\n",
    "\\begin{equation}\n",
    "\\tag{6c}\n",
    "\\bar \\omega = \\frac{\\omega_2-\\omega_1}{2}\n",
    "\\end{equation}\n",
    "\n",
    "\\begin{equation}\n",
    "\\tag{6d}\n",
    "\\bar k = \\frac{k_2-k_1}{2}\n",
    "\\end{equation}\n",
    "\n",
    "In this formula you can recognize a so-called carrier wave $sin(\\bar\\omega t - \\bar k x)$ with a slowly-varying amplitude $2a cos(\\frac{\\Delta\\omega}{2}t - \\frac{\\Delta k}{2}x)$. \n",
    "\n",
    "### Plot the wave group for two waves with the same amplitude\n",
    "\n",
    "We will investigate the formula for the wave group, Eq. (6), in the remainder of this notebook, using the same conditions as in the slides and textbook (see Figure 3.11) as a default: $h$ = 20 m, $T_1$ = 7 s, $T_2$ = 6.2 s and $a_1 = a_2$ = 1.5 m. \n",
    "\n",
    "Eq. (6) depends on t and on x, and, if we want to plot it, we can do this for a constant t and a range of x-values, or, for a constant x and a range of t-values. If you run the *two* code cells below, without any adjustments, you will get both a spatial plot and a time plot of:\n",
    "\n",
    "1. the surface elevation;\n",
    "2. the slowly-varying amplitude; \n",
    "3. the so-called upper envelope.\n",
    "  \n",
    "The spatial signals are shown for t = 0, and the time signals for x = 0 m, respectively. The lower envelope is not plotted, but will simply be the negative of the upper envelope. Can you see from the figure why the name *envelope* is used? \n",
    "\n",
    "Once you have seen the plot, try to code *your own* functions for the surface elevation, slowly-varying amplitude and upper envelope in the below cell and re-run the below two cells. The second cell will not only plot your coded functions but also check them and provide feedback as to whether your code is correct.\n",
    "\n",
    "In the left panel of the figure, your own coded functions are shown, in the right panel the correct functions are shown. Also: compare the figure with Figure 3.11 in the textbook and then try to change the input values to see the effect."
   ]
  },
  {
   "cell_type": "code",
   "execution_count": null,
   "id": "0241fab2-136c-489b-98ab-4cc9306ffac4",
   "metadata": {},
   "outputs": [],
   "source": [
    "## Below you can code your own spatial and time functions for the surface elevation, varying amplitude and upper envelope\n",
    "\n",
    "# It is handy to first view the correct answers before you code your own functions, so that you can see what we are after\n",
    "# You can do this by making no adjustments (simply leaving the code as it is, including the \"None\"\n",
    "# If you then run the next code cell that makes the plot, only the correct answers are shown\n",
    "\n",
    "# To code your own functions: replace None by your own code in terms of a, T1, T2, L1, L2, x, tp and xp \n",
    "# The variables a, T1, T2, L1 and L2 are defined in the above given equations. \n",
    "# tp is the time at which the spatial function is plotted\n",
    "# xp is the location at which the time function is plotted\n",
    "# We assume that a, T1 and T2 are given an that L1 and L2 are also known via Fenton as follows:\n",
    "# k1 = waveNumber_Fenton(T1, h)\n",
    "# k2 = waveNumber_Fenton(T2, h)\n",
    "# L1 = 2 * np.pi/k1\n",
    "# L2 = 2 * np.pi/k2\n",
    "\n",
    "# Spatial function 1: the surface elevation eta for t = tp: eta(x, t = tp)\n",
    "def eta_x(a, T1, T2, L1, L2, x, tp):\n",
    "    eta_X = None        # write in terms of a, T1, T2, L1, L2, x, tp\n",
    "    return eta_X\n",
    "\n",
    "# Spatial function 2: the slowly-varying amplitude for t = tp: A(x, t = tp)\n",
    "def varying_amplitude_x(a, T1, T2, L1, L2, x, tp):\n",
    "    var_amp = None      # write in terms of a, T1, T2, L1, L2, x, tp\n",
    "    return var_amp\n",
    "\n",
    "# Spatial function 3: the upper envelope for t = tp \n",
    "def envelope_x(a, T1, T2, L1, L2, x, tp):\n",
    "    envelope = None     # write in terms of a, T1, T2, L1, L2, x, tp\n",
    "    return envelope\n",
    "\n",
    "# Time function 1: the surface elevation eta for x = xp: eta(x = xp, t)\n",
    "def eta_t(a, T1, T2, L1, L2, t, xp):\n",
    "    eta_T = None        # write in terms of a, T1, T2, L1, L2, t, xp\n",
    "    return eta_T\n",
    "\n",
    "# Time function 2: the slowly-varying amplitude for x = xp: A(x = xp, t)\n",
    "def varying_amplitude_t(a, T1, T2, L1, L2, t, xp):\n",
    "    var_amp = None      # write in terms of a, T1, T2, L1, L2, t, xp\n",
    "    return var_amp\n",
    "\n",
    "# Time function 3: the upper envelope for x = xp\n",
    "def envelope_t(a, T1, T2, L1, L2, t, xp):\n",
    "    envelope = None      # write in terms of a, T1, T2, L1, L2, t, xp\n",
    "    return envelope\n",
    "\n"
   ]
  },
  {
   "cell_type": "code",
   "execution_count": null,
   "id": "bc4d537a-d8e7-4edf-adac-5a8caf9d7fa8",
   "metadata": {},
   "outputs": [],
   "source": [
    "#### Run this cell to make the spatial and time plot of the surface elevation, slowly-varying amplitude and upper envelope\n",
    "#### The plot function in this cell plots the functions as defined in the above code cell.\n",
    "#### It uses below defined input values for the depth h = h_val, the amplitude a = a_val, the period T1 = T_1 and T2 = T_2. \n",
    "#### You can use the given values and compare the results to the slides and book. Or you can change these values if you wish and run!\n",
    "\n",
    "### First define the input values. The unknown wave lengths are computed for you using Fenton (you do not have to do anything for this!). \n",
    "\n",
    "h_val = 20     # depth [m]\n",
    "a_val = 1.5    # amplitude of wave 1 and 2 [m]\n",
    "T_1 = 7        # period of wave 1 [s]\n",
    "T_2 = 6.2      # period of wave 2 [s]\n",
    "\n",
    "# Now define the x-range for spatial plot and t-range for time plot\n",
    "# These are default ranges that work well for T_1 = 7, T_2 = 6.2 and h = 20\n",
    "x  = np.linspace(0, 1000, 5000)  # x-range for spatial plot \n",
    "t = np.linspace(0, 175, 1000)    # t-range for time plot\n",
    "\n",
    "## Instead of using the above defined x and t you can define x and t through the number of groups n_groups that will be shown in space and in time. \n",
    "## If n_groups is set to a positive value: the above defined x and t are overruled, such that ...\n",
    "# x ranges automatically from x=0 to n_groups*L_group and t ranges from t = 0 to n_groups*T_group\n",
    "## If n_groups = None the above defined default x and t are used\n",
    "n_groups = 4        # The number of groups in time and space \n",
    "#n_groups = None     # If n_groups is set to None then the above x and t are used \n",
    "\n",
    "## Choose the fixed t- and x- values for the spatial and time plots \n",
    "tp = 0                                        # constant t-value for spatial plot (0 is default)\n",
    "xp = 0                                        # constant x-value for time plot (0 is default)\n",
    "\n",
    "### End of input\n",
    "### Do not change below this line\n",
    "\n",
    "# If a value for n_groups is given: \n",
    "# x and t are automatically defined, x ranges from x=0 to n_groups*L_group and t ranges from t = 0 to n_groups*T_group\n",
    "if n_groups is not None:\n",
    "    x,t  = mod_2b.ranges(h_val, T_1, T_2, n_groups) # x-range for spatial plot and t-range for time plot if n_groups has a value\n",
    "\n",
    "# Input for spatial plot\n",
    "input_values_x = {\n",
    "    'h': h_val,                                                    \n",
    "    'a': a_val,                                                       \n",
    "    'T1': T_1,                                                       \n",
    "    'T2': T_2,                                                                                                     \n",
    "    'L1': [],                                                       \n",
    "    'L2': [],                                                    \n",
    "    'x': x,                                            \n",
    "    'tp': tp                                                   \n",
    "}\n",
    "\n",
    "input_values_t = {\n",
    "    'h': h_val,                                                    \n",
    "    'a': a_val,                                                       \n",
    "    'T1': T_1,                                                       \n",
    "    'T2': T_2,                                                                                                                                           \n",
    "    'L1': [],                                                       \n",
    "    'L2': [],     \n",
    "    't': t,                                            \n",
    "    'xp': xp                                                   \n",
    "}\n",
    "\n",
    "output_x, figure_x = mod_2b.W2_Q9_x(input_values_x, [eta_x, varying_amplitude_x, envelope_x])\n",
    "output_t, figure_t = mod_2b.W2_Q9_t(input_values_t, [eta_t, varying_amplitude_t, envelope_t])\n",
    "\n",
    "print(output_x,output_t)\n",
    "display(figure_x,figure_t)"
   ]
  },
  {
   "cell_type": "markdown",
   "id": "4fba317c-aa5a-4e42-a522-a1d22331a0ed",
   "metadata": {},
   "source": [
    "### Compute the group characteristics\n",
    "\n",
    "\n",
    "Eq. (6) shows that the frequency and wave number of the slowly-varying amplitude are given by $\\frac{\\Delta\\omega}{2}$ and $\\frac{\\Delta k}{2}$, respectively. From the figure, we can see that the group period and length are *half* the period and length of the slowly-varying amplitude. Thus, the group length can be computed from $\\Delta k = 2 \\pi/L_{group}$ and the group period from $\\Delta\\omega = 2\\pi/T_{group}$. See also Eqs. (3.24a-b) in the textbook.\n",
    "\n",
    "Can you now compute the following wave and group characteristics: \n",
    "- celerity $c_1$ of wave 1 [m/s]\n",
    "- celerity $c_2$ of wave 2 [m/s]\n",
    "- celerity of the carrier wave $c_{av}$ [m/s]\n",
    "- group velocity $c_{group}$ [m/s]\n",
    "- group length $L_{group}$ [m]\n",
    "- group period $T_{group}$ [s]\n",
    "\n",
    "Use the code cell below for your computations and then check your answers using the questions generated by the subsequent question cell. Note that:\n",
    "\n",
    "- The questions assume the default conditions: $h$ = 20 m, $T_1$ = 7 s, $T_2$ = 6.2 s and $a_1 = a_2$ = 1.5 m. *NB. Do you think the amplitude is relevant?* \n",
    "- Our correct answers are computed using Fenton, which is going to be the default method for solving the full dispersion relationship in this and the upcoming notebooks. If you use Table A.3 you will find (only slightly) different values. In that case, check your answers with the answers provided on the slides of Chapter 3 or in the below interactive graph (in the part: what if the amplitudes are not equal).\n"
   ]
  },
  {
   "cell_type": "code",
   "execution_count": null,
   "id": "546a2477-5528-4e73-ad91-a8440edce90c",
   "metadata": {},
   "outputs": [],
   "source": [
    "## Code cell to compute correct answers for group characteristics   \n",
    "T_1 = 7         # Wave period 1 [s]\n",
    "T_2 = 6.2        # Wave period 2 [s]\n",
    "h_val = 20       # water depth [m]\n",
    "\n",
    "Delta_w = None   # Eq. 6a\n",
    "Delta_k = None   # Eq. 6b\n",
    "w_av = None      # Eq. 6c\n",
    "k_av = None      # Eq. 6d\n",
    "\n",
    "c_1 = None       # celerity of wave 1 [m/s]\n",
    "c_2 = None       # celerity of wave 2 [m/s]\n",
    "c_av = None      # celerity of carrier wave [m/s]\n",
    "c_group = None   # group velocity [m/s]\n",
    "L_group = None   # group length [m]\n",
    "T_group = None   # group period [s]\n",
    "\n",
    "print(\"\"\"c_1: \"\"\", c_1)\n",
    "print(\"\"\"c_2: \"\"\", c_2)\n",
    "print(\"\"\"c_av: \"\"\", c_av)\n",
    "print(\"\"\"c_group: \"\"\", c_group)\n",
    "print(\"\"\"L_group: \"\"\", L_group)\n",
    "print(\"\"\"T_group: \"\"\", T_group)\n",
    "\n",
    "# Example print statement with four significant figures\n",
    "#print(\"c_1\",'{:g}'.format(float('{:.{p}g}'.format(c_1, p=4))))\n",
    "\n"
   ]
  },
  {
   "cell_type": "code",
   "execution_count": null,
   "id": "aeeaaa7f-66cf-4822-8ec6-fd75eb543f48",
   "metadata": {},
   "outputs": [],
   "source": [
    "### Run this cell to get questions to verify your computations\n",
    "\n",
    "q = [\n",
    "    \"Q2b-wave_group_c1\",\n",
    "    \"Q2b-wave_group_c2\",\n",
    "    \"Q2b-wave_group_cav\",\n",
    "    \"Q2b-wave_group_cgroup\",\n",
    "    \"Q2b-wave_group_Lgroup\",\n",
    "    \"Q2b-wave_group_Tgroup\" \n",
    "]\n",
    "\n",
    "question_industry.serve(q)"
   ]
  },
  {
   "cell_type": "markdown",
   "id": "b3249c10-e57e-47ec-a907-5d81781021dc",
   "metadata": {},
   "source": [
    "### What if the amplitudes of the two waves are not equal? "
   ]
  },
  {
   "cell_type": "markdown",
   "id": "0eedfd77-4083-4d28-9be2-db994f6084a2",
   "metadata": {},
   "source": [
    "The above used mathematical approach was possible because of the simplification that $a_1=a_2=a$. But what if the amplitudes are not equal? Now the envelope does not go to zero, since the two components don't cancel each other out at the nodes. \n",
    "\n",
    "The code cell below produces a graph of the temporal and spatial signal of a wave group consisting of two different wave components with $a_1 \\neq a_2$. We use a Hilbert transform to calculate the envelope for this situation. The mathematical treatment of this method is not part of this course.  \n",
    "\n",
    "Run the code cell to get the graph and use it to analyse the wave signals for various conditions. The questions below the graph can help with that."
   ]
  },
  {
   "cell_type": "code",
   "execution_count": null,
   "id": "1fc35b78-e5f2-4edc-ba0b-61f38f10e2bc",
   "metadata": {},
   "outputs": [],
   "source": [
    "filterwarnings(\"ignore\", category=FutureWarning)\n",
    "\n",
    "cd.launch_app(mod_2b.W2_wave_groups())"
   ]
  },
  {
   "cell_type": "code",
   "execution_count": null,
   "id": "a7eeb5ca-8c30-43de-9895-50273efd2d08",
   "metadata": {},
   "outputs": [],
   "source": [
    "## Run this cell to get some questions about the above graph\n",
    "\n",
    "q = [\n",
    "    \"Q2b-wave_amplitudes_diffa1\",\n",
    "    \"Q2b-wave_amplitudes_max_envelope\",\n",
    "    \"Q2b-wave_amplitudes_min_envelope\"\n",
    "]\n",
    "\n",
    "question_industry.serve(q)"
   ]
  },
  {
   "cell_type": "markdown",
   "id": "d1e7811f-6305-4a2c-a586-630eb585ac61",
   "metadata": {},
   "source": [
    "#### Follow-up questions \n",
    "\n",
    "Use the graph to answer the following questions:\n",
    "\n",
    "- For the default conditions, how many waves are there (approximately) in the wave group in space and in time? NB. To reset to default values, re-run the code cell that produces the graph.\n",
    "- Can you now set the graph such that the number of waves in the group in space and time are equal?\n",
    "- When is the difference between the number of waves in a group for space and time about a factor of 2? Set the graph such that this is the case.\n",
    "- Can you use the graph to reproduce a spring-neap tidal cycle in a semi-diurnal tidal environment?"
   ]
  },
  {
   "cell_type": "markdown",
   "id": "f0476051-10c1-4fbd-94b1-1d1da8afabb8",
   "metadata": {},
   "source": [
    "## The end\n",
    "\n",
    "You have reached the end of this Notebook 2b. You can continue with this week's third notebook, Notebook 2c on the generation of the tide."
   ]
  }
 ],
 "metadata": {
  "kernelspec": {
   "display_name": "coastalcodebook",
   "language": "python",
   "name": "python3"
  },
  "language_info": {
   "codemirror_mode": {
    "name": "ipython",
    "version": 3
   },
   "file_extension": ".py",
   "mimetype": "text/x-python",
   "name": "python",
   "nbconvert_exporter": "python",
   "pygments_lexer": "ipython3",
   "version": "3.13.1"
  }
 },
 "nbformat": 4,
 "nbformat_minor": 5
}
