{
 "cells": [
  {
   "cell_type": "markdown",
   "id": "dcd70741-0d4a-4d76-b45c-6b3d77ad5fe0",
   "metadata": {},
   "source": [
    "<figure>\n",
    "    <img src=\"../images/tudelft_logo.png\" alt=\"image\" width=\"250\" align=\"right\"/>\n",
    "</figure>"
   ]
  },
  {
   "cell_type": "markdown",
   "id": "070a3d1e-3e53-4d9d-adf0-1100343150ea",
   "metadata": {},
   "source": [
    "# 2d: Tidal constituents"
   ]
  },
  {
   "cell_type": "markdown",
   "id": "1959f106-45cf-4939-b19f-da5a4438e564",
   "metadata": {},
   "source": [
    "This notebook is the fourth of four notebooks accompanying Chapter 3 of the [Coastal Dynamics Open Textbook](https://books.open.tudelft.nl/home/catalog/book/202). It specifically addresses tidal constituents, tidal propagation and tidal prediction (see Sections 3.7.6 through 3.9 of the book and the corresponding slides). The notebooks explore these concepts in a more interactive way, with some exercises, visualizations, and code. There are also ten quiz questions included in this notebook. We will not repeat the whole theory, however, so make sure you have followed the lectures for this week and read the relevant pages in chapter 3 of the book.\n",
    "\n",
    "Earth has continents, oceans with varying water depths, and a complex gravitational field, hence the tidal signals we observe around the planet are complex. Fortunately, we can break them down into multiple harmonic components, called ***tidal constituents***. The principal harmonic components can either be diurnal, semi-diurnal, short-, or long-period constituents. Each constituent is characterized by an amplitude, frequency and phase, and individually looks like a smooth sin/cosine curve. When we sum up all the individual components we observe signal beating resulting in complex tidal signals with spring-neap cycles, daily inequalities, and longer-term variations.\n",
    "\n",
    "We will focus on the following concepts:\n",
    "1. Tidal analysis and prediction (Part 1, 1 question)\n",
    "2. Beating of tidal constituents (Part 2, 5 questions)\n",
    "3. Tidal amplitude spectrum (Part 3, open questions to help you reflect)\n",
    "4. Tidal propagation (Part 4, open questions to help you reflect)\n",
    "\n",
    "## Import packages\n",
    "Run the cell below to load the libraries and questions used in this notebook."
   ]
  },
  {
   "cell_type": "code",
   "execution_count": null,
   "id": "9b2ce2ff-523a-4801-9dce-e70af8c20a05",
   "metadata": {},
   "outputs": [],
   "source": [
    "from pathlib import Path\n",
    "\n",
    "import pandas as pd\n",
    "import hvplot.pandas\n",
    "import pickle\n",
    "import uptide\n",
    "from IPython.display import display\n",
    "import panel as pn\n",
    "import holoviews as hv\n",
    "\n",
    "import coastal_dynamics as cd\n",
    "\n",
    "pn.extension()\n",
    "hv.extension(\"bokeh\")"
   ]
  },
  {
   "cell_type": "code",
   "execution_count": null,
   "id": "4f31eea2",
   "metadata": {},
   "outputs": [],
   "source": [
    "import sys\n",
    "\n",
    "sys.path.append('../')\n",
    "\n",
    "from modules import mod_2d"
   ]
  },
  {
   "cell_type": "code",
   "execution_count": null,
   "id": "b768cf86-1906-4ab9-911b-7762fce68bd5",
   "metadata": {},
   "outputs": [],
   "source": [
    "questions = cd.read_questions(Path(\"../hashed_questions/2d_tidal_constituents_hashed.json\"))\n",
    "\n",
    "question_industry = cd.QuestionIndustry(questions)\n",
    "\n",
    "cd.UseAnswersApp(\"2d\").serve()"
   ]
  },
  {
   "cell_type": "markdown",
   "id": "0b449051-d42e-4735-ab2c-60477c8701d3",
   "metadata": {},
   "source": [
    "## Part 1: Tidal analysis and prediction\n",
    "\n",
    "### Astronomical constituents \n",
    "A table of principal tidal constituents is provided below (compare Table 3.5 in the book). These components are direclty related to the astronomical forcing and the listed amplitudes are according to equilibrium theory (if needed, look up the assumptions behind this theory in Section 3.7.1). The period is given with more significant figures than in Table 3.5 to make more accurate calculations of the beating periods possible.\n",
    "\n",
    "|Tidal constituents | Name | Equil. <br> Amplitude [m] | Period [h] |\n",
    "|-|-|-|-|\n",
    "| **Semi-diurnal** |\n",
    "| Principal lunar | M2 | 0.24 | 12.4206012 |\n",
    "| Principal solar | S2 | 0.11 | 12 |\n",
    "| Lunar elliptical | N2 | 0.046 | 12.65834751 |\n",
    "| Lunar-solar declinational | K2 | 0.031 | 11.96723606 |\n",
    "| **Diurnal** |\n",
    "| Lunar-solar declinational | K1 | 0.14 | 23.93447213 |\n",
    "| Principal lunar | O1 | 0.10 | 25.81933871 | \n",
    "| Principal solar | P1 | 0.047 | 24.06588766 | \n",
    "| Lunar elliptical | Q1 | 0.019 | 26.868350 |\n",
    "| **Long period** |\n",
    "| Fortnightly | Mf | 0.042 | 327.8599387 |\n",
    "| Monthly | Mm | 0.022 | 661.3111655 | \n",
    "| Semi-annual | Ssa | 0.019 | 4383.076325 | \n",
    "\n",
    "### Water level record and tide prediction for Scheveningen\n",
    "\n",
    "Since the tide is caused by regular astronomical phenomena, it can be predicted accurately a long time ahead (but note that this does not include meteorological effects such as storm surges!). The method used for tide prediction is harmonic analysis (see Section 3.9). By a combination of harmonic analysis and hydrodynamic modelling, tidal signals can be predicted for an arbitrary location. \n",
    "\n",
    "In this part of the exercise, we compare the full observational sea level with a predicted tidal signal at Scheveningen. To achieve this, we will use two datasets:\n",
    "- [GESLA-3 (Global Extreme Sea Level Analysis)](https://gesla787883612.wordpress.com/) sea level records\n",
    "- [FES2014 Global Tide data](https://www.aviso.altimetry.fr/en/data/products/auxiliary-products/global-tide-fes/description-fes2014.html), providing amplitude and phase information for 34 tidal constituents, distributed on 1/16˚ grids.\n",
    "  \n",
    "The GESLA (Global Extreme Sea Level Analysis) data set contains high-frequency (at least hourly) sea-level information from tide gauge stations distributed worldwide. It can be used to analyse tides, storm surges, extreme sea levels and other related processes. The FES2014 is a global finite element hydrodynamic model, which assimilates in-situ data and altimeter data. It provided tidal elevations and tidal currents in terms of amplitudes and phases of 34 tidal components. These 34 tidal components include both astronomical components (like in the Table above) and the higher harmonics that are generated due to non-linear effects in shallowing coastal waters. We will explain more about these non-linear shallow water tides or overtides later, when treating Section 5.7.5 of the book. \n",
    "\n",
    "The first cell below creates a figure of the observed sea level from GESLA and the tidal signal from FES2014 for Scheveningen, the Netherlands. The figure helps you to see how the observed sea level from GESLA matches up with the tidal signal derived from the available 34 constituents. If you run the second cell below you get a question about this.\n",
    "\n",
    "About the figure:\n",
    "- We computed the tidal signal from the all 34 FES2014 constituents for a timeframe spanning from 1977 to 2017, using the [uptide](https://github.com/stephankramer/uptide) python package\n",
    "- In the code, we have chosen to visualize 2015 only, but you can change the code to present an arbitrary **timeframe** in the period from 1977 to 2017. \n",
    "- Note that you can easily adjust the view of the figure; you can not only **pan** (move the view) and **zoom**, but the two axes are individually zoomable as well by **hovering** over them and using the wheelzoom tool."
   ]
  },
  {
   "cell_type": "code",
   "execution_count": null,
   "id": "50a84bbc-0f31-4af2-823f-606fe46d6129",
   "metadata": {},
   "outputs": [],
   "source": [
    "# Plot\n",
    "dir_path = Path(\"../database/2_wind_waves_tides/\")\n",
    "\n",
    "# Choose a time window to plot (has to be between 1977 - 2017)\n",
    "start_date = pd.to_datetime(\"2000-01-01 00:00\")\n",
    "end_date = pd.to_datetime(\"2001-01-01 00:00\")\n",
    "\n",
    "signal, tide_gauge, eta_df = mod_2d.tidal_scheveningen(dir_path, start_date, end_date)\n",
    "\n",
    "display(signal)"
   ]
  },
  {
   "cell_type": "markdown",
   "id": "23d6b3af-158d-407c-a117-0befb0a03ca4",
   "metadata": {},
   "source": [
    "### Question block for part 1"
   ]
  },
  {
   "cell_type": "code",
   "execution_count": null,
   "id": "a925681b-0c1b-446d-a2f6-9b127674a21d",
   "metadata": {},
   "outputs": [],
   "source": [
    "## Run this cell to get a reflective question\n",
    "\n",
    "q = [\n",
    "    \"Q2d_measured_predicted_Scheveningen\"\n",
    "]\n",
    "\n",
    "question_industry.serve(q)"
   ]
  },
  {
   "cell_type": "markdown",
   "id": "c31cf83d-779b-47b8-be36-0a75862bca88",
   "metadata": {},
   "source": [
    "## Part 2: Beating of tidal constituents \n",
    "\n",
    "What if we don't use all 34 tidal constituents? Below is an interactive plot with a year of data. You can again using the wheelzoom while hovering over the time-axis to shorten the plotted time range to less than a year. You can select which tidal constituents should be plotted with the tick boxes. This way you can play around with different constituents and see what kind of signal you get and how close it is to the total tidal signal.\n",
    "\n",
    "The plot displays the individual tidal components (upper plot), their combined tidal signal (second plot), the combined tidal signal against the total tidal signal (third plot), and the observed sea level with the total tidal signal and the combined signal (fourth plot).\n",
    "\n",
    "Play around with the figure. You could for instance check the period of the various components and their relative amplitudes (compare with the above Table). You can also consider to what extent these astronomical components contribute to the total predicted tidal signal. \n",
    "\n",
    "Once you are familiar with the figure, you can run the questions cell below to get some questions about the beating of certain tidal constituents. "
   ]
  },
  {
   "cell_type": "code",
   "execution_count": null,
   "id": "7b38acb8-f649-4ad4-925e-c2d30c9133a7",
   "metadata": {},
   "outputs": [],
   "source": [
    "# We choose one year to plot, 2000-2001\n",
    "\n",
    "## Download and load previously calculated tidal signal per constituent\n",
    "scheveningen_fp = Path(\"../database/2_wind_waves_tides/tide_scheveningen.p\")\n",
    "\n",
    "with open(scheveningen_fp, \"rb\") as pickle_file:\n",
    "    scheveningen = pickle.load(pickle_file)"
   ]
  },
  {
   "cell_type": "code",
   "execution_count": null,
   "id": "038421cd-f677-4ebb-b9bb-4c9e67aa35b0",
   "metadata": {},
   "outputs": [],
   "source": [
    "## Plot\n",
    "mod_2d.plot_timeseries_with_interactive_controls_hv(tide_gauge, eta_df, scheveningen)"
   ]
  },
  {
   "cell_type": "markdown",
   "id": "92f385fa-c53b-4cf4-a618-ce641463d207",
   "metadata": {},
   "source": [
    "### Question block for part 2\n",
    "\n",
    "Below you will find questions about the interplay between some of the main semi-diurnal and diurnal components. Verify your answers from the above interactive plot and make the appropriate computations. The code field can be used to make these computations."
   ]
  },
  {
   "cell_type": "code",
   "execution_count": null,
   "id": "c93ed182-6c00-490a-acd6-a80291644d6e",
   "metadata": {},
   "outputs": [],
   "source": [
    "## Write your code here to get the answer to Q-4 and Q-6 of part 2. \n",
    "\n",
    "## Use the Table at the top of this notebook for the periods of principal constituents; they are more accurate than the values in the book\n",
    "## Use the equation for the group period from the textbook. \n",
    "## Refer to Notebook 2b (Part Wave grouping) to understand the beating of harmonics constituents better\n",
    "\n"
   ]
  },
  {
   "cell_type": "code",
   "execution_count": null,
   "id": "09c63be3-37d6-4da3-8f4c-fae96c2d65a5",
   "metadata": {},
   "outputs": [],
   "source": [
    "## Run this cell to get questions\n",
    "\n",
    "q = [\n",
    "    \"Q2d_M2_S2_phenomenon\",\n",
    "    \"Q2d_beating_formula\",\n",
    "    \"Q2d_M2_S2_period\",\n",
    "    \"Q2d_M2_K1_phenomenon\",\n",
    "    \"Q2d_M2_K1_period\"\n",
    "]\n",
    "\n",
    "question_industry.serve(q)"
   ]
  },
  {
   "cell_type": "markdown",
   "id": "2bfa891d-0943-44f2-8832-96e0310c0302",
   "metadata": {},
   "source": [
    "## Part 3: Tidal Amplitude spectrum\n",
    "\n",
    "Figure 3.27 in the textbook shows a spectrum of equilibrium tides. Let's now look at the amplitudes of the tidal constituents at Scheveningen, obtained from FES2014, in a similar way. Here are some general questions to help you reflect on this figure:\n",
    "\n",
    "- What are the main constituents?  \n",
    "- What are their frequencies (compared to the periods in Table 1)?\n",
    "- Can you recognize the tides near twice a day and near once a day?\n",
    "- How do the diurnal and semi-diurnal constituents that we used above relate to this larger set?\n",
    "- How do the longer-period constituents that we used above relate to this larger set?\n",
    "- Can you recognize the non-linear shallow water tides and longer-period tides?"
   ]
  },
  {
   "cell_type": "code",
   "execution_count": null,
   "id": "23ecc598-caaa-40eb-b6bd-ddc9d803bdea",
   "metadata": {},
   "outputs": [],
   "source": [
    "plot = mod_2d.tidal_constituents(dir_path)\n",
    "\n",
    "plot"
   ]
  },
  {
   "cell_type": "markdown",
   "id": "86742f29-1d37-4e6d-8eb1-4e16fedc59c7",
   "metadata": {},
   "source": [
    "## Part 4: Tidal Propagation\n",
    "\n",
    "In chapter 3.8 of the textbook, you learned that the propagation of the tide is influenced by the Coriolis acceleration and by friction and resonances determined by the shapes and depths of the ocean basins and marginal seas.\n",
    "\n",
    "This propagation can be visualised  by mapping the lines of simultaneous high water (co-tidal or co-phase lines) and the lines of equal tidal range (co-range lines), as in the figure below. Examine the M2 amplitude and phase pattern along the Atlantic, computed from the FES2014 data. What insights does this pattern provide? Why are the co-tidal (co-phase) lines not equally spaced? Can you link the amplitudes and phases to the Figure 3.30 from the textbook?\n",
    "\n",
    "What is the direction of the Kelvin wave in the Northern Atlantic? You will find that this corresponds to the theory about amphidromic systems. Now have a look at the direction of the Kelvin wave in the Southern Atlantic. Here, the direction may not be what you expect for an ideal Kelvin wave in a semi-enclosed basin on the Southern Hemisphere (Section 3.8.3 in the book)! Can you think of reasons for this?  \n",
    "\n",
    "![image](../images/2_wind_waves_tides/02_M2_amplitude_phase.png)"
   ]
  },
  {
   "cell_type": "markdown",
   "id": "92223799-1975-4044-8f36-8eeb6cc0a3f1",
   "metadata": {},
   "source": [
    "## The end\n",
    "\n",
    "You have reached the end of this Notebook 2d. This was the last notebook of this week."
   ]
  },
  {
   "cell_type": "markdown",
   "id": "662def35-9305-4b58-9646-67686960da81",
   "metadata": {},
   "source": [
    "## Appendix\n",
    "\n",
    "Below is a script that you can use to load FES2014 data yourself, just in case you would need this at some point in your studies."
   ]
  },
  {
   "cell_type": "code",
   "execution_count": null,
   "id": "900ca6b3-791b-419d-a5d1-13b75e15c41e",
   "metadata": {},
   "outputs": [],
   "source": [
    "### Script for loading FES2014 data (phase and amplitudes)\n",
    "\n",
    "# import xarray as xr\n",
    "# from os.path import join\n",
    "# import pandas as pd\n",
    "\n",
    "# path = '.../ocean_tide_extrapolated/' # Your path to data\n",
    "\n",
    "# # Rename la2 to lambda2 if you plan on using uptide\n",
    "# comps = ['eps2', 'j1', 'k1', 'k2', 'l2', 'la2', 'm2', 'm3', 'm4', 'm6', 'm8', 'mf', 'mks2',\n",
    "#          'mm', 'mn4', 'ms4', 'msf', 'msqm', 'mtm', 'mu2', 'n2', 'n4', 'nu2', 'o1', 'p1', 'q1',\n",
    "#          'r2', 's1', 's2', 's4', 'sa', 'ssa', 't2']\n",
    "\n",
    "# # Resolution of fes2014 is 0.0625x0.0625 (lat,lon), we choose a few\n",
    "# # locations and the closest model points\n",
    "\n",
    "# locs = {\n",
    "#     'scheveningen'  :   [52.125, 4.25], #lat, lon\n",
    "#     'galveston'     :   [29.25, -94.6875],\n",
    "#     'valparaiso'    :   [-33, -71.625],\n",
    "#     'jakarta'       :   [-6.0625, 106.8125]\n",
    "# }\n",
    "\n",
    "# tide = {}\n",
    "\n",
    "## Extract constituents from FES2014 and store pickle files\n",
    "# for comp in comps:\n",
    "#     data = xr.open_dataset(join(path, comp + '.nc'))\n",
    "#     data.coords['lon'] = (data.coords['lon'] + 180) % 360 - 180 #lon=[0,360]\n",
    "#     temp = {}\n",
    "\n",
    "#     for loc in locs.keys():\n",
    "#         temp[loc] = (data.sel(lat=locs[loc][0],lon=locs[loc][1])\n",
    "#         .to_dataframe()\n",
    "#         .drop(['lat_bnds', 'lon_bnds', 'crs'], axis=1)\n",
    "#         .drop(1)\n",
    "#         .assign(place=loc)\n",
    "#         .set_index('place', drop=True)\n",
    "#     )\n",
    "\n",
    "#     tide[comp] = pd.concat(temp.values())\n",
    "#     tide[comp].to_pickle('path/02_%s.p' % comp) # Choose your path"
   ]
  }
 ],
 "metadata": {
  "kernelspec": {
   "display_name": "coastalcodebook",
   "language": "python",
   "name": "python3"
  },
  "language_info": {
   "codemirror_mode": {
    "name": "ipython",
    "version": 3
   },
   "file_extension": ".py",
   "mimetype": "text/x-python",
   "name": "python",
   "nbconvert_exporter": "python",
   "pygments_lexer": "ipython3",
   "version": "3.13.1"
  }
 },
 "nbformat": 4,
 "nbformat_minor": 5
}
