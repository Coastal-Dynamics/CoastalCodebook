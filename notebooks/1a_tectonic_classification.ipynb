{
 "cells": [
  {
   "cell_type": "markdown",
   "id": "a419272c-ac30-49c5-9159-9595e3ba67d5",
   "metadata": {},
   "source": [
    "<figure>\n",
    "  <img src=\"../images/tudelft_logo.png\" alt=\"image\" width=\"250\" align=\"right\"/>\n",
    "</figure>"
   ]
  },
  {
   "cell_type": "markdown",
   "id": "c5ee3b6d-9a37-4e12-be67-40d150c235c2",
   "metadata": {},
   "source": [
    "# 1a: Tectonic classification\n",
    "\n",
    "Welcome to the first week of notebook exercises for Coastal Systems (TU Delft, MSc Coastal Engineering)! This is the third year that we use notebooks in Coastal Systems. With these notebooks, we hope to support the [Coastal Dynamics Open Textbook](https://books.open.tudelft.nl/home/catalog/book/202) with interactive material that helps you better understand the coastal processes and concepts explained in this course. Please let us know how you like the notebooks - we appreciate your feedback!\n",
    "\n",
    "Each week of the course has at least 1 accompanying notebook. Some weeks may have multiple notebooks. This week, we will have 2 notebooks: notebooks 1a and 1b. These two notebooks are about the material in Chapter 2 of the [Open Textbook](https://books.open.tudelft.nl/home/catalog/book/202), which describes the large geographical variation of coasts across the world. This chapter explains how the coasts that we have today are shaped by both present-day processes and processes millions of years ago. It distinguishes between three different orders of features, which are associated with different orders of time. In the notebooks of this first week, we will look at coastal systems at these different orders of scale.\n",
    "\n",
    "Notebook 1a starts with the broadest (or first-order) features of the coast that cover large geographical distances (thousands of kilometres) and are linked to the long-term geological process of plate tectonics. We will do so by using earthquake data from the [USGS](https://earthquake.usgs.gov/earthquakes/search/). The dataset that we load contains a sample (10\\%) of observed earthquakes between Dec 2018 and Jan 2000. Why earthquake data? Earthquake data could help reveal the geophysical processes on earth, which is not only insightful to geologists, but to coastal researchers as well. \n",
    "\n",
    "We will first prepare the visualization of the data. Next, you will be asked to answer 12 multiple choice or multiple selection questions."
   ]
  },
  {
   "cell_type": "markdown",
   "id": "78c55ce4-8013-45c6-9ad4-8dfd4fa53890",
   "metadata": {},
   "source": [
    "## Import libraries that we use for our analysis\n",
    "\n",
    "Let's first import the libraries that we use for our analysis by running the next cells."
   ]
  },
  {
   "cell_type": "code",
   "execution_count": null,
   "id": "ee2ffe05-66ec-43f8-b7e6-2db9302dee83",
   "metadata": {
    "tags": []
   },
   "outputs": [],
   "source": [
    "from pathlib import Path\n",
    "import warnings\n",
    "\n",
    "from bokeh.models import PanTool, WheelZoomTool\n",
    "import colorcet as cc\n",
    "import geopandas as gpd\n",
    "import holoviews as hv\n",
    "import hvplot.pandas  # noqa: API import\n",
    "import numpy as np\n",
    "import pandas as pd\n",
    "import panel as pn\n",
    "import pooch\n",
    "\n",
    "import coastal_dynamics as cd\n",
    "\n",
    "# Silence DeprecationWarning # Future TODO: in spring 2024 rm this silence and check status \n",
    "with warnings.catch_warnings():\n",
    "    warnings.filterwarnings(\"ignore\", category=DeprecationWarning)\n",
    "    import dask.dataframe as dd\n",
    "\n",
    "# Activate Panel extension to make interactive visualizations\n",
    "pn.extension()"
   ]
  },
  {
   "cell_type": "code",
   "execution_count": null,
   "id": "abc1fc45",
   "metadata": {},
   "outputs": [],
   "source": [
    "# read questions locally\n",
    "questions = cd.read_questions(Path(\"../hashed_questions/1_coastal_classification_hashed.json\"))\n",
    "\n",
    "question_industry = cd.QuestionIndustry(questions)\n",
    "\n",
    "cd.UseAnswersApp(\"1a\").serve()"
   ]
  },
  {
   "cell_type": "markdown",
   "id": "0807276d-5fb3-4118-ae29-06f12bdf4efb",
   "metadata": {},
   "source": [
    "## Load the earthquake data and prepare the visualization"
   ]
  },
  {
   "cell_type": "markdown",
   "id": "afef8413-6aaf-417a-9151-96bec27d8ae6",
   "metadata": {},
   "source": [
    "### Load the earthquake data\n",
    "\n",
    "We load the data (tabular data including geometries) and index the columns to keep only the data that we actually need in memory. In total, the dataset contains 2.2 million earthquakes, but here we use a sample (10\\%), so our subset contains approx. 220k earthquake entries. If you find that the interactive panel responds slowly to how you adjust the widgets, please consider taking another sample. You can do so by uncommenting the sample line in the next cell. If you set ``frac=0.1`` you will therefore have a dataframe with approx. 22k unique earthquakes all over the world. "
   ]
  },
  {
   "cell_type": "code",
   "execution_count": null,
   "id": "4938443e-bf3c-4c14-b171-5b721b19b9c7",
   "metadata": {
    "tags": []
   },
   "outputs": [],
   "source": [
    "earthquakes_fp = Path(\"../database/1_coastal_classification/1_earthquakes_sample.parquet\")\n",
    "\n",
    "WEB_MERCATOR_LIMITS = (\n",
    "    -20037508.342789244,\n",
    "    20037508.342789244,\n",
    ")  # max polar latitudes that can be handled in World Mercator\n",
    "\n",
    "df = (\n",
    "    dd.read_parquet(earthquakes_fp)\n",
    "    .sample(\n",
    "        frac=0.1\n",
    "    )  # uncomment this line if loading the data takes too long on your computer\n",
    "    .set_index(\"time\")\n",
    "    .compute()\n",
    "    .tz_localize(None)\n",
    "    .sort_index()\n",
    ")\n",
    "\n",
    "\n",
    "# To save memory we drop most of the columns. Also we drop the polar latitudes that cannot be displayed in the web mercator projection.\n",
    "df = df[[\"mag\", \"depth\", \"latitude\", \"longitude\", \"place\", \"type\"]][\n",
    "    df[\"northing\"] < WEB_MERCATOR_LIMITS[1]\n",
    "]"
   ]
  },
  {
   "cell_type": "markdown",
   "id": "50f41e8e",
   "metadata": {},
   "source": [
    "### Load the bathymetric contours\n",
    "\n",
    "To link the data on earthquakes with the physical shape of the ocean, we need to load in some bathymetry (underwater topography). We take the bathymetric contours (also known as isobaths) for a water depth of -200 m from [ArcGIS](https://www.arcgis.com/home/item.html?id=5f98dbc4708e4a7e99c0a7fe043d70a1), which we will use as a proxy to approximate the boundary of the continental shelf (see Chapter 2.3.3 in the textbook). Because we want to maintain interactive plots, all shorter isobaths are dropped. Computing lengths is a metric operation, so the data first has to be reprojected from a geographic coordinate system in degrees latitude/longitude to a planar projection.  \n"
   ]
  },
  {
   "cell_type": "code",
   "execution_count": null,
   "id": "e4684097",
   "metadata": {},
   "outputs": [],
   "source": [
    "isobath_fp = Path(\"../database/1_coastal_classification/1_isobaths200.gpkg\")\n",
    "\n",
    "data200 = gpd.read_file(isobath_fp)\n",
    "data200[\"length\"] = data200.to_crs(\"EPSG:3857\").geometry.length \n",
    "data200 = data200[data200[\"length\"] > 5 * 10**6]"
   ]
  },
  {
   "cell_type": "markdown",
   "id": "2fd26216-4946-495d-8b81-66c90dcf08f2",
   "metadata": {},
   "source": [
    "### Define the plot function for the earthquake data\n",
    "\n",
    "To explore the earthquake data, we use tools from the [Holoviz project](https://holoviz.org/), which makes high-level tools to simplify visualization in Python. Run the cell below to generate the ``show_earthquakes`` function. \n",
    "\n",
    "**Note**: Although you don't have to understand the plot method, we include it here so you can see how these interactive plots are made! "
   ]
  },
  {
   "cell_type": "code",
   "execution_count": null,
   "id": "bae161ca-3551-42bb-b8bd-75d2a34392a3",
   "metadata": {
    "tags": []
   },
   "outputs": [],
   "source": [
    "def show_earthquakes():\n",
    "    \"\"\"\n",
    "    Creates an app showing a global map with earthquake data.\n",
    "    \"\"\"\n",
    "\n",
    "    # Below we build the earthquake widget\n",
    "    title_bar = pn.pane.Markdown(\n",
    "        \"## Global distribution of earthquakes\",\n",
    "        styles={\"color\": \"black\"},\n",
    "        width=400,\n",
    "        # margin=(10, 5, 10, 15),\n",
    "    )\n",
    "\n",
    "    # define widgets that can be used to index the data\n",
    "    magnitude_slider = pn.widgets.RangeSlider(\n",
    "        name=\"Earthquake magnitude [Richter]\", start=0.1, end=10\n",
    "    )\n",
    "    depth_slider = pn.widgets.RangeSlider(\n",
    "        name=\"Earthquake depth [km]\", start=0.1, end=650\n",
    "    )\n",
    "    date_slider = pn.widgets.DateRangeSlider(\n",
    "        name=\"Date\", start=df.index[0], end=df.index[-1]\n",
    "    )\n",
    "    column_types = pn.widgets.Select(\n",
    "        name=\"Show earthquake magnitude or depth?\", options=[\"mag\", \"depth\"]\n",
    "    )\n",
    "\n",
    "    plot_isobaths = pn.widgets.Select(\n",
    "        name=\"Plot isobaths -200m?\", options=[\"no\", \"yes\"]\n",
    "    )\n",
    "\n",
    "    @pn.depends(\n",
    "        magnitude_slider.param.value_start,\n",
    "        magnitude_slider.param.value_end,\n",
    "        depth_slider.param.value_start,\n",
    "        depth_slider.param.value_end,\n",
    "        date_slider.param.value_start,\n",
    "        date_slider.param.value_end,\n",
    "        column_types.param.value,\n",
    "        plot_isobaths.param.value,\n",
    "    )\n",
    "    def plot_earthquake_panel(\n",
    "        magnitude_start,\n",
    "        magnitude_end,\n",
    "        depth_start,\n",
    "        depth_end,\n",
    "        date_start,\n",
    "        date_end,\n",
    "        column_type,\n",
    "        plot_isobath,\n",
    "    ):\n",
    "        panel = df[\n",
    "            (df.mag > magnitude_start)\n",
    "            & (df.mag < magnitude_end)\n",
    "            & (df.depth > depth_start)\n",
    "            & (df.depth < depth_end)\n",
    "            & (df.index >= pd.Timestamp(date_start))\n",
    "            & (df.index <= pd.Timestamp(date_end))\n",
    "        ]\n",
    "        # inverted fire colormap from colorcet\n",
    "        cmap = cc.CET_L4[::-1]\n",
    "        colorbar_labels = {\n",
    "            \"mag\": \"Magnitude [Richter]\",\n",
    "            \"depth\": \"Earthquake depth [km]\",\n",
    "        }\n",
    "                \n",
    "        p = panel.hvplot.points(\n",
    "            x=\"longitude\",\n",
    "            y=\"latitude\",\n",
    "            geo=True,\n",
    "            color=column_type,\n",
    "            # global_extent=True,\n",
    "            tiles=\"EsriOceanBase\",\n",
    "            # frame_width=900,\n",
    "            ylabel=\"Latitude [deg]\",\n",
    "            xlabel=\"Longitude [deg]\",\n",
    "            cmap=cmap,\n",
    "            tools=[\"tap\"],\n",
    "            hover_cols=[\"place\", \"time\"],\n",
    "            logz=True,\n",
    "            clim=(1, None),\n",
    "            clabel=colorbar_labels[column_type],\n",
    "            framewise=True,\n",
    "            xlim=(-180, 180), \n",
    "            ylim=(-65, 77)\n",
    "        )\n",
    "\n",
    "        if plot_isobath == \"yes\":\n",
    "            baths = data200.hvplot(\n",
    "                geo=True, line_width=2, line_color=\"white\", line_dash=\"dashed\"\n",
    "            )\n",
    "            p = p * baths\n",
    "\n",
    "        p.opts(tools=[\"wheel_zoom\"])\n",
    "        p.opts(frame_width=800)\n",
    "        # p.opts(height=600)\n",
    "        p.opts()\n",
    "\n",
    "        return p\n",
    "\n",
    "    earthquake_panel = pn.Column(\n",
    "        pn.Row(\n",
    "            pn.Column(\n",
    "                pn.Row(title_bar, align=\"start\"),\n",
    "                pn.Row(plot_isobaths, align=\"start\"),\n",
    "                pn.Row(column_types, align=\"start\"),\n",
    "            ),\n",
    "            pn.Column(\n",
    "                pn.Row(magnitude_slider, align=\"start\"),\n",
    "                pn.Row(depth_slider, align=\"start\"),\n",
    "                pn.Row(date_slider, align=\"start\"),\n",
    "            ),\n",
    "            pn.Column(),\n",
    "        ),\n",
    "        pn.Row(plot_earthquake_panel, align=\"center\"),\n",
    "    )\n",
    "\n",
    "    return earthquake_panel"
   ]
  },
  {
   "cell_type": "markdown",
   "id": "bb8e883d-3f46-452d-80ed-c79deea932a4",
   "metadata": {},
   "source": [
    "## Plot the earthquake data \n",
    "\n",
    "Execute the cell below to generate the plot by using the function we defined above. Please note that altering the slider positions or selecting different options from the dropdown menus may trigger a warning; it can safely be ignored, and possibly silenced by adjusting the logging warning level. \n",
    "\n",
    "After running the cells below you will have a panel with several widgets to index the earthquake data; by magnitude, depth and time, while the colours on the map show either the magnitude or the depth of the earthquakes. Here we consider the depth of an earthquake to be the distance below the earth's surface at which the epicentre of the earthquake occurs. Earthquakes occur in the crust or upper mantle, which ranges from the earth's surface to about 800 km deep. If you look very carefully, you might observe that according to the dataset, an unexpectedly high number of earthquakes occur at a depth of 10 km. Ten kilometres is a \"fixed depth\". Sometimes data are too scarce or low-quality to compute a reliable depth for an earthquake. In such cases, the depth is assigned to be 10 km ([source](https://www.usgs.gov/faqs/what-depth-do-earthquakes-occur-what-significance-depth#:~:text=Ten%20kilometers%20is%20a%20%22fixed,assigned%20to%20be%2010%20km.)). Whenever you examine real-world datasets, it is always a good idea to keep an eye out for such assumptions.\n",
    "\n",
    "**If the visualization is too slow, please adjust the sliders such that less data is shown.**\n",
    "       \n",
    "The earthquake data is shown on top of a bathymetric and topographic map, which is made available by ESRI. In general, the lighter blue colour in the figure shows the shallower part of the ocean (i.e., the continental shelf). Note that in shallower water (i.e., when zooming in to regions close to the coast and in estuaries), a darker shade of blue is shown again. This behaviour relates to how the map data is stored and displayed, which is much more efficient for us to load, but with the unfortunate side effect that (at least in this case) the colourmap is not constant for all scales.\n",
    "\n",
    "For efficiency, the plots are generated without the -200m isobathymetry by default. Enable this feature if you would like to see detailed water depth contours, but note that it will increase the plotting time."
   ]
  },
  {
   "cell_type": "code",
   "execution_count": null,
   "id": "52a16a65-939c-48c8-a9ef-b35608ebf435",
   "metadata": {},
   "outputs": [],
   "source": [
    "app = show_earthquakes()\n",
    "\n",
    "cd.launch_app(app)"
   ]
  },
  {
   "cell_type": "markdown",
   "id": "0a21a13d-e1a7-4f40-804e-2113225ddbb5",
   "metadata": {},
   "source": [
    "## Questions\n",
    "\n",
    "By running the below cells you get four blocks of in total 12 questions. You can use the earthquake panel in combination with your textbook to answer the questions. "
   ]
  },
  {
   "cell_type": "markdown",
   "id": "133e45b2-9b87-4f73-a97a-e79313bae052",
   "metadata": {},
   "source": [
    "\n",
    "### Question block 1: Identifying the tectonic plate setting from earthquake data\n",
    "\n",
    "As coastal engineers we may not primarily be interested in the earthquake data by itself. However, earthquake data show evidence of the most fundamental processes in geology: plate tectonics. Although plate tectonics is a relatively slow process that acts on the geological time scale, it has had an enormous impact on the formation of coastlines and determines the broadest features of the coast. \n",
    "\n",
    "The first three questions will help you identify the location and type of plate boundaries by means of the earthquake data. These questions can be answered by using the earthquake panel and Figure 2.2 from the book. You can also cross-check your answers using Figure 2.4. For convenience, we suggest to open the Panel dashboard in a separate browser tab to view the questions and plot side by side. Run the code cell below to access the questions. "
   ]
  },
  {
   "cell_type": "code",
   "execution_count": null,
   "id": "1d8454ca-ab07-4b54-ab89-88f9b0c52fdc",
   "metadata": {},
   "outputs": [],
   "source": [
    "q = [\n",
    "    \"Q1a-earthquakes_diverging_boundaries\",\n",
    "    \"Q1a-earthquakes_250km\",\n",
    "    \"Q1a-earthquakes_divergent_vs_convergent\",\n",
    "]\n",
    "\n",
    "question_industry.serve(q)"
   ]
  },
  {
   "cell_type": "markdown",
   "id": "f60a5c37-420e-4507-a8f1-ccb6a6e159d7",
   "metadata": {},
   "source": [
    "### Question block 2: Tectonic influence on coasts\n",
    "In 1971, Inman & Nordstrom used plate tectonics to classify the coast (Chapter 2.3.2). They distinguished between three main types of coasts: leading edge, trailing edge and marginal sea. In the questions below, match the mentioned coasts to each class."
   ]
  },
  {
   "cell_type": "code",
   "execution_count": null,
   "id": "8d503057-e8df-4446-9b2c-3812ee988210",
   "metadata": {},
   "outputs": [],
   "source": [
    "q = [\n",
    "    \"Q1a-wilmington\",\n",
    "    \"Q1a-shanghai\",\n",
    "    \"Q1a-maputo\",\n",
    "    \"Q1a-lima\",\n",
    "]\n",
    "\n",
    "question_industry.serve(q)"
   ]
  },
  {
   "cell_type": "markdown",
   "id": "3060d2bc-ce5a-468a-8219-d41a5b6c602f",
   "metadata": {},
   "source": [
    "### Question block 3: The influence of sediment supply\n",
    "\n",
    "It's not just the location of the coast relative to plate boundaries that matters; Inman, D. L. & Nordstrom (1971) further distinguish Afro-trailing-edge coasts and Amero-trailing-edge coasts based on differences in sediment supplies. Let's take a look at some of the sites mentioned in Table 2.3 with this in mind. "
   ]
  },
  {
   "cell_type": "code",
   "execution_count": null,
   "id": "b9583771-20ce-41cd-841f-5970f68ba261",
   "metadata": {},
   "outputs": [],
   "source": [
    "q = [\n",
    "    \"Q1a-large_river_deltas\", \n",
    "    \"Q1a-amazon_and_mekong\", \n",
    "    \"Q1a-redfish_pass\",\n",
    "]\n",
    "\n",
    "question_industry.serve(q)"
   ]
  },
  {
   "cell_type": "markdown",
   "id": "52f05014-d83f-4ea8-b742-39427682b695",
   "metadata": {},
   "source": [
    "#### Question block 4: Australian Gold Coast\n",
    "\n",
    "For the upcoming two questions, consider the east Australian \"Gold Coast\", which is located around the easternmost point of Australia (south of Brisbane)."
   ]
  },
  {
   "cell_type": "code",
   "execution_count": null,
   "id": "f937bf51-4f58-48c4-a6fa-a5fe64c70e73",
   "metadata": {},
   "outputs": [],
   "source": [
    "q = [\n",
    "    \"Q1a-gold_coast_shelf_width\",\n",
    "    \"Q1a-gold_coast_marginal\",\n",
    "]\n",
    "\n",
    "question_industry.serve(q)"
   ]
  },
  {
   "cell_type": "markdown",
   "id": "5231940c",
   "metadata": {},
   "source": [
    "### The end \n",
    "\n",
    "You have reached the end of this Notebook 1a. You can continue with this week's second notebook, Notebook 1b on process-based classification."
   ]
  }
 ],
 "metadata": {
  "kernelspec": {
   "display_name": "coastalcodebook",
   "language": "python",
   "name": "python3"
  },
  "language_info": {
   "codemirror_mode": {
    "name": "ipython",
    "version": 3
   },
   "file_extension": ".py",
   "mimetype": "text/x-python",
   "name": "python",
   "nbconvert_exporter": "python",
   "pygments_lexer": "ipython3",
   "version": "3.13.1"
  }
 },
 "nbformat": 4,
 "nbformat_minor": 5
}
