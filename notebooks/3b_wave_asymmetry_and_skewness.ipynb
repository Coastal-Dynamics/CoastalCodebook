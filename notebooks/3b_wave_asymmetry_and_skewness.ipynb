{
 "cells": [
  {
   "cell_type": "markdown",
   "id": "a57196e5-eb53-4eab-8bb2-b11c2a313e56",
   "metadata": {},
   "source": [
    "<figure>\n",
    "  <img src=\"../images/tudelft_logo.png\" alt=\"image\" width=\"250\" align=\"right\"/>\n",
    "</figure>"
   ]
  },
  {
   "cell_type": "markdown",
   "id": "00274560-1dd9-4bc9-ab19-d896a663abf0",
   "metadata": {},
   "source": [
    "# 3b: Wave asymmetry and skewness "
   ]
  },
  {
   "cell_type": "markdown",
   "id": "9c61dd36-8df2-48f7-b54e-a4f2f5af06a2",
   "metadata": {},
   "source": [
    "## Introduction\n",
    "\n",
    "This notebook is one of the three notebooks for this week. It deals with wave shape, which is very important for sediment transport (as we will see in later chapters). When talking about wave shape, we can distinguish between wave skewness and wave asymmetry (Section 5.3 of the [Coastal Dynamics Open Textbook](https://books.open.tudelft.nl/home/catalog/book/202)). We will investigate these topics in this notebook. \n",
    "\n",
    "### Theory\n",
    "Wave asymmetry and skewness can be demonstrated by using a second-order wave with surface elevation $\\eta$ that consists of a first harmonic $\\eta_1$ and a second harmonic $\\eta_2$ \n",
    "\n",
    "\\begin{equation}\n",
    "\\tag{1}\n",
    "\\eta = a_1 cos(wt-kx-\\phi_1) + a_2 cos(2(wt-kx)-\\phi_2)\n",
    "\\end{equation}\n",
    "\n",
    "Compare this equation to Equation 5.21 in the book; as you can see Equation 1 uses $a_1$ and $a_2$ for the amplitudes of the two harmonics (instead of $\\hat{\\eta}_1$ and $\\hat{\\eta}_2$). Also, we have added the phases $\\phi_1$ and $\\phi_2$ of the components to Equation 1. For $\\phi_1=\\phi_2=0$, you will recognize a second-order Stokes wave. A phase *difference* between the wave components influences the shape of the combined wave. In Chapter 9 (Section 9.7.2), we will see that phase shift of the second harmonic with respect to the first harmonic is $\\phi_{2-1}=\\phi_2-2\\phi_1$. \n",
    "\n",
    "Note that for demonstration purposes, we have assumed that the first and second harmonic travel at the same speed, and, thus, that we have a permanent wave form. How can you see from Equation 1 that the second harmonic travels at the same speed as the first harmonic?\n",
    "\n",
    "### Structure\n",
    "This notebook consists of two parts: \n",
    "1. Investigate the wave shape of skewed and asymmetric waves using a primary and secondary harmonic. This part includes *six numeric questions*. \n",
    "2. Investigate the effect of wave skewness and asymmetry on wave-averaged quantities, including sediment transport. This part includes *three multiple-selection questions*\n"
   ]
  },
  {
   "cell_type": "markdown",
   "id": "77b5f373-4326-4c57-b9c0-3fdb55266d80",
   "metadata": {},
   "source": [
    "## Import libraries that we use for our analysis\n",
    "\n",
    "Let's first import the libraries that we use for our analysis by running the next cell."
   ]
  },
  {
   "cell_type": "code",
   "execution_count": null,
   "id": "b4d6fd18-17c3-404a-85db-fb84b37469c4",
   "metadata": {},
   "outputs": [],
   "source": [
    "from pathlib import Path\n",
    "\n",
    "import panel as pn\n",
    "import numpy as np\n",
    "from IPython.display import display\n",
    "\n",
    "import coastal_dynamics as cd\n",
    "\n",
    "pn.extension()"
   ]
  },
  {
   "cell_type": "code",
   "execution_count": null,
   "id": "e4f52e9a",
   "metadata": {},
   "outputs": [],
   "source": [
    "import sys\n",
    "\n",
    "sys.path.append('../')\n",
    "\n",
    "from modules import mod_3b"
   ]
  },
  {
   "cell_type": "code",
   "execution_count": null,
   "id": "e4369365-c81e-419f-89c6-8c22b76bfa22",
   "metadata": {},
   "outputs": [],
   "source": [
    "questions = cd.read_questions(Path(\"../hashed_questions/3b_wave_asymmetry_and_skewness_hashed.json\"))\n",
    "\n",
    "question_industry = cd.QuestionIndustry(questions)\n",
    "\n",
    "cd.UseAnswersApp(\"3b\").serve()"
   ]
  },
  {
   "cell_type": "markdown",
   "id": "495b9c99-44e1-43aa-850a-e328d285780f",
   "metadata": {},
   "source": [
    "## Part 1: Asymmetry and skewness for second-order wave\n",
    "\n",
    "By running the next cell you will get an interactive graph displaying the surface elevation according to Equation 1. The phase on the horizontal axis is the phase $S=\\omega t - k x$ of the *primary* harmonic. The graph requires input for the amplitudes and phases of each component. Herewith, you can investigate the impact of the amplitudes and the phases on the wave shape (asymmetry and skewness). "
   ]
  },
  {
   "cell_type": "code",
   "execution_count": null,
   "id": "d0ce79ef-1e0f-4a72-b152-4b71b46f5ab8",
   "metadata": {},
   "outputs": [],
   "source": [
    "mod_3b.second_order_waves()"
   ]
  },
  {
   "cell_type": "markdown",
   "id": "8bc4d54b-4739-494f-95c9-82776e93cb33",
   "metadata": {},
   "source": [
    "### Figures 5.13 and 5.16\n",
    "\n",
    "We will now use the interactive graph to reproduce Figures 5.13 and 5.16 of the book. \n",
    "\n",
    "#### Figure 5.13\n",
    "First have a look at Figure 5.13 of the book. Which amplitudes and phases of wave component $\\eta_1$ and $\\eta_2$ will reproduce Figure 5.13? Use both Equation 1 and the interactive graph to find the answers. Note that in the book the y-axis is scaled with (i.e., divided by) the amplitude of the first harmonic component. In the interactive plot, you should stick to $a_1 = 1$ to have the same values on the y-axis. \n",
    "\n",
    "#### Figure 5.16\n",
    "\n",
    "Now do the same for Figure 5.16. \n",
    "\n",
    "#### Questions\n",
    "When you have determined the ampitudes and phases for both figures using the interactive graph, you can verify your findings in a few numeric questions (for this, run the cell below). "
   ]
  },
  {
   "cell_type": "code",
   "execution_count": null,
   "id": "f17bb8fe-96f9-4068-8e6f-05d7f570556d",
   "metadata": {},
   "outputs": [],
   "source": [
    "q = [\n",
    "    \"Q3b-second_order_wave_5.13-eta1\",\n",
    "    \"Q3b-second_order_wave_5.13-eta2\",\n",
    "    \"Q3b-second_order_wave_5.13-phi2\",\n",
    "    \"Q3b-second_order_wave_5.16-eta1\",\n",
    "    \"Q3b-second_order_wave_5.16-eta2\",\n",
    "    \"Q3b-second_order_wave_5.16-phi2\"\n",
    "]\n",
    "\n",
    "question_industry.serve(q)"
   ]
  },
  {
   "cell_type": "markdown",
   "id": "67ead777-88c0-4389-9998-f117368fae50",
   "metadata": {},
   "source": [
    "### Figure 5.15\n",
    "\n",
    "We are now going to reproduce the total surface elevation as shown in Figure 5.15 (the solid lines). First, we will do the left panel, which has x/L on the horizontal axis, and then the right panel, which has t/T on the horizontal axis. Again we will not scale with $a_1$, but use $a_1 = 1$. \n",
    "\n",
    "#### Left panel of Figure 5.15\n",
    "Can you reproduce the solid line in the left panel of Figure 5.15? Assume t = 0 s and rewrite Equation 1, such that the surface elevation is a function of x/L. Now fill in this equation in the code cell below and run the cell to plot your answer and the correct answer. Note that in the code cell, the input values are already given. How do these compare to the values you found above and why? "
   ]
  },
  {
   "cell_type": "code",
   "execution_count": null,
   "id": "c1f2816b-95f2-4e6a-8606-5fb329f8b81f",
   "metadata": {},
   "outputs": [],
   "source": [
    "input_values = {\n",
    "    \"x_L\": np.linspace(-0.1, 1.1, 100),   \n",
    "    \"eta1\": 1,\n",
    "    \"eta2\": 0.2,\n",
    "    \"phi1\": 0,\n",
    "    \"phi2\": -0.5,\n",
    "}\n",
    "\n",
    "xL, eta1, eta2, phi1, phi2 = input_values.values()\n",
    "\n",
    "# Replace None by your formula for eta\n",
    "def formula_student_x_L(xL, eta1, eta2, phi1, phi2):\n",
    "    eta = None             # This function is called function 1 in the check of the plot\n",
    "\n",
    "    return eta\n",
    "\n",
    "output, figure = mod_3b.check_second_order_waves_x_L(input_values, [formula_student_x_L])\n",
    "\n",
    "print(output)\n",
    "display(figure)"
   ]
  },
  {
   "cell_type": "markdown",
   "id": "6cdff687-6362-43c1-834b-ab569f4d017c",
   "metadata": {},
   "source": [
    "#### Right panel of Figure 5.15\n",
    "\n",
    "Can you now code the equation to reproduce the solid line in the right panel of Figure 5.15? This requires that you rewrite Equation 1, such that the surface elevation becomes a function of t/T and assume that we are at the location of point A in the left plot. You can type your equation in the code cell below to check your outcome.\n",
    "\n",
    "Now consider the following question: What are the most striking differences between the left and the right panel of Figure 5.15?"
   ]
  },
  {
   "cell_type": "code",
   "execution_count": null,
   "id": "ee83ee3c-a7fa-4f7a-80cb-cfb6fbdc3758",
   "metadata": {},
   "outputs": [],
   "source": [
    "input_values = {\n",
    "    \"t_T\": np.linspace(-0.1, 1.1, 100),\n",
    "    \"eta1\": 1,\n",
    "    \"eta2\": 0.2,\n",
    "    \"phi1\": 0,\n",
    "    \"phi2\": -0.5,\n",
    "}\n",
    "\n",
    "tT, eta1, eta2, phi1, phi2 = input_values.values()\n",
    "\n",
    "# Replace None by your formula for eta\n",
    "def formula_student_t_T(tT, eta1, eta2, phi1, phi2):\n",
    "    eta = None             # This function is called function 1 in the check of the plot\n",
    "\n",
    "\n",
    "    return eta\n",
    "\n",
    "output, figure = mod_3b.check_second_order_waves_t_T(input_values, [formula_student_t_T])\n",
    "print(output)\n",
    "display(figure)"
   ]
  },
  {
   "cell_type": "markdown",
   "id": "5316412e-fd92-4d75-8e56-a5d077ed2404",
   "metadata": {},
   "source": [
    "## Part 2: Effect skewness & asymmetry on sediment transport"
   ]
  },
  {
   "cell_type": "markdown",
   "id": "3dd5a640-f334-44b8-be34-9a8e70bb85f6",
   "metadata": {},
   "source": [
    "### Figures 5.14 and 5.17\n",
    "\n",
    "Later in this course, we will consider how the wave shape influences sediment transport. A common assumption is that sediment transport is proportional to higher powers of the orbital velocity signal. As a first step, let us consider what higher powers of the surface elevation look like. Remember that under a progressive wave (like we see in the nearshore), velocity and surface elevation are in phase. Here we compare $\\eta$ with $\\eta^3$, while varying the phase of the second harmonic component, as in Figure 5.14 and 5.17. \n",
    "\n",
    "#### What to do with the interactive graph?\n",
    "1. Run the code cell below to obtain an interactive graph (and some questions).\n",
    "2. We have already filled in the first harmonic component, so you can leave these values untouched. You can see the results of the first harmonic component alone in the left panel. Verify that this figure is identical to the panel for sinusoidal waves in Figure 5.14.\n",
    "3. Now choose the amplitude and phase of the second harmonic for skewed waves.\n",
    "4. Compare the middle panel with the panel for skewed waves in either Figure 5.14 or 5.17. If you have chosen the amplitude and phase of the second harmonic correctly, the figures are identical.\n",
    "5. Now choose the amplitude and phase of the second harmonic for asymmetric waves.\n",
    "6. Compare the right panel with the panel for asymmetric waves in either Figure 5.14 or 5.17. If you have chosen the amplitude and phase of the second harmonic correctly, the figures are identical.\n",
    "\n",
    "#### Reflection\n",
    "Study the figures to see how the peaks and shape of $\\eta$ and $\\eta^3$ vary between the panels. What is the influence on the *phase-averaged value* of $\\eta^3$ when the amplitudes and phases of the wave components change? And as a final thought provoking question on this section: what may be the implications for the corresponding time-varying transport signal and the wave-averaged (or net or time-averaged) transport at a certain location? Verify your ideas using the questions below the graph."
   ]
  },
  {
   "cell_type": "code",
   "execution_count": null,
   "id": "c9c52ad8-c609-4326-8481-b8b2a5584cba",
   "metadata": {},
   "outputs": [],
   "source": [
    "mod_3b.asymmetric()"
   ]
  },
  {
   "cell_type": "code",
   "execution_count": null,
   "id": "8a4143ae-5b9c-4011-86de-4f9a4ed9d646",
   "metadata": {},
   "outputs": [],
   "source": [
    "q = [\n",
    "    \"Q3b-third_moment_left\",\n",
    "    \"Q3b-third_moment_middle\",\n",
    "    \"Q3b-third_moment_right\"\n",
    "]\n",
    "\n",
    "question_industry.serve(q)"
   ]
  },
  {
   "cell_type": "markdown",
   "id": "3c643c69-2a13-4ba1-b3fc-7810ee1349b6",
   "metadata": {},
   "source": [
    "### The end\n",
    "\n",
    "You have reached the end of this Notebook 3b. You can continue with this week's last notebook, which is Notebook 3c on radiation stresses and wave forces."
   ]
  }
 ],
 "metadata": {
  "kernelspec": {
   "display_name": "coastalcodebook",
   "language": "python",
   "name": "python3"
  },
  "language_info": {
   "codemirror_mode": {
    "name": "ipython",
    "version": 3
   },
   "file_extension": ".py",
   "mimetype": "text/x-python",
   "name": "python",
   "nbconvert_exporter": "python",
   "pygments_lexer": "ipython3",
   "version": "3.13.1"
  }
 },
 "nbformat": 4,
 "nbformat_minor": 5
}
