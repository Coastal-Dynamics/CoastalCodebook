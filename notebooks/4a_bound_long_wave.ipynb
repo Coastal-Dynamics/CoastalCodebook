{
 "cells": [
  {
   "cell_type": "markdown",
   "id": "8416fbae-3e93-4859-b994-ae772de885ac",
   "metadata": {},
   "source": [
    "<figure>\n",
    "  <img src=\"../images/tudelft_logo.png\" alt=\"image\" width=\"250\" align=\"right\"/>\n",
    "</figure>"
   ]
  },
  {
   "cell_type": "markdown",
   "id": "f3d741e9-49d7-4883-a38f-c92cfe5e28c3",
   "metadata": {},
   "source": [
    "# 4a: Bound long waves"
   ]
  },
  {
   "cell_type": "markdown",
   "id": "e540699a-ae38-493c-93e9-619d9d992539",
   "metadata": {},
   "source": [
    "Welcome at this first notebook of week 4 on bound long waves. When we discussed radiation stress in Notebook 3c, we did not consider the variations of radiation stress and wave forces *within a wave group* yet. We will do so in this Notebook. \n",
    "\n",
    "Due to the wave height variations within a group, the wave energy and radiation stresses vary as well. In this notebook, our starting point is the expression for the wave envelope that we dealt with in Notebook 2a. We will use this envelope to determine how the wave energy and radiation stress vary within a wave group and how this forces a long wave motion on the scale of a wave group. \n",
    "\n",
    "This notebook consists of two parts:\n",
    "1. Part 1: Slowly-varying wave energy and radiation stress (coding exercises and one multiple-choice and one multiple-selection question)\n",
    "2. Part 2: Bound long wave (coding exercises and one multiple-selection question)\n",
    "\n",
    "## Theory\n",
    "In Notebook 2b, we considered a bichromatic wave train on a horizontal bed, with the frequencies of the components close together, and equal amplitudes. This resulted in a wave group consisting of a so-called carrier wave $\\sin(\\bar\\omega t - \\bar k x)$ with a slowly-varying amplitude $a(x,t)$ given as: \n",
    "\n",
    "\\begin{equation}\n",
    "\\tag{1}\n",
    "A (x,t)  =  2a \\cos(\\frac{\\Delta\\omega}{2}t - \\frac{\\Delta k}{2}x)\n",
    "\\end{equation}\n",
    "\n",
    "So far, for instance in Notebook 3c, we have considered the wave energy $E$ as a resultant quantity integrated over the wave period and any wave groups: $E=\\bar E$. In this notebook, however, we will consider the temporal variation *within* the wave group by taking into account the slowly-varying amplitude $a (x,t)$. We get:\n",
    "\n",
    "\\begin{equation}\n",
    "\\tag{2}\n",
    "E (x,t) =  \\frac{1}{2} \\rho g a(x,t)^2\n",
    "\\end{equation}\n",
    "\n",
    "The radiation stress $S_{xx}$ varies as:\n",
    "\n",
    "\\begin{equation}\n",
    "\\tag{4}\n",
    "S_{xx} (x,t) =  (2 n - 0.5) E(x,t) \n",
    "\\end{equation}\n",
    "\n",
    "with: \n",
    "\n",
    "\\begin{equation}\n",
    "\\tag{5}\n",
    "n = \\frac{c_g}{\\bar c} \\mathrm{\\enspace with \\enspace} c_g = \\frac{\\Delta\\omega }{\\Delta k} \\mathrm{\\enspace and \\enspace} \\bar c = \\frac{\\bar \\omega }{ \\bar k }\n",
    "\\end{equation}\n",
    "\n",
    "In Part 1 of this Notebook, we will determine $E(x,t)$ and $S_{xx}(x,t)$. In part 2 we will see how this time-variation forces a bound long wave associated with the group."
   ]
  },
  {
   "cell_type": "markdown",
   "id": "60c72736-5167-4471-a9f5-8807ede7ba9e",
   "metadata": {},
   "source": [
    "## Import libraries that we use for our analysis\n",
    "Let's first import the libraries that we use for our analysis by running the next cells."
   ]
  },
  {
   "cell_type": "code",
   "execution_count": null,
   "id": "c582dda6-554e-488c-a067-444adbf14179",
   "metadata": {},
   "outputs": [],
   "source": [
    "from pathlib import Path\n",
    "\n",
    "import numpy as np\n",
    "import holoviews as hv\n",
    "from IPython.display import display \n",
    "import panel as pn\n",
    "\n",
    "import coastal_dynamics as cd\n",
    "\n",
    "pn.extension()"
   ]
  },
  {
   "cell_type": "code",
   "execution_count": null,
   "id": "2cf5b15b",
   "metadata": {},
   "outputs": [],
   "source": [
    "import sys\n",
    "\n",
    "sys.path.append('../')\n",
    "\n",
    "from modules import mod_4a"
   ]
  },
  {
   "cell_type": "code",
   "execution_count": null,
   "id": "d7aaa0cd-53ad-4eb1-8b9e-9c0ada654ab6",
   "metadata": {},
   "outputs": [],
   "source": [
    "questions = cd.read_questions(Path(\"../hashed_questions/4a_bound_long_wave_hashed.json\"))\n",
    "\n",
    "question_industry = cd.QuestionIndustry(questions)\n",
    "\n",
    "cd.UseAnswersApp(\"4a\").serve()"
   ]
  },
  {
   "cell_type": "markdown",
   "id": "abe3d335-ed51-46b1-bfbd-de9921ebbc52",
   "metadata": {},
   "source": [
    "## Fenton approximation\n",
    "\n",
    "Also in this notebook, you will need the Fenton approximation for solving the dispersion relationship. Copy your code in the below cell.\n"
   ]
  },
  {
   "cell_type": "code",
   "execution_count": null,
   "id": "e78d0e7a-1d12-43c5-bf42-1e417216ebb8",
   "metadata": {},
   "outputs": [],
   "source": [
    "## Fenton approximation to the linear dispersion relationship\n",
    "def waveNumber_Fenton(T, h):\n",
    "    \"\"\"Complete the code here\"\"\"\n",
    "    k = None\n",
    "    \n",
    "    return k\n",
    "\n"
   ]
  },
  {
   "cell_type": "markdown",
   "id": "928be89c-c3dc-4d1e-8832-a68a90e692ba",
   "metadata": {},
   "source": [
    "## Part 1: Slowly-varying wave energy and radiation stress"
   ]
  },
  {
   "cell_type": "markdown",
   "id": "2571c7ef-9492-4e11-bd84-cc4a3689f829",
   "metadata": {},
   "source": [
    "In Notebook 2b, we discussed the wave group and wave envelope for two harmonic components with equal amplitude, and you coded functions for the surface elevation and wave envelope yourself. Below we will assume that you know how to determine the wave envelope and continue from there. \n",
    "\n",
    "### Exercise\n",
    "\n",
    "Can you code the wave energy $E(x,t)$ and radiation stresses and $S_{xx}(x,t)$ as they vary within the bichromatic wave group with equal amplitudes? In the below code cell you are asked to provide two functions for the wave energy: $E(x = x_p, t)$ and $E(x,t = t_p)$ and two functions for the radiation stress: $S_{xx}(x = x_p, t)$ and $S_{xx}(x,t = t_p)$. Your functions will be checked automatically and plotted together with the correct functions. It is also possible to first run the code cell without already supplying your own functions, so that you can get an idea of what the resulting plot should look like. \n",
    "\n",
    "NB. In your function you can call your above defined Fenton function as follows: \"k = waveNumber_Fenton(T, h)\"."
   ]
  },
  {
   "cell_type": "code",
   "execution_count": null,
   "id": "f9025e58-c07e-49bd-8fe1-52c59f5561d6",
   "metadata": {},
   "outputs": [],
   "source": [
    "input_values = {\n",
    "    \"a\": 1,                          # amplitude of second harmonic component [m]\n",
    "    \"T1\": 5,                         # period of first harmonic component [s]\n",
    "    \"T2\": 4.5,                       # period of second harmonic component [s]\n",
    "    \"tp\": 0,                         # constant t-value for spatial plot (0 is default)\n",
    "    \"xp\": 0,                         # constant x-value for time plot (0 is default)\n",
    "    \"t\": [],                         # t-range, will be determined automatically to cover n_groups wave groups starting from t = 0 \n",
    "    \"x\": [],                         # x-range, will be determined automatically to cover n_groups wave groups starting from x = 0 \n",
    "    \"h\": 7,                          # water depth [m]\n",
    "    \"n_groups\": 4,                   # number of wave groups that will be shown in time and space [-] (axes start from 0)   \n",
    "    \"rho\": 1025,                     # density of the water [kg/m^3]\n",
    "    \"g\": 9.81,                       # acceleration due to gravity [m/s^2]\n",
    "}\n",
    "\n",
    "def Energy_Radiation_Stress(a, T1, T2, tp, xp, t, x, h, rho, g):\n",
    "    \"\"\"  \n",
    "    Args:\n",
    "        see definition at input_values\n",
    "        \n",
    "    Returns:\n",
    "        E_t: Calculated time-varying wave energy for x = xp, E(x = xp, t) (referred to as Function 1).\n",
    "        E_x: Calculated spatially-varying wave energy for t = tp, E(x,t = tp) (referred to as Function 2).\n",
    "        Sxx_t: Calculated time-varying radiation stress for x = xp, Sxx(x = xp, t) (referred to as Function 3).    \n",
    "        Sxx_x: Calculated spatially-varying radiation stress for t = tp, Sxx(x,t = tp) (referred to as Function 4).    \n",
    "    \"\"\"\n",
    "    \n",
    "    E_t = None  # Replace None by your own function 1\n",
    "    E_x = None  # Replace None by your own function 2\n",
    "    Sxx_t = None  # Replace None by your own function 3\n",
    "    Sxx_x = None  # Replace None by your own function 4\n",
    "\n",
    "    \n",
    "    return E_t, E_x, Sxx_t, Sxx_x  \n",
    "\n",
    "output, figure = mod_4a.check_envelope_E(input_values, Energy_Radiation_Stress)\n",
    "\n",
    "print(output)\n",
    "display(figure)"
   ]
  },
  {
   "cell_type": "code",
   "execution_count": null,
   "id": "b7fdbab7-24ff-46b7-90b8-85c6c3457ba4",
   "metadata": {},
   "outputs": [],
   "source": [
    "# Run this cell to get questions about Part 1\n",
    "\n",
    "q = [\n",
    "    \"Q4a_part1_radiation_stress_variation\",\n",
    "    \"Q4a_part1_set_down_variation\"\n",
    "]\n",
    "\n",
    "question_industry.serve(q)"
   ]
  },
  {
   "cell_type": "markdown",
   "id": "603a0977-e1e8-40f2-90cd-2ee0f73ad740",
   "metadata": {},
   "source": [
    "### Rewrite formulations for wave energy and radiation stress\n",
    "\n",
    "The variation of $E$ and $S_{xx}$ in a wave group can be better understood if we rewrite Eqs. (2) and (4). Since $\\cos^2x = \\frac{1}{2}(\\cos2x + 1)$, we can write: \n",
    "\n",
    "\\begin{equation}\n",
    "\\tag{6}\n",
    "E (x,t) =  2 \\rho g a^2 \\cos^2 (\\frac{\\Delta\\omega}{2}t - \\frac{\\Delta k}{2}x) =  \\rho g a^2 \\left( 1 + \\cos (\\Delta\\omega t - \\Delta k x) \\right)\n",
    "\\end{equation}\n",
    "\n",
    "Clearly, the wave energy consists of a mean part $\\bar E = \\rho g a^2$ and a fluctuating part $\\tilde E =  \\rho g a^2 \\cos (\\Delta\\omega t - \\Delta k x)$.\n",
    "\n",
    "Similarly, the radiation stress $S_{xx}$ consists of a mean part $\\bar S_{xx}$ and a fluctuating part $\\tilde S_{xx}$ and varies as:\n",
    "\n",
    "\\begin{equation}\n",
    "\\tag{7}\n",
    "S_{xx} (x,t) =  (2 n - 0.5) E(x,t) =  \\rho g a^2 (2 n - 0.5) \\left( 1 + \\cos (\\Delta\\omega t - \\Delta k x) \\right)\n",
    "\\end{equation}\n",
    "\n",
    "From the term $\\cos (\\Delta\\omega t - \\Delta k x)$ in $\\tilde E$ and $\\tilde S_{xx}$ as well as from the above figures, we can see that the wave energy and radiation stresses fluctuate on the scale of the wave group ($\\Delta\\omega$, $\\Delta k$)."
   ]
  },
  {
   "cell_type": "markdown",
   "id": "9af4976c-9d35-4fdb-b6d7-0f982c58513a",
   "metadata": {},
   "source": [
    "## Part 2: Bound long wave\n",
    "\n",
    "### Theory\n",
    "In Notebook 3c, we have seen that the radiation stress gradients in the shoaling zone result in a set-down that increases towards the seaward edge of the surf zone. We found that this set-down depends on the wave height (see Section 5.5.4 and Equation 5.64 in the [Coastal Dynamics Open Textbook](https://books.open.tudelft.nl/home/catalog/book/202)). Due to *variation* of the wave height and radiation stresses in the groups, the set-down varies varies as well, being the largest under the highest waves. This results in a mean water level fluctuation on the scale of the wave group with the largest depression under the highest waves in the group. This is equivalent to a long wave motion, the so-called bound long wave, which is forced by the group and travels at the speed of this group (so $c_g$). For a perfect bound long wave, the phase-shift between the long wave and the short-wave envelope is $\\pi$ ; the wave trough of the bound long waves coincides with the maximum of the wave envelope and the wave crest coincides with the minimum of the wave envelope. This negative correlation changes to a positive correlation as the waves enter the surf zone. This can be understood from intermittent wave-breaking in the group, generating a time-varying set-up. See also Section 5.8.2 in the textbook.\n",
    "\n",
    "In summary, the bound long wave varies on the scale of the wave group, as the wave energy and radiation stress do. We can thus write for the bound long wave:\n",
    "\n",
    "\\begin{equation}\n",
    "\\tag{8}\n",
    "\\eta_b = \\hat\\eta_b \\cos (\\Delta\\omega t - \\Delta k x)\n",
    "\\end{equation}\n",
    "\n",
    "In here, the bound long wave surface elevation amplitude $\\hat\\eta_b$ must be *negative*. Can you see why?\n",
    "\n",
    "A formula for the bound long wave surface elevation amplitude for this situation was derived by Longuet-Higgens and Stewart (1962). It can be found as Eq. 3.134 in a Guide to Modeling Coastal Morphology by Dano Roelvink and Ad Reniers. It reads:\n",
    "\n",
    "\\begin{equation}\n",
    "\\tag{9}\n",
    "\\hat\\eta_b = \\frac{\\Delta k^2 ga^2 (2n-0.5)}{\\Delta \\omega^2-gh\\Delta k^2} = \\frac{-ga^2(2n-0.5)}{gh-\\frac{\\Delta \\omega^2}{\\Delta k^2}} = \\frac{-ga^2(2n-0.5)}{gh-c_g^2}\n",
    "\\end{equation}\n",
    "\n",
    "Verify for yourself that Eq. (9) will indeed yield a negative value!\n",
    "\n",
    "### Exercise: bound long wave\n",
    "\n",
    "Let's check whether Eqs. (8-9) make any sense. Do this by coding the bound long wave surface elevation. As before, you can code your function in the below code cell. By running this code cell, your code will automatically be checked and plotted in the figures, together with the correct answers. If you run the code cell without adjustments (so with \"None\" where your functions should appear), you will get a figure showing only the correct results.\n",
    "\n",
    "Also, try to determine whereabout in the shoaling zone we are, for the given wave conditions. Can you change the water depth such, that the bound long wave amplitude becomes smaller? "
   ]
  },
  {
   "cell_type": "code",
   "execution_count": null,
   "id": "fb3e7368-2928-45aa-b613-9cc249c773e3",
   "metadata": {},
   "outputs": [],
   "source": [
    "input_values = {\n",
    "    \"a\": 1,                          # amplitude of second harmonic component [m]\n",
    "    \"T1\": 5,                         # period of first harmonic component [s]\n",
    "    \"T2\": 4.5,                       # period of second harmonic component [s]\n",
    "    \"tp\": 0,                         # constant t-value for spatial plot (0 is default)\n",
    "    \"xp\": 0,                         # constant x-value for time plot (0 is default)\n",
    "    \"t\": [],                         # t-range, will be determined automatically to cover n_groups wave groups starting from t = 0 \n",
    "    \"x\": [],                         # x-range, will be determined automatically to cover n_groups wave groups starting from x = 0 \n",
    "    \"h\": 7,                          # water depth [m]\n",
    "    \"n_groups\": 4,                   # number of wave groups that will be shown in time and space [-] (axes start from 0)   \n",
    "    \"rho\": 1025,                     # density of the water [kg/m^3]\n",
    "    \"g\": 9.81,                       # acceleration due to gravity [m/s^2]\n",
    "}\n",
    "\n",
    "\n",
    "def Bound_long_wave(a, T1, T2, tp, xp, t, x, h, rho, g):\n",
    "    \"\"\"  \n",
    "    Args:\n",
    "        see definition at input_values\n",
    "        \n",
    "    Returns:\n",
    "        etab_t: Calculated time-varying long wave wave energy for x = xp, etab(x = xp, t) (referred to as Function 1).\n",
    "        etab_x: Calculated spatially-varying long wave for t = tp, etab(x,t = tp) (referred to as Function 2).\n",
    "    \"\"\"\n",
    "    \n",
    "    etab_t = None  # Replace None by your own function 1\n",
    "    etab_x = None  # Replace None by your own function 2\n",
    "\n",
    "    \n",
    "    return etab_t, etab_x\n",
    "\n",
    "output, figure = mod_4a.check_boundwave_eta(input_values, Bound_long_wave)\n",
    "print(output)\n",
    "display(figure)"
   ]
  },
  {
   "cell_type": "markdown",
   "id": "86238904-7e44-48cb-a3e5-2a98bc6a7941",
   "metadata": {},
   "source": [
    "### Reflection\n",
    "You can see in the figure that the trough of the bound long wave coincides with the maximum of the wave envelope and that the crest coincides with the minimum of the wave envelope. What would that mean for the direction of the orbital velocities of the bound long wave under the highest waves in the group? We are going to use this in chapter 7 to explain the role of long waves in cross-shore sediment transport."
   ]
  },
  {
   "cell_type": "code",
   "execution_count": null,
   "id": "07418337-520f-4f26-85a8-d327d6a6ab00",
   "metadata": {},
   "outputs": [],
   "source": [
    "# Run this cell to get a questions about Part 2\n",
    "\n",
    "q = [\n",
    "    \"Q4a_part2_orbital_velocities\"\n",
    "]\n",
    "\n",
    "question_industry.serve(q)"
   ]
  },
  {
   "cell_type": "markdown",
   "id": "56dd0e49-fbf2-4a0d-aa68-7da4c9d23620",
   "metadata": {},
   "source": [
    "## The end \n",
    "\n",
    "You have reached the end of this Notebook 4a. You may proceed with the second and last notebook of this week on shallow-water tides."
   ]
  }
 ],
 "metadata": {
  "kernelspec": {
   "display_name": "coastalcodebook",
   "language": "python",
   "name": "python3"
  },
  "language_info": {
   "codemirror_mode": {
    "name": "ipython",
    "version": 3
   },
   "file_extension": ".py",
   "mimetype": "text/x-python",
   "name": "python",
   "nbconvert_exporter": "python",
   "pygments_lexer": "ipython3",
   "version": "3.13.1"
  }
 },
 "nbformat": 4,
 "nbformat_minor": 5
}
