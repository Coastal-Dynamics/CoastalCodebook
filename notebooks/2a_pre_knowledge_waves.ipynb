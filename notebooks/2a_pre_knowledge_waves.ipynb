{
 "cells": [
  {
   "cell_type": "markdown",
   "id": "08b7ff1c-1e3c-4917-bc39-d046ecfa68eb",
   "metadata": {},
   "source": [
    "<figure>\n",
    "  <img src=\"../images/tudelft_logo.png\" alt=\"image\" width=\"250\" align=\"right\"/>\n",
    "</figure>"
   ]
  },
  {
   "cell_type": "markdown",
   "id": "a1f36ae0-353b-4e78-b472-8630e85f0146",
   "metadata": {},
   "source": [
    "# 2a: Pre-knowledge waves"
   ]
  },
  {
   "cell_type": "markdown",
   "id": "adc11ad6-a933-4eb2-ae1e-c3ccc9282a81",
   "metadata": {},
   "source": [
    "*This is the first of four notebooks for this week, and the one that we hope you will skip!* Why? It contains basic instruction and exercise material for the dispersion relationship, which should be very familiar to you after having followed the Waves Unit. We have plenty of material to cover in Coastal Systems, so our advice would be to first move to Notebook 2b and *only* return to Notebook 2a if you cannot solve the questions in notebook 2b. In Notebook 2b you will *also* use the dispersion relationship, which should give you plenty of opportunity to refresh your knowledge and practice. \n",
    "\n",
    "This notebook 2a consists of two parts:\n",
    "1. Part 1: Approximations for shallow, intermediate, and deep water (coding exercises and 5 multiple-choice and mulitple-selection questions)\n",
    "2. Part 2: Three methods to solve the dispersion relationship for known $h$ and $T$ (coding exercises and 7 numeric and multiple-selection questions)\n",
    "\n",
    "## Theory \n",
    "\n",
    "A brief summary of linear wave theory, including the linear dispersion relationship, is given in Sections 3.2-3.6 and Appendix A of the [Coastal Dynamics Open Textbook](https://books.open.tudelft.nl/home/catalog/book/202). Here we repeat some of the equations.\n",
    "\n",
    "The linear dispersion relation relates the wave frequency $\\omega=2\\pi/T$ and the wavenumber $k=2\\pi/L$, through the water depth $h$ (with $T$ the wave period and $L$ the wave length ). It holds for small-amplitude (not too high and not too steep) waves and reads as follows:\n",
    "\n",
    "\\begin{equation}\n",
    "\\tag{1a}\n",
    "\\omega = \\sqrt{gk \\tanh(kh)} \n",
    "\\end{equation}\n",
    "\n",
    "You may also find it in this form [try to rewrite (1a) to obtain (1b)]:\n",
    "\n",
    "\\begin{equation}\n",
    "\\tag{1b}\n",
    "L = \\frac{g}{2\\pi}T^2 \\tanh(2\\pi\\frac{h}{L})\n",
    "\\end{equation}\n",
    "\n",
    "The wave celerity $c$ (a.k.a. phase velocity or wave speed or propagation speed) is the speed at which a certain phase of the wave, e.g. the wave crest, travels. It is equal to $L/T$ or, equivalenlty, $\\omega/k$. The group velocity $c_g$ is the speed at which the wave energy (wave front, wave group) travels. It relates to $c$ as $c_g=n c$ with:\n",
    "\n",
    "\\begin{equation}\n",
    "\\tag{1c}\n",
    "n = 0.5 \\left(1+\\frac{2kh}{\\sinh(2kh)}\\right)\n",
    "\\end{equation}\n",
    "\n",
    "Simplifications can be made to the hyperbolic functions $\\tanh(kh)$ and $\\sinh(2kh)$, for the specific cases of deep and shallow water. These cases are found in Table A.1 in the textbook and repeated in the table below (the subscript \"0\" denotes deep water):\n",
    "\n",
    "|Shallow water| Deep water |\n",
    "|:-:|-|\n",
    "| $h/L_0<0.015$   | $h/L_0>0.5$ | \n",
    "| $h/L<1/20$ | $h/L>0.5$| \n",
    "| $kh<\\pi/10$ | $kh>\\pi$ |\n",
    "\n",
    "Since $\\tanh(kh) \\rightarrow kh$ and $\\sinh(kh) \\rightarrow kh$ for $kh \\rightarrow 0$, Eqs. (1) reduce for shallow water to: \n",
    "\n",
    "\\begin{equation}\n",
    "\\tag{2a}\n",
    "\\omega = k \\sqrt{gh} \\Rightarrow c = \\sqrt{gh}\n",
    "\\end{equation}\n",
    "\n",
    "or:\n",
    "\n",
    "\\begin{equation}\n",
    "\\tag{2b}\n",
    "L = \\sqrt{gh}T\n",
    "\\end{equation}\n",
    "\n",
    "and:\n",
    "\n",
    "\\begin{equation}\n",
    "\\tag{2c}\n",
    "n = 1\n",
    "\\end{equation}\n",
    "\n",
    "Since $\\tanh(kh) \\rightarrow 1$ and $\\sinh(kh) \\rightarrow \\infty$ for $kh \\rightarrow \\infty$, Eqs. (1) reduce for deep water to: \n",
    "\n",
    "\\begin{equation}\n",
    "\\tag{3a}\n",
    "\\omega = \\sqrt{gk} \\Rightarrow c = \\frac{g}{\\omega}\n",
    "\\end{equation}\n",
    "\n",
    "or:\n",
    "\n",
    "\\begin{equation}\n",
    "\\tag{2b}\n",
    "L = L_0 = \\frac{g}{2\\pi}T^2\n",
    "\\end{equation}\n",
    "\n",
    "and: \n",
    "\n",
    "\\begin{equation}\n",
    "\\tag{2c}\n",
    "n = 0.5\n",
    "\\end{equation}\n",
    "\n",
    "With the shallow and deep water approximations (Eqs. 2 and 3, respectively), you can directly determine $T$ from known $h$ and $L$ as well as $L$ from known $h$ and $T$. For intermediate water however, the full relationships must be used (Eqs. 1). For known $h$ and wave length $L$ (or, equivalently, $k$), it is then still straightforward to find $\\omega$ (and the wave period $T$). However, generally $h$ and $T$ would be known instead, and we would end up with an implicit equation in $k$ or $L$. You can choose between three methods to solve this implicit equation:\n",
    "1. Use look-up Table A.3 from the textbook (handy to use for a quick hand computation)\n",
    "2. Use the explicit approximation of Fenton (see your Ocean Waves book and below)\n",
    "3. Use an iterative procedure\n",
    "\n",
    "This notebook addresses all three methods. You can use the Python function for method 2 that you have coded in the Waves Unit. You may also have coded method 3 during Waves. "
   ]
  },
  {
   "cell_type": "markdown",
   "id": "5a166758-5153-4e5b-b949-de9b62282479",
   "metadata": {},
   "source": [
    "## Import libraries that we use for our analysis"
   ]
  },
  {
   "cell_type": "code",
   "execution_count": null,
   "id": "593e05c2-cc9c-4c0d-a9bb-bf0fee870c29",
   "metadata": {},
   "outputs": [],
   "source": [
    "from pathlib import Path\n",
    "\n",
    "import numpy as np\n",
    "import panel as pn\n",
    "\n",
    "import coastal_dynamics as cd\n",
    "\n",
    "pn.extension()"
   ]
  },
  {
   "cell_type": "code",
   "execution_count": null,
   "id": "d89dd9ea",
   "metadata": {},
   "outputs": [],
   "source": [
    "import sys\n",
    "\n",
    "sys.path.append('../')\n",
    "\n",
    "from modules import mod_2a"
   ]
  },
  {
   "cell_type": "code",
   "execution_count": null,
   "id": "f04043ef-8f2c-441a-ab84-061ccf6ce0c2",
   "metadata": {},
   "outputs": [],
   "source": [
    "questions = cd.read_questions(Path(\"../hashed_questions/2a_pre_knowledge_waves_hashed.json\"))\n",
    "\n",
    "question_industry = cd.QuestionIndustry(questions)\n",
    "\n",
    "cd.UseAnswersApp(\"2a\").serve()"
   ]
  },
  {
   "cell_type": "markdown",
   "id": "e9edb5e4-a22b-4541-86b3-f4fd5d424ed6",
   "metadata": {},
   "source": [
    "## Fenton approximation\n",
    "\n",
    "In the next notebooks, we are going to use the Fenton approximation as the standard method, so it is handy to find the function as you programmed it in Waves and define it in the below code field. Remember that the explicit approximation reads (see also Equation 5.4.20 in Ocean Waves by Leo Holthuijsen):\n",
    "\n",
    "\\begin{equation}\n",
    "\\tag{4}\n",
    "    k h \\approx (\n",
    "        \\frac{\\alpha + \\beta^2  (\\cosh \\beta)^{-2})}{ \\tanh \\beta + \\beta (\\cosh \\beta)^{-2}} \\; \\mathrm{with} \\; \\beta = \\alpha (\\tanh \\alpha)^{-0.5}  \\; \\mathrm{and} \\;  \\alpha = k_0 h\n",
    "\\end{equation}"
   ]
  },
  {
   "cell_type": "code",
   "execution_count": null,
   "id": "94eadaa9-80c4-4c12-b17e-405b181236e4",
   "metadata": {},
   "outputs": [],
   "source": [
    "## Fenton approximation to the linear dispersion relationship\n",
    "def waveNumber_Fenton(T, h):\n",
    "    \"\"\"\n",
    "    Calculate wave number using the Fenton explicit approximation\n",
    "    \n",
    "    Args:\n",
    "        T (float): Wave period.\n",
    "        h (float): Water depth.\n",
    "        \n",
    "    Returns:\n",
    "        float: Calculated wave number.\n",
    "    \"\"\"\n",
    "    \n",
    "    k = None          # Replace by your own code\n",
    "    \n",
    "    return k\n",
    "\n"
   ]
  },
  {
   "cell_type": "markdown",
   "id": "7f22d79a-8d43-4896-b945-60308b37e733",
   "metadata": {},
   "source": [
    "## Part 1: Shallow, intermediate, and deep water\n",
    "\n",
    "Can you distinguish between shallow, deep water and intermediate water? Consider the following conditions: \n",
    "\n",
    "|Wave | Characteristics |\n",
    "|:-:|-|\n",
    "| 1  | $T$ = 9 s, $h$ = 5 m | \n",
    "| 2 | $T$ = 6 s, $h$ = 40 m| \n",
    "| 3 | $L$ = 35 m, $h$ = 3 m |\n",
    "| 4 | $L$ = 100 km, $h$ = 20 m |\n",
    "\n",
    "Run the below question cell to get some questions. You can use the code cell below the questions, to make the computations supporting your answer."
   ]
  },
  {
   "cell_type": "code",
   "execution_count": null,
   "id": "ce0a360e-4558-4ebc-8b1b-f161cdd66608",
   "metadata": {},
   "outputs": [],
   "source": [
    "q = [\n",
    "    \"Q2a-depth1\",\n",
    "    \"Q2a-depth2\",\n",
    "    \"Q2a-depth3\",\n",
    "    \"Q2a-depth4\",\n",
    "    \"Q2a-depth5\"\n",
    "]\n",
    "\n",
    "question_industry.serve(q)"
   ]
  },
  {
   "cell_type": "code",
   "execution_count": null,
   "id": "353963b1-370b-46a0-9057-6ba33bc5655b",
   "metadata": {},
   "outputs": [],
   "source": [
    "# You can use this cell to answer the above questions about Part 1\n",
    "\n",
    "T1 = 9\n",
    "h1 = 5\n",
    "T2 = 6\n",
    "h2 = 40 \n",
    "L3 = 35\n",
    "h3 = 3\n",
    "L4 = 100000\n",
    "h4 = 20\n",
    "\n",
    "test=12.3456\n",
    "# Example print statement with 4 significant numbers\n",
    "print(\"test\",'{:g}'.format(float('{:.{p}g}'.format(test, p=4))))\n",
    "\n"
   ]
  },
  {
   "cell_type": "markdown",
   "id": "34b967c8-fb0d-4456-a1b8-96fc5b785c73",
   "metadata": {},
   "source": [
    "## Part 2: Three methods to solve the dispersion relationship for known $h$ and $T$\n",
    "\n",
    "For known values of $h$ and $L$, these values can be entered into Eqs. 1 to directly obtain $T$. For known $h$ and $T$, the equation is implicit in $L$ and can be solved using one of the three methods described above. Here we will try all three of them for the same conditions: $T$ = 7.1 seconds and $h$ = 4.3 meter."
   ]
  },
  {
   "cell_type": "markdown",
   "id": "571d9f63-5282-4b09-945b-b15a1b9e7f41",
   "metadata": {},
   "source": [
    "### Method 1: Look-up Table\n",
    "\n",
    "Can you determine $L$, $c$ and $c_g$ through table A.3 of the book, for a wave period ($T$) is 7.1 seconds and the water depth ($h$) is 4.3 meter?\n",
    "You can manually extract the values you need from Table A.3. Note that in doing so, you will have to interpolate for intermediate values. Alternatively, you can make use of the code in the below cell to do the extraction and interpolation.\n",
    "\n",
    "Steps to take: \n",
    "1. Study the code in the below code cell to see how to get the unknown values from Table A.3. Try it a few times with different input. For this input: *verify the answers you get from the code with the values you read from the Table!*\n",
    "2. Move to the next code cell and write your code to determine $L$, $c$ and $c_g$ for the given $T$ and $h$. Make use of the given code to extract values from Table A.3. *Verify with the values from the Table!*\n",
    "3. Verify your answers for $L$, $c$ and $c_g$ by answering the questions in the question cell. "
   ]
  },
  {
   "cell_type": "code",
   "execution_count": null,
   "id": "697c92c6-9e56-4cfb-b2f3-ffda506cabfa",
   "metadata": {},
   "outputs": [],
   "source": [
    "## METHOD TO EXTRACT VALUES \n",
    "## Run this code cell to extract the unknown values from the first three columns of Table A.3 and the 8th column. \n",
    "## You can apply this method in the next code cell to find answers for L, c and cg. \n",
    "## Linear interpolation is used to obtain intermediate values\n",
    "## Check the values with the values from the Table\n",
    "\n",
    "# How to apply? Give a known value for h/L0 OR tanhkh OR h/L (not for n, that won't work)\n",
    "# Give None for the three unknown parameters that must be looked up\n",
    "# For instance: h/L0 = None, tanhkh=0.82, h/L = None, n = None\n",
    "# The unknowns will be returned by the function (together with the known value). \n",
    "# IMPORTANT do not change the order of the input and output!! Always use this order: h_L0,tanhkh,h_L,n\n",
    "# Use a similar syntax in your computations in the next code cell\n",
    "\n",
    "h_L0 = None      # If this has a value, the other 3 should be None \n",
    "tanhkh = None    # If this has a value, the other 3 should be None\n",
    "h_L = 0.05       # If this has a value, the other 3 should be None\n",
    "n = None         # This should never have a value, always n = None\n",
    "\n",
    "h_L0,tanhkh,h_L,n=mod_2a.find_interpolate_table(h_L0,tanhkh,h_L,n)\n",
    "\n",
    "# print with four significant figures\n",
    "print(\"h_L0\",'{:g}'.format(float('{:.{p}g}'.format(h_L0, p=4))))\n",
    "print(\"tanhkh\", '{:g}'.format(float('{:.{p}g}'.format(tanhkh, p=4))))\n",
    "print(\"h_L\", '{:g}'.format(float('{:.{p}g}'.format(h_L, p=4))))\n",
    "print(\"n\", '{:g}'.format(float('{:.{p}g}'.format(n, p=4))))"
   ]
  },
  {
   "cell_type": "code",
   "execution_count": null,
   "id": "6a6ed4f5-73a2-4608-9a0b-78604e6bb825",
   "metadata": {},
   "outputs": [],
   "source": [
    "## You can use this cell to code Method 1\n",
    "\n",
    "T = 7.1 # seconds\n",
    "h = 4.3 # meters\n",
    "\n",
    "L_Table = None    # replace by your code to determine L\n",
    "c_Table = None    # replace by your code to determine c\n",
    "cg_Table = None   # replace by your code to determine cg\n",
    "\n",
    "# You can make use of these print statements to print the values with four significant figures: \n",
    "#print(\"L_Table\", '{:g}'.format(float('{:.{p}g}'.format(L_Table, p=4))))\n",
    "#print(\"c_Table\", '{:g}'.format(float('{:.{p}g}'.format(c_Table, p=4))))\n",
    "#print(\"cg_Table\", '{:g}'.format(float('{:.{p}g}'.format(cg_Table, p=4))))\n",
    "\n"
   ]
  },
  {
   "cell_type": "code",
   "execution_count": null,
   "id": "9d501454-fe56-4519-a24f-c67031a4218c",
   "metadata": {},
   "outputs": [],
   "source": [
    "# Questions about Method 1\n",
    "q = [\n",
    "    \"Q2a-table_wavelength\",\n",
    "    \"Q2a-table_wavecelerity\",\n",
    "    \"Q2a-table_groupvelocity\"]\n",
    "\n",
    "question_industry.serve(q)"
   ]
  },
  {
   "cell_type": "markdown",
   "id": "0be84b2b-bce7-49f1-9886-9319d134191b",
   "metadata": {},
   "source": [
    "### Method 2: Explicit approximation of Fenton\n",
    "\n",
    "Can you now determine $L$, $c$ and $c_g$ using the explicit approximation of Fenton (Eq.4)? Use the function that you coded at the start of this notebook. Use again a wave period ($T$) of 7.1 seconds and a water depth ($h$) of 4.3 meter. Verify your answers for  $L$, $c$ and $c_g$ by answering the questions in the question cell. You will notice that the answers are very close to the answers as found by using the Table."
   ]
  },
  {
   "cell_type": "code",
   "execution_count": null,
   "id": "451e2351-93f3-48ba-85a5-d4da1023b2ea",
   "metadata": {},
   "outputs": [],
   "source": [
    "## You can use this cell to code Method 2\n",
    "\n",
    "T = 7.1 # seconds\n",
    "h = 4.3 # meters\n",
    "\n",
    "## Call the function that you coded at the top of this notebook\n",
    "\n",
    "L_Fenton = None   # replace by your code to determine L\n",
    "c_Fenton = None   # replace by your code to determine c\n",
    "cg_Fenton = None  # replace by your code to determine cg\n",
    "\n",
    "## You can make use of these print statements to print the values with four significant figures: \n",
    "#print(\"L_Table\", '{:g}'.format(float('{:.{p}g}'.format(L_Table, p=4))))\n",
    "#print(\"c_Table\", '{:g}'.format(float('{:.{p}g}'.format(c_Table, p=4))))\n",
    "#print(\"cg_Table\", '{:g}'.format(float('{:.{p}g}'.format(cg_Table, p=4))))\n",
    "\n"
   ]
  },
  {
   "cell_type": "code",
   "execution_count": null,
   "id": "ee3b2444-0ade-4387-ae7a-97d86d803ec9",
   "metadata": {},
   "outputs": [],
   "source": [
    "# Questions about Method 2\n",
    "q = [\n",
    "    \"Q2a-explicit_wavelength\",\n",
    "    \"Q2a-explicit_wavecelerity\",\n",
    "    \"Q2a-explicit_groupvelocity\"\n",
    "]\n",
    "\n",
    "question_industry.serve(q)"
   ]
  },
  {
   "cell_type": "markdown",
   "id": "2a114d05-5f24-4e67-9d96-db68b161b910",
   "metadata": {},
   "source": [
    "### Method 3: Iterative approach (optional)\n",
    "\n",
    "In the Waves Unit you may or may not have coded an iterative method to solve the dispersion relationship. If you have, you could copy your function below and compute $L$, $c$ and $c_g$ for the same wave characteristics as above ($T$ = 7.1 seconds and $h$ is 4.3 meter). You should again find nearly the same values. \n",
    "\n",
    "If you do not have the code handy, you can still proceed to the reflective question below the code cell."
   ]
  },
  {
   "cell_type": "code",
   "execution_count": null,
   "id": "be042bbf-09d9-4f76-9e1e-169073c1ade0",
   "metadata": {},
   "outputs": [],
   "source": [
    "## You can use this cell to code Method 3\n",
    "\n",
    "T = 7.1 # seconds\n",
    "h = 4.3 # meters\n",
    "\n",
    "def waveNumber_Fenton_iterative(T, h):\n",
    "    \"\"\"\n",
    "    Calculate wave number using the an iterative method for dispersion relation.\n",
    "\n",
    "    Args:\n",
    "        T (float): Wave period.\n",
    "        h (float): Water depth.\n",
    "        tolerance (float): Tolerance for convergence, for instance tolerance=1e-12.\n",
    "\n",
    "    Returns:\n",
    "        float: Calculated wave number.\n",
    "    \"\"\"\n",
    "    \n",
    "    k = None          # Replace by your own code\n",
    "    \n",
    "    return k          # Return the final calculated wave number\n",
    "\n",
    "k_iter = None\n",
    "L_iter = None\n",
    "c_iter = None\n",
    "cg_iter = None \n",
    "\n",
    "# Add your own print statements\n",
    "\n"
   ]
  },
  {
   "cell_type": "code",
   "execution_count": null,
   "id": "6fe8ebfe-ed09-44bf-b5d1-038134bfd96b",
   "metadata": {},
   "outputs": [],
   "source": [
    "# Question about the three methods\n",
    "\n",
    "q = [\n",
    "    \"Q2a-3methods\"\n",
    "]\n",
    "\n",
    "question_industry.serve(q)"
   ]
  },
  {
   "cell_type": "markdown",
   "id": "ec4a9467-0a96-4663-a9f3-6ac114af24b8",
   "metadata": {},
   "source": [
    "## The end\n",
    "\n",
    "You have reached the end of this Notebook 2a. You can continue with this week's second notebook, Notebook 2b on wave dispersion and wave grouping."
   ]
  }
 ],
 "metadata": {
  "kernelspec": {
   "display_name": "coastalcodebook",
   "language": "python",
   "name": "python3"
  },
  "language_info": {
   "codemirror_mode": {
    "name": "ipython",
    "version": 3
   },
   "file_extension": ".py",
   "mimetype": "text/x-python",
   "name": "python",
   "nbconvert_exporter": "python",
   "pygments_lexer": "ipython3",
   "version": "3.13.1"
  }
 },
 "nbformat": 4,
 "nbformat_minor": 5
}
