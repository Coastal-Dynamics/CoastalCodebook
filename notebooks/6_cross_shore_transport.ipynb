{
 "cells": [
  {
   "cell_type": "markdown",
   "id": "4486e2dc-f6c2-4a80-85d1-b7773cafc45b",
   "metadata": {},
   "source": [
    "<figure>\n",
    "  <img src=\"../images/tudelft_logo.png\" alt=\"image\" width=\"250\" align=\"right\"/>\n",
    "</figure>"
   ]
  },
  {
   "cell_type": "markdown",
   "id": "6c001fc6-08dc-46f2-a223-5269035379d6",
   "metadata": {},
   "source": [
    "# 6: Cross-shore transport\n",
    "\n",
    "Welcome to this notebook on cross-shore sediment transport, which is the only notebook of week 6. The main topic of this notebook is cross-shore sediment transport (Chapter 7 of the [Coastal Dynamics Open Textbook](https://books.open.tudelft.nl/home/catalog/book/202), with some extra attention for section 7.5 specifically). The notebook consists of **three** parts with a total of **twenty-two** questions.\n",
    "\n",
    "1. We will start with a recap of **velocity moments** as a proxy for sediment transport, including a more detailed look into Figure 7.21 from the book. This figure uses velocity moments to distinguish between the transport contributions by mean currents, long waves and short waves in typical storm conditions. We conclude this part with seven multiple-choice / - selection questions.\n",
    "2. Next, we will introduce the concept of **shape functions** for cross-shore transport, which will allow us to visualize cross-shore transport for different conditions. Herewith, we can draw conclusions about the differences between storm conditions and calmer conditions. This part contains fifteen multiple-choice / -selection questions to assist with interpretation. \n",
    "3. The optional third part suggests some additional topics to explore using the same visualizations as used in part 2. Even though it is slightly beyond the scope of Coastal Systems, it may help you to better understand cross-shore transport mechanisms. It may especially be nice if you think you may choose the Coastal B module, where we will get back to it. \n",
    "\n",
    "We hope you have fun!"
   ]
  },
  {
   "cell_type": "markdown",
   "id": "3396e7c4-001d-4929-8755-c279a566e9c1",
   "metadata": {},
   "source": [
    "## Import the required packages and questions \n",
    "\n",
    "Run the below cells to import all necessary packages and question files required in this notebook."
   ]
  },
  {
   "cell_type": "code",
   "execution_count": null,
   "id": "643c6c52-340d-4e3f-8de7-b4a587b8e009",
   "metadata": {},
   "outputs": [],
   "source": [
    "from pathlib import Path\n",
    "\n",
    "import holoviews as hv\n",
    "import hvplot.pandas  # noqa: API import\n",
    "import numpy as np\n",
    "import pandas as pd\n",
    "import panel as pn\n",
    "\n",
    "import coastal_dynamics as cd\n",
    "\n",
    "# Activate Panel extension to make interactive visualizations\n",
    "pn.extension()"
   ]
  },
  {
   "cell_type": "code",
   "execution_count": null,
   "id": "7acedb64",
   "metadata": {},
   "outputs": [],
   "source": [
    "import sys\n",
    "\n",
    "sys.path.append('../')\n",
    "\n",
    "from modules import mod_6"
   ]
  },
  {
   "cell_type": "code",
   "execution_count": null,
   "id": "b3cf9e29-7be5-4921-acc9-88a5d680fc91",
   "metadata": {},
   "outputs": [],
   "source": [
    "# Use this cell to load questions \n",
    "questions = cd.read_questions(Path(\"../hashed_questions/6_cross_shore_transport_hashed.json\"))\n",
    "\n",
    "question_industry = cd.QuestionIndustry(questions)\n",
    "\n",
    "cd.UseAnswersApp(\"6\").serve()"
   ]
  },
  {
   "cell_type": "markdown",
   "id": "a8e81ac6-26d6-410e-9bc2-e13a8b4fd45b",
   "metadata": {},
   "source": [
    "## Part 1: Velocity moments as a proxy for sediment transport \n",
    "\n",
    "### Theory\n",
    "Remember from Chapter 5 that the velocity $u$ close to the bed can be assumed to consist of a wave group-averaged component $\\bar{u}$, a short-wave-averaged oscillatory component $u_{lo}$ and a short-wave oscillatory component $u_{hi}$:\n",
    "$$\n",
    "u = \\bar{u} + u_{lo} + u_{hi}\n",
    "$$\n",
    "We are interested in the time-averaged sediment transport. We have used the third odd velocity moment as a proxy for the bed load transport and the fourth odd velocity moment as a proxy for suspended load transport. If $\\bar{u} \\ll u_{lo} \\ll u_{hi}$, the three most important terms in the third odd velocity moment are:\n",
    "$$\n",
    "\\left\\langle u \\left|u\\right|^2\\right\\rangle = 3 \\left\\langle \\bar{u} \\left|u_{hi}\\right|^2\\right\\rangle + \\left\\langle u_{hi} \\left|u_{hi}\\right|^2\\right\\rangle + 3 \\left\\langle u_{lo} \\left|u_{hi}\\right|^2\\right\\rangle + ...\n",
    "$$\n",
    "Each of these terms is fully explained in the book (so you should definitely read up on this), but in short, these terms refer to the following processes:\n",
    "* $3 \\left\\langle \\bar{u} \\left|u_{hi}\\right|^2\\right\\rangle$ : transport of sediment stirred up by short waves and transported by the mean current\n",
    "* $\\left\\langle u_{hi} \\left|u_{hi}\\right|^2\\right\\rangle$ :  transport of sediment stirred up by short waves and transported by the high-frequency waves\n",
    "* $3 \\left\\langle u_{lo} \\left|u_{hi}\\right|^2\\right\\rangle$ : transport of sediment stirred up by short waves and transported by the low-frequency waves \n",
    "\n",
    "Each of the velocity moments can be directly measured in a flume or computed, or a combination of the two, which is what Roelvink and Stive (1989) did to obtain the results of Figure 7.21 in the book. In quite some quasi-steady sediment transport formulations, one can recognize the velocity moments. For instance, have a look at Eqs. 6.48a and 6.48b in the textbook. \n",
    "\n",
    "There will be a net transport along the profile if the profile is not in equilibrium with the conditions. This is for instance the case when a profile built up by smaller waves is suddenly under the influence of larger storm waves. These larger storm waves will redistribute the sediment to a flatter, post-storm profile. The other way around also holds true: it is possible to mathematically derive an equilibrium profile by balancing the onshore and offshore terms. Bowen (1980) does this analytically for the middle and lower shoreface by equating onshore transport by short waves with offshore transport by gravity.\n",
    "\n",
    "### Figure 7.21\n",
    "Now have a look at Figure 7.21 from the book (below). As mentioned before, we use the velocity moments as a proxy for sediment transport. The total transport can then be decomposed into multiple gross contributions by decomposition of the velocity moments. For instance, the upper panel of Figure 7.21 gives the total third odd moment as well its three components given by the right-hand side of the above equation. Note that the onshore direction is defined as the positive x-direction, and that, therefore, velocties and transports are positive in onshore direction, and negative in offshore direction.\n",
    "\n",
    "<img src=\"../images/6_cross_shore_transport/6_fig720.png\"\n",
    "     style=\"display:block;float:none;margin-left:10%;margin-right:auto;width:45%\">"
   ]
  },
  {
   "cell_type": "markdown",
   "id": "5e55e5b5-bc05-43f6-927d-acb494d95f6d",
   "metadata": {},
   "source": [
    "### Questions about Figure 7.21\n",
    "\n",
    "Run the cell below to get seven questions about Figure 7.21. \n"
   ]
  },
  {
   "cell_type": "code",
   "execution_count": null,
   "id": "97aa0d26-9315-4d63-ab10-9686ad86225c",
   "metadata": {},
   "outputs": [],
   "source": [
    "q = [\n",
    "    \"Q6-direction_total\",\n",
    "    \"Q6-direction_mean\",\n",
    "    \"Q6-direction_skewness\",\n",
    "    \"Q6-direction_long\",\n",
    "    \"Q6-breakpoint_position\",\n",
    "    \"Q6-conditions_fig721\",\n",
    "    \"Q6-morphological_response\",\n",
    "]\n",
    "\n",
    "question_industry.serve(q)"
   ]
  },
  {
   "cell_type": "markdown",
   "id": "7b664253-fbf3-4b0e-b5fc-ea34fd67342b",
   "metadata": {},
   "source": [
    "## Part 2: Shape functions for cross-shore transport\n",
    "\n",
    "Wouldn't it be nice to know how Figure 7.21 would change for different wave conditions and bathymetry? However, we are limited by the lack of direct observations. [Tinker et al. (2009)](https://doi.org/10.1016/j.csr.2009.03.011) present a solution. They performed a large number of suspended transport measurements close to the bed (in the bottom 15 cm) and fitted a shape function for transport due to both mean and oscillatory flow in the surf/shoaling zone (Figure 5 in their paper). In this Part 2, we will focus on the mean and oscillatory flux in the surf/shoaling zone and compare this with Figure 7.21. \n",
    "\n",
    "As said, [Tinker et al. (2009)](https://doi.org/10.1016/j.csr.2009.03.011) differentiate between transport in the surf/shoaling zone, and the swash/(inner) surf zone. As in Figure 7.21, they define transport as positive in the onshore direction. Transport in the surf/shoaling zone was separated in a mean and oscillatory transport (or flux), and transport in the swash/surf zone in an onshore and offshore component. This means that in the surf/shoaling zone, both high- and low-frequency waves are combined in the 'oscillatory' component. In part I, we already discussed the concept of mean transport (as a result of undertow) and oscillatory transport (resulting from high- and low-frequency waves) in the shoaling and surf zone. The main difference now with Figure 7.21 from the book is that long and short waves are not considered separately by Tinker et al. \n",
    "\n",
    "It is important to note that these shape functions represent suspended sediment transport only. Measurements were made at various heights above the bed (in the bottom 15 cm). The measurements by Tinker et al. were done at Sennen Cove, Cornwall, UK. For some context, the mean spring tidal range (MSTR) at this site is 5.3 m, which makes this a macrotidal system. The average significant wave height is 1.4 m, and the median grain size is 0.7 mm. This is quite coarse sediment (when compared to for instance the Dutch coast), so we can expect quite a steep bed profile. This bed profile is discussed further below.\n",
    "\n",
    "In addition, Tinker et al. measured and determined shape functions for onshore and offshore transport in the swash/inner surf zone. The swash zone is the region at the shoreline where waves wash up and down the beach face. The transport in the swash zone can be quite important, but it is not easy to model and it is therefore not always taken into account in models. The study of Roelvink and Stive (Figure 7.21) did not take the swash zone into account, either. Later, in Part 3, you will have the opportunity to look at the swash/inner surf zone transport. Though the [paper](https://doi.org/10.1016/j.csr.2009.03.011) is very interesting (and we definitely recommend checking it out), you are not required to know it for this exercise or for Coastal Systems (CIEM3110). Details about swash transport are also outside the scope of Coastal Systems. You will hear more about this paper and these concepts in the Coastal module (CIEM3210), if you choose it!\n",
    "\n"
   ]
  },
  {
   "cell_type": "markdown",
   "id": "49640a3d-8ce3-402d-bb27-3e9283a7e85c",
   "metadata": {},
   "source": [
    "### Prepare the visualization\n",
    "\n",
    "By executing the below cells we are now going to prepare the visualization in a couple of steps: \n",
    "1. Define the shape functions for the transport\n",
    "2. Define the bathymetry functions\n",
    "3. Plot the results"
   ]
  },
  {
   "cell_type": "markdown",
   "id": "c581767f-b5c6-4c4c-ad65-05c6ec3f7a73",
   "metadata": {},
   "source": [
    "#### Define the shape functions for the transport\n",
    "\n",
    "Below the shape functions as presented by [Tinker et al. (2009)](https://doi.org/10.1016/j.csr.2009.03.011) are defined. \n",
    "\n",
    "**Note:** You are not expected to know or remember these equations, they are just here to help us with the exercise. Nonetheless, it is useful to understand what the most important variables are in the shape functions. To that end, scroll through the code of the below cell before executing it. \n",
    "\n",
    "You should find that for the surf/shoaling zone, the shape functions depend on the local water depth $h$ and on the water depth at breaking $h_b$. The larger that $h_b$ is, the more energetic that the waves are. Remember that in notebook 3c you have determined $h_b$ as part of the calculation of the cross-shore distribution of the wave heights in the shoaling zone and surf zone. Note that this parameterization ignores the presence of infragravity (i.e., bound or free long) waves. "
   ]
  },
  {
   "cell_type": "code",
   "execution_count": null,
   "id": "90f9a67c-5d2c-4139-9377-e350e62fffdb",
   "metadata": {},
   "outputs": [],
   "source": [
    "### Shape functions for the surf/shoal zone ###\n",
    "\n",
    "# mean transport\n",
    "def Tinker_mean(h, h_b):\n",
    "    tp = (-120 * h_b**2) * (h / h_b)**4.3 * np.exp(-9.4 * (h / h_b)**0.75)\n",
    "    return tp\n",
    "\n",
    "# oscillatory transport\n",
    "def Tinker_osci(h, h_b):\n",
    "    tp = (2.75 * h_b**0.6) * (h / h_b)**3.5 * np.exp(-4.2 * (h / h_b)**1.05)\n",
    "    return tp\n",
    "\n",
    "# surf / shoal zone (mean + oscillatory transport)\n",
    "def Tinker_surf_shoal(h, h_b):\n",
    "    tp = Tinker_mean(h, h_b) + Tinker_osci(h, h_b)\n",
    "    return tp\n",
    "\n",
    "### Shape functions for the swash/surf zone ###\n",
    "\n",
    "# onshore transport\n",
    "def Tinker_onsh(h, h_b):\n",
    "    tp = 3.5 * h_b**1.9 * (h / h_b)**1.1 * np.exp(-31 * (h / h_b)**1.1)**(h_b**1.1)\n",
    "    return tp\n",
    "\n",
    "# offshore transport\n",
    "def Tinker_offs(h, h_b):\n",
    "\n",
    "    con1 = (h_b > 2.15)\n",
    "    con2 = (h_b <= 0.75)\n",
    "    con3 = ((h_b <= 2.15) * (h_b > 0.75))\n",
    "\n",
    "    a_off = \\\n",
    "        con1 * (-3 * h_b + 4) + \\\n",
    "        con2 * 0 + \\\n",
    "        con3 * (-1.25 * (h_b - 0.75)**2)\n",
    "\n",
    "    tp = a_off * h_b**1.1 * (h / h_b)**1.1 * np.exp(-5.7 * (h/h_b)**1.1)**(h_b**1.1)\n",
    "    return tp\n",
    "\n",
    "# swash / surf zone (onshore + offshore transport)\n",
    "def Tinker_swash_surf(h, h_b):\n",
    "    tp = Tinker_onsh(h, h_b) + Tinker_offs(h, h_b)\n",
    "    return tp\n",
    "\n",
    "### Total transport for swash/surf/shoal ###\n",
    "\n",
    "# total transport (mean + oscillatory + onshore + offshore transport)\n",
    "def Tinker_total(h, h_b):\n",
    "    tp = Tinker_surf_shoal(h, h_b) + Tinker_swash_surf(h, h_b)\n",
    "    return tp\n",
    "\n",
    "Tinker_functions = (\n",
    "    Tinker_mean,\n",
    "    Tinker_osci,\n",
    "    Tinker_surf_shoal,\n",
    "    Tinker_onsh,\n",
    "    Tinker_offs,\n",
    "    Tinker_swash_surf,\n",
    "    Tinker_total,\n",
    ")"
   ]
  },
  {
   "cell_type": "markdown",
   "id": "c39f019d-308d-4804-86ff-5c7e538664a3",
   "metadata": {},
   "source": [
    "#### Define bathymetry functions\n",
    "\n",
    "The functions in the cell below define the bathymetry. Two different bathymetries are defined. The first is used by Tinker et al. (2009) to define their shape functions. As mentioned, this is the bathymetry at Sennen Cove, Cornwall, UK. The second bathymetry is the bathymetry shown in Figure 7.21 in the textbook. Roelvink and Stive (1989) used this bathymetry for small-scale flume experiments performed at Delft Hydraulics (now Deltares). We will also use parabolic profiles, as in Figure 7.8 in the textbook. They will be defined in the plot function. The onshore direction is defined as the positive x-direction."
   ]
  },
  {
   "cell_type": "code",
   "execution_count": null,
   "id": "8f26105d-7b7e-4fe7-b203-3b54988e32fc",
   "metadata": {},
   "outputs": [],
   "source": [
    "# Bathymetries here!\n",
    "\n",
    "# define paths\n",
    "fp_uk = Path(\"../database/6_cross_shore_transport/6_uk_bath.csv\")\n",
    "fp_nl = Path(\"../database/6_cross_shore_transport/6_nl_bath.csv\")\n",
    "\n",
    "# read bathymetry files\n",
    "df_uk = pd.read_csv(fp_uk, sep='; ', decimal=',', names=['x', 'y'], engine='python')\n",
    "df_nl = pd.read_csv(fp_nl, sep='; ', decimal=',', names=['x', 'y'], engine='python')\n",
    "\n",
    "# interpolate to suitable grid\n",
    "uk_bath = mod_6.interpolate_bathymetry(fp_uk)\n",
    "nl_bath = mod_6.interpolate_bathymetry(fp_nl)\n",
    "\n",
    "baths = {\n",
    "    \"Sennen Cove, Cornwall (UK)\": uk_bath,\n",
    "    \"Scheldt flume (NL)\": nl_bath,\n",
    "}"
   ]
  },
  {
   "cell_type": "markdown",
   "id": "d40dcfb5-c452-45e0-8614-7c18e37176fc",
   "metadata": {},
   "source": [
    "#### Plot the results\n",
    "\n",
    "The next cell calls the plot function. It plots the Tinker shape functions, which are a function of $h/h_b$, and translates these to a function of the cross-shore distance $x$ for a particular bathymetry. \n",
    "\n",
    "In order to facilitate the analysis, the cross-transport **gradients** are also calculated and plotted as a function of $x$. We compute the transport gradients $dQ/dx$ in the direction of positive transports $Q$, so in positive x-direction. This ensures that positive gradients imply an increasing transport and, hence, a negative bed change or erosion. This guarantees that for every location, we can interpret positive gradients as leading to erosion and negative gradients as leading to sedimentation. \n",
    "\n",
    "Now we can plot the results! Execute the cell below to generate the plot by using the function we defined above. "
   ]
  },
  {
   "cell_type": "code",
   "execution_count": null,
   "id": "735a0f6e-d76a-4550-9f08-1d3734263fce",
   "metadata": {},
   "outputs": [],
   "source": [
    "app = mod_6.show_transport(baths, Tinker_functions)\n",
    "\n",
    "cd.launch_app(app)"
   ]
  },
  {
   "cell_type": "markdown",
   "id": "4ba0328d-6fee-43b1-ac78-bb508209e5da",
   "metadata": {},
   "source": [
    "### The transport panel \n",
    "\n",
    "You now have a panel with four plots: \n",
    "1. Cross-shore profile (vertical distance above a reference as a function of the cross-shore position $x$\n",
    "2. Transport as a function of the cross-shore position $x$ - defined such that onshore transport is positive\n",
    "3. Transport gradients $dQ/dx$ as a function of cross-shore position $x$ - defined such that positive gradients imply erosion\n",
    "4. Tinker shape functions (transports as a function of $h/h_b$ with $h/h_b = 1$ the breakpoint) \n",
    "\n",
    "The panel has the following options:\n",
    "1. You can select the bathymetry you want to look at using the selector in the panel\n",
    "2. You can use the sliders to change the water level and breaker depth (plotted as a horizontal dashed blue and a vertical grey line respectively)\n",
    "3. When the parabolic profile is selected, it becomes relevant to adjust the A and m values to your liking (take another look at Chapter 7.2.2 of the textbook for more details on these parameters)\n",
    "4. You can choose whether to include certain transport components in the transport plot or not. By default, only the mean transport and the oscillatory transport are included\n",
    "\n",
    "Please note that the transport gradients in the plot are sometimes not entirely smooth; you can ignore these small-scale fluctuations. \n",
    "\n",
    "#### Intermezzo: transport gradients\n",
    "Understanding how sediment transport gradients lead to erosion or sedimentation (and how to visualize that or estimate it by looking at a figure) is a really important part of this course, so it is worth spending the time here to understand what is going on. This concept will come up again in other parts of the course (like alongshore transport). Verify for yourself that:\n",
    "\n",
    "- A transport maximum or minimum implies a zero transport gradient and zero bed change;\n",
    "- Where the transport changes fastest along the profile, the transport gradients have the largest magnitude and the bed changes are largest;\n",
    "- A positive transport gradient implies erosion; this happens if the positive (onshore) transport *increases* in positive x-direction (onshore) or if the negative (offshore) transport *increases* in negative x-direction (offshore);\n",
    "- A negative transport gradient implies accretion; this happens if the positive (onshore) transport *decreases* in positive x-direction (onshore) or if the negative (offshore) transport *decreases* in negative x-direction (offshore)."
   ]
  },
  {
   "cell_type": "markdown",
   "id": "0008b02d-eade-40ba-81c5-7630ce3b240c",
   "metadata": {},
   "source": [
    "### General questions about the transport panel \n",
    "  \n",
    "In this part 2, let's stick to the default by only looking at mean and oscillatory transport in the surf/shoal zone. Also tick the box for total transport in the surf / shoal zone. Only in Part 3 does the swash/surf zone become relevant. \n",
    "\n",
    "Execute the cell below for two general questions about the transport panel. When you answer the questions, do not only consider the transports along the profile, but the transport gradients as well."
   ]
  },
  {
   "cell_type": "code",
   "execution_count": null,
   "id": "c4209a56-ddc5-4050-a84b-2be5b3882cb1",
   "metadata": {},
   "outputs": [],
   "source": [
    "q = [\n",
    "    \"Q6-unit_a\",\n",
    "    \"Q6-unit_b\",\n",
    "]\n",
    "\n",
    "question_industry.serve(q)"
   ]
  },
  {
   "cell_type": "markdown",
   "id": "8cacb5d1-a494-46c8-b5b0-c7549097390a",
   "metadata": {},
   "source": [
    "### Questions about the transport in the surf/shoal zone of Sennen Cove for high-energy conditions\n",
    "\n",
    "With our plotting function defined, let's first look at the United Kingdom site where the measurements were made. Select \"Sennen Cove, Cornwall (UK)\" in the bathymetry selector. \n",
    "\n",
    "The measurements were done over many tides (39) and for a range of wave conditions (offshore significant wave heights ranging from 0.1–2.5 m. Firstly, we will look at the more energetic conditions, which might occur during a storm. According to Tinker et al., a breaker depth of $h_b=2$ m is representative of such a situation. Use this value. \n",
    "\n",
    "For Sennen Cove, the reference level in the plot is mean sea level (MSL). Using the slider, you can set the water level relative to MSL, depending on the stage of the tide. First, play around with this slider. You should notice that for lower tidal water levels, not only the shoreline but also the breakpoint shifts in the offshore direction. This is a nice example of how the tide level affects which part of the profile is under wave attack. You should also notice that for MSL, the breakpoint is just outside the measured profile (and its instrumentation for the velocity and concentration measurements). It even falls outside the considered profile for lower tide levels. Clearly, the coverage of measurements in the shoaling zone depended on the tide and wave conditions. Under high-energy conditions data beyond the breakpoint were limited. We must keep this in mind when interpreting the shape functions. \n",
    "\n",
    "Now set the water level to MSL +2 m (this is MHWS). \n",
    "\n",
    "We are now going to look at the transports (second panel and fourth panel) and transport gradients (third panel) along the profile. Make sure to have selected the mean, oscillatory and total transport in the surf / shoal zone. Keep in mind that the horizontal axis in the second and third panels are the same as that of the profile. In the fourth panel, however, the transport is given as a function of $h/h_b$ (with $h/h_b = 1$ the breakpoint). \n",
    "\n",
    "Execute the below cells to generate the questions, which will help you explore the transport in the surf/shoal zone of Sennen Cove for high-energy conditions."
   ]
  },
  {
   "cell_type": "code",
   "execution_count": null,
   "id": "843e7e78-4c57-4741-8db3-6dddc232670f",
   "metadata": {},
   "outputs": [],
   "source": [
    "q = [\n",
    "    \"Q6-width_surf_zone\",\n",
    "    \"Q6-direction_waves_undertow\",\n",
    "    \"Q6-onshore_transport_waves\",\n",
    "    \"Q6-offshore_transport_undertow\",\n",
    "    \"Q6-direction_total_high_energy\",\n",
    "    \"Q6-compare_Tinker_book\",\n",
    "    \"Q6-morphological_response_surf\",\n",
    "    \"Q6-morphological_response_shoal\",\n",
    "]\n",
    "\n",
    "question_industry.serve(q)"
   ]
  },
  {
   "cell_type": "markdown",
   "id": "0445981d-9a60-4773-89cf-e194751d049b",
   "metadata": {},
   "source": [
    "### Questions about the transport in the surf/shoal zone of Sennen Cove for low-energy conditions\n",
    "\n",
    "Before we explore the low-energy conditions, let's summarize some of our findings for the high-energy conditions. We see an offshore mean transport due to undertow in the surf zone (and a little bit outside) and an onshore oscillatory transport in the shoaling zone and surf zone. This gives a total transport with an offshore maximum in the surf zone and an onshore maximum near the breakpoint (just outside the breakpoint). These maxima separate the regions of accretion and erosion, as you can verify from the plot of the transport gradients. The largest changes are in the surf zone, where sediment is moved from higher to lower portions of the profile. But sediment is also brought from the shoaling zone to the accretion zone in the outer part of the surf zone.  \n",
    "\n",
    "Now we continue with looking at low-energy conditions for Sennen Cove, which according to Tinker et al. is represented by a breaking depth $h_b=0.6$ m. Change the value of $h_b$ in the plot to 0.6 m. For ease of comparison, set the water level again to MSL +2 m (this is MHWS).\n",
    "\n",
    "You can immediately see that for the low-energy conditions, the surf zone is very narrow. As a consequence, the instruments were not in the surf zone for a very long time, resulting in little data from this region. This introduces some uncertainty in the resulting shape functions.\n",
    "\n",
    "Try to answer the questions below for the low-energy conditions. "
   ]
  },
  {
   "cell_type": "code",
   "execution_count": null,
   "id": "53c521d1-24ec-4aa4-aa88-edf920dfea9c",
   "metadata": {},
   "outputs": [],
   "source": [
    "q = [\n",
    "    \"Q6-width_surf_zone2\",\n",
    "    \"Q6-transport_direction_waves_undertow\",\n",
    "    \"Q6-difference_high_low_energy\",\n",
    "    \"Q6-morphodynamic_response_transport_maximum\",\n",
    "]\n",
    "\n",
    "question_industry.serve(q)"
   ]
  },
  {
   "cell_type": "markdown",
   "id": "0ab2cf2f-30c7-428e-9134-4a1ce66be1f5",
   "metadata": {},
   "source": [
    "### Concluding question for Sennen Cove exploration\n",
    "\n",
    "By now, you have explored the main concepts of cross-shore sediment transport employing the shape functions by Tinker et al. The low-energy shape function can lead to the development of the typical summer/calm proﬁle and drive onshore bar migration. The high-energy shape function can lead to the development of the typical winter/storm proﬁle and drive offshore bar migration.\n",
    "\n",
    "A key feature of the two shape functions is that both the mean and oscillatory sediment ﬂuxes increase with $h_b$, but that the offshore-directed mean ﬂux increases faster than the onshore-directed oscillatory ﬂux. For small $h_b$, the net transport is onshore regardless of $h/h_b$. For  larger $h_b$, the net transport has an offshore transport peak in the surf zone and an onshore transport peak close to the breakpoint. Use the $h_b$ slider to verify these conclusions. When you have done so, try to answer the following question: "
   ]
  },
  {
   "cell_type": "code",
   "execution_count": null,
   "id": "1404c75d-e487-4560-89fa-0deb89e9144c",
   "metadata": {},
   "outputs": [],
   "source": [
    "q = [\n",
    "    \"Q6-onshore_equals_offshore\",\n",
    "]\n",
    "\n",
    "question_industry.serve(q)"
   ]
  },
  {
   "cell_type": "markdown",
   "id": "bb50dc65-df84-4e46-95a3-dfb021e8ad75",
   "metadata": {},
   "source": [
    "## Part 3: Optional Extra Material\n",
    "\n",
    "If you are curious, you can optionally continue to explore some additional features that we built in this notebook."
   ]
  },
  {
   "cell_type": "markdown",
   "id": "462faf0c-8401-41d2-b006-acc97b18d257",
   "metadata": {},
   "source": [
    "### ($h / h_b$)-plot\n",
    " \n",
    "As you will have noticed by now, the plotting function generates four subplots: the bathymetry, the transport and transport gradients as a function of $x$, and the transport as a function of $h/h_b$. The dimensionless $h/h_b$ is a convenient way to normalize cross-shore profiles. Below, a new plotting method is defined to look at this manner of plotting more closely. You will see that this way of looking at it can help to better understand the above explored dependencies of the transport and morhological response on $h_b$ and generalize the conclusions.\n",
    "\n",
    "To that end, we will create a new panel, where the transport is plotted as a function of $h/h_b$ for an (adjustable) range of values for $h_b$. Using this panel, it is much easier to explore the effect of $h_b$. We will not ask any specific questions about this plot. Instead, try to verify some of the key features of the shape functions. For this, you can have a look at the following pointers:\n",
    "- both the mean and oscillatory sediment ﬂuxes increase with $h_b$.\n",
    "- the offshore-directed mean ﬂux increases faster than the onshore-directed oscillatory ﬂux.\n",
    "- for small $h_b$, the net transport is onshore regardless of $h/h_b$.\n",
    "- for  larger $h_b$, the transport has an offshore transport peak in the surf zone and an onshore transport peak close to the breakpoint.\n",
    "- the onshore and offshore net transport peaks are approximately equal in magnitude for $h_b$ = 1.7 m.\n",
    "- the low-energy shape function can lead to the development of the typical summer/calm proﬁle and drive onshore bar migration.\n",
    "- the high-energy shape function can lead to the development of the typical winter/storm proﬁle and drive offshore bar migration.\n",
    "\n",
    "It is also nice to compare our ($h / h_b$)-plot with Figs. 6 and 8 in [Tinker et al. (2009)](https://doi.org/10.1016/j.csr.2009.03.011).\n",
    "\n",
    "Now execute the cell below to obtain the ($h / h_b$)-plot. Make sure the total transport is also selected, then play around with the ($h_b$)-slider and try to verify the pointers listed above. "
   ]
  },
  {
   "cell_type": "code",
   "execution_count": null,
   "id": "e615db7d-79ba-4168-85fe-4abb7092a8ec",
   "metadata": {},
   "outputs": [],
   "source": [
    "app = mod_6.h_hb_transport(Tinker_functions)\n",
    "\n",
    "cd.launch_app(app)"
   ]
  },
  {
   "cell_type": "markdown",
   "id": "f1e060fd-810f-4c0e-b835-7cdf1ecfc1be",
   "metadata": {},
   "source": [
    "### Scheldt Flume\n",
    "\n",
    "It is a nice additional exercise to now select the Scheldt Flume profile in the first panel and see how the shape functions behave for the situation as in Figure 7.21. Set the water level slider at the reference level and choose the $h_b$, such that it gives you the surf zone width that you estimated in Q5 above.  What do you learn from this comparison? \n",
    "\n",
    "Because [the Scheldt Flume](https://www.deltares.nl/en/research-facilities/wave-and-flow-facilities/scheldt-flume) is a small-scale facility and not at full size, the value for $h_b$ is very small (≈ 0.35 m). In real life such a value for $h_b$ would represent accretive conditions conditions and the shape functions do indeed give a consistent onshore transport. In the Scheldt Flume, however, these waves mimic storm conditions.\n",
    "\n",
    "#### Intermezzo: Physical Scale Modelling of Sediment Transport\n",
    "Physical modelling studies of sediment transport are extremely difficult due to the matter of scaling. When a beach is scaled down by a factor of 10-50 to be simulated in the lab, not everything scales linearly (e.g., the width of the beach does not shrink by the same proportion as do the forces exerted by waves on sand grains) and sediment properties change fundamentally. In spite of these challenges, scale models are often still [“unreasonably effective”](https://doi.org/10.1016/j.earscirev.2009.05.003) at elucidating physical processes, even when compromises in scaling have to be made.\n"
   ]
  },
  {
   "cell_type": "markdown",
   "id": "82609a38-2838-4882-8945-6859fd9f3943",
   "metadata": {},
   "source": [
    "### Parabolic profile\n",
    "\n",
    "The shape functions from Tinker et al. were developed for the Sennen Cove site (UK) with a $D_{50}$ ≈ 0.7 mm (relatively coarse sand). Nonetheless, the authors assume that the shape functions are generally applicable to sandy beaches with alongshore uniform topography (although some adjustments must be made to make them work on a barred beach).\n",
    "\n",
    "Let's try the shape functions for different types of bathymetry, assuming some breakpoint depth $h_b$! For this, we have included the option for a parabolic coastal profile in the first panel. You can select the parabolic coastal profile using the dropdown menu in the plot and set the two parameters A and m using the sliders. In this way, you can study the difference between the three Dutch profiles of Figure 7.8 in the book and make a comparison to Sennen Cove. \n",
    "\n",
    "Here are some observations that you can make:\n",
    "1. For the three Dutch sites $D_{50}$ ≈ 0.2 mm rather than $D_{50}$ ≈ 0.7 mm. The grain-size, however, does not play a role in the shape functions and, consequently, for the same $h_b$ the \"predicted\" seaward and shoreward transport maxima have the same magnitude for all four profiles. We can question whether it is realistic that the grain-size does not play a role.\n",
    "2. Also the profile steepness varies between the profiles. All Dutch sites are significantly less steep than the UK site, and the Dutch sites also vary in steepness (check which is the steepest and which the flattest in Figure 7.8). \n",
    "4. For the same $h_b$, a steeper profile leads to a narrower zone in which the transport takes place. You can check this by choosing a value for $h_b$ and considering the surf zone width and extension of the transport zones for all four profiles.\n",
    "5. In the comparison, we started from the same value for $h_b$. Note that the profile steepness also plays a role in the wave breaking and, hence, breaker index $\\gamma$ (see Section 5.2.5). Therefore, the wave height at breaking could vary between the profiles even if $h_b$ is the same. \n",
    "\n",
    "Please note that it is a bit inconsistent to look at instantaneous sediment transport on a parabolic equilibrium profile that is derived based on a long term average.  It is always important to reflect on the assumptions behind the equations or models that you use to describe the coast before you apply them to a new setting!"
   ]
  },
  {
   "cell_type": "markdown",
   "id": "0eebc201-a357-4743-ab23-7d9d715c3d6a",
   "metadata": {},
   "source": [
    "### Transport in the swash zone\n",
    "\n",
    "Including the on- and offshore transport shape functions allows us to look at what happens in the swash and the inner surf zone. Enable these functions in the plot to explore the effect of including the transport in the swash / inner surf zone. You can use both the first panel and the second panel. The second panel probably gives the best overview for a range of $h_b$-values.\n",
    "\n",
    "See if you can verify the following statements: \n",
    "1. By definition, the onshore transport component of the swash /inner surf zone is always positive (i.e., in positive x-direction, which is defined as onshore), whereas the offshore transport component is always negative.\n",
    "2. The onshore transport occurs under all conditions and is confined to very shallow water\n",
    "3. The offshore component only occurs during high-energy conditions and takes place a bit further offshore in the inner surf zone (but still in the swash/inner surf zone).\n",
    "4. During high-energy conditions, the offshore transport function helps explain rapid erosion in the outer swash/inner surf zone, by pulling the offshore transport maximum shorewards.\n"
   ]
  },
  {
   "cell_type": "markdown",
   "id": "27bc73c2-9baa-43ad-b796-764aba958ccb",
   "metadata": {},
   "source": [
    "## The end \n",
    "\n",
    "You have reached the end of this notebook for week 6 (the only notebook of this week). You now know about the different components in the swash, surf, and shoaling zones under high-energy and low-energy conditions, and have seen some practical examples! In ACES (the first unit of the B1 Coastal Engineering module, CIEM3210) we will discuss the Tinker et al. paper further. "
   ]
  }
 ],
 "metadata": {
  "kernelspec": {
   "display_name": "coastalcodebook",
   "language": "python",
   "name": "python3"
  },
  "language_info": {
   "codemirror_mode": {
    "name": "ipython",
    "version": 3
   },
   "file_extension": ".py",
   "mimetype": "text/x-python",
   "name": "python",
   "nbconvert_exporter": "python",
   "pygments_lexer": "ipython3",
   "version": "3.13.1"
  }
 },
 "nbformat": 4,
 "nbformat_minor": 5
}
