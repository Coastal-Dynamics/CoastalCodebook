{
 "cells": [
  {
   "cell_type": "markdown",
   "id": "b7c4ba52-608e-4476-a3a8-9ae69e943142",
   "metadata": {},
   "source": [
    "<figure>\n",
    "    <img src=\"../images/tudelft_logo.png\" alt=\"image\" width=\"250\" align=\"right\"/>\n",
    "</figure>"
   ]
  },
  {
   "cell_type": "markdown",
   "id": "80d94711-c14d-4f4f-bcc6-6e9645e44e84",
   "metadata": {},
   "source": [
    "# 3a: Tidal Environments\n",
    "  \n",
    "This week, we will have three notebooks: Notebooks 3a, 3b and 3c. Notebook 3a is about the tidal part of Chapter 4 of the [Coastal Dynamics Open Textbook](https://books.open.tudelft.nl/home/catalog/book/202), which treats the global variation of the main processes that shape the coast (wind, waves, and tides). Notebook 3b is about wave form (wave asymmetry and skewness) and will come in handy when studying both wind waves and tides and related sediment transport, from Chapter 5 onwards. Notebook 3c is about radiation stresses, which are crucial in generating wave-induced currents and water level variations. \n",
    "\n",
    "Tidal environments can be classified based on the following two variables: \n",
    "- *Magnitude* of the tide, characterised by the tidal range;\n",
    "- Tidal *character*, determined by the importance of diurnal vs. semi-diurnal components\n",
    "\n",
    "In this notebook, we will explore both classifications using python code. The notebook consists of *three* parts with a total of *twenty-one* multiple-choice, multiple-selection or numeric questions (1 question in part 1, 12 questions in part 2 and 8 questions in part 3)."
   ]
  },
  {
   "cell_type": "markdown",
   "id": "729d4005-77b9-4435-8200-a318f7a35d15",
   "metadata": {},
   "source": [
    "## Import the required libraries and questions \n",
    "\n",
    "Run the below cells to import all libraries and question files that we use for our analysis."
   ]
  },
  {
   "cell_type": "code",
   "execution_count": null,
   "id": "9b2ce2ff-523a-4801-9dce-e70af8c20a05",
   "metadata": {},
   "outputs": [],
   "source": [
    "from pathlib import Path\n",
    "\n",
    "import numpy as np\n",
    "import pandas as pd\n",
    "import pickle\n",
    "import panel as pn\n",
    "\n",
    "import coastal_dynamics as cd\n",
    "\n",
    "pn.extension()"
   ]
  },
  {
   "cell_type": "code",
   "execution_count": null,
   "id": "51baade5",
   "metadata": {},
   "outputs": [],
   "source": [
    "import sys\n",
    "\n",
    "sys.path.append('../')\n",
    "\n",
    "from modules import mod_3a"
   ]
  },
  {
   "cell_type": "code",
   "execution_count": null,
   "id": "b6249403-771f-461a-ad41-caeeba856018",
   "metadata": {},
   "outputs": [],
   "source": [
    "questions = cd.read_questions(Path(\"../hashed_questions/3a_tidal_environments_hashed.json\"))\n",
    "\n",
    "question_industry = cd.QuestionIndustry(questions)\n",
    "\n",
    "cd.UseAnswersApp(\"3a\").serve()"
   ]
  },
  {
   "cell_type": "code",
   "execution_count": null,
   "id": "c205465c-a938-4b5f-abf5-eff6d65e4df7",
   "metadata": {},
   "outputs": [],
   "source": [
    "F_data_fp =  Path(\"../database/2_wind_waves_tides/02_F_data.pkl\")\n",
    "F_data = pd.read_pickle(F_data_fp)"
   ]
  },
  {
   "cell_type": "markdown",
   "id": "fe7d9402-dc25-43a1-a20c-0ad54630ec95",
   "metadata": {},
   "source": [
    "## Part 1: Classification of tidal environments\n",
    "\n",
    "### Tidal magnitude and character \n",
    "\n",
    "The tidal wave is distorted by local differences in water depth and by the location and shape of land masses and large embayments. This results in a global variation in tidal range controlled by the large-scale coastal configuration. The tidal classification expressed through mean spring tidal range:\n",
    "\n",
    "|Category| Mean spring tidal range |\n",
    "|----------------|:--:|\n",
    "| Micro-tidal | < 2m | \n",
    "| Meso-tidal | 2m - 4m | \n",
    "| Macro-tidal | > 4m | \n",
    "\n",
    "The tidal character, on the other hand, is defined by the form factor *F* (Eq. 4.1 in the book): <center>*F* = (K1 + O1)/(M2 + S2),</center>\n",
    "where K1, O1, M2, and S2 are the amplitudes of the corresponding tidal constituents. <br><br>\n",
    "\n",
    "|Category| Value of F |\n",
    "|----------------|:--:|\n",
    "| Semi-diurnal | 0 - 0.25 | \n",
    "| Mixed, mainly semi-diurnal | 0.25 - 1.5 | \n",
    "| Mixed, mainly diurnal | 1.5 - 3 | \n",
    "| Diurnal | > 3 | \n",
    "\n",
    "### Global distribution\n",
    "\n",
    "In the figure below, which consists of Figures 4.10 and 4.12 from the textbook, you can see the world distribution of mean spring tidal range (*left*) and tidal character (*right*). The attribution of the tidal types follows J.L. Davies and Clayton (1980). They classified the world's coastlines using rough coastal data.  \n",
    "\n",
    "![image](../images/2_wind_waves_tides/02_tidal_env.png)"
   ]
  },
  {
   "cell_type": "markdown",
   "id": "1a77f27c-30a7-45dd-aa53-86136862cf87",
   "metadata": {},
   "source": [
    "### Questions for Part 1\n",
    "\n",
    "- Look into the semi-enclosed seas vs. open coasts and enclosed seas; do you notice anything? Why?\n",
    "- Compare the left and right figures: do you notice any repetitive patterns? Hint: Look at the tidal range for specific tidal characters.\n",
    "  \n",
    "Now run the cell below to get a multiple-selection question that will test your understanding. "
   ]
  },
  {
   "cell_type": "code",
   "execution_count": null,
   "id": "60049ae9-7a6f-43e9-ba74-8b318e05b0b1",
   "metadata": {},
   "outputs": [],
   "source": [
    "q = [\n",
    "    \"Q3a-classification-trends\"\n",
    "]\n",
    "\n",
    "question_industry.serve(q)"
   ]
  },
  {
   "cell_type": "markdown",
   "id": "aabecdb1-75a9-438d-88a1-e268af67134b",
   "metadata": {},
   "source": [
    "## Part 2: Tidal classification using FES2014 global data\n",
    "\n",
    "We can also make our own tidal character plot, once again using the [FES2014 Global Tide data](https://www.aviso.altimetry.fr/en/data/products/auxiliary-products/global-tide-fes/description-fes2014.html), which provides amplitude and phase information for 34 tidal constituents, distributed on 1/16˚ grids.\n",
    "\n",
    "- The code cell below plots the tidal characters across the globe obtained from the FES2014 dataset. This code is a bit slow, since it is doing a global contour! Therefore, we have commented out the code and will load the resulting figure for you below this text.\n",
    "- Compare this figure to the above tidal character plot (Figure 4.12 in the textbook and right panel of the above illustration). What could be the reasons behind the observed differences? \n",
    "- Note that the plot also shows four locations that we will consider next.\n",
    "\n",
    "![image](../images/3_tides_nonlinearity/global_contour.png)"
   ]
  },
  {
   "cell_type": "code",
   "execution_count": null,
   "id": "3c25ed39-a85d-4ce3-aea9-6425dd90a698",
   "metadata": {},
   "outputs": [],
   "source": [
    "## FES2014 Tidal Characters\n",
    "# the code is a bit slow, it is doing a global contour!\n",
    "\n",
    "#mod_3a.tidal_characters(F_data)  # Do not run this code, it is too slow on the hub. Instead we have loaded the resulting plot for you in the above cell"
   ]
  },
  {
   "cell_type": "markdown",
   "id": "4561d7b6-43f9-4020-8e18-541aca941eed",
   "metadata": {},
   "source": [
    "### Tidal curves and tidal character at specific locations\n",
    "\n",
    "Let's now categorize the tide at the four locations marked in the plot by computing the form factor and look at the tidal curves. \n",
    "\n",
    "For each location, we retrieve the tidal signal from the [FES2014 Global Tide data](https://www.aviso.altimetry.fr/en/data/products/auxiliary-products/global-tide-fes/description-fes2014.html) as explained in Notebook 2d. We have labelled the locations 1 to 4; later in this notebook you will be asked to match the location labels with the location names. \n",
    "\n",
    "Further, the amplitudes of the constituents from the FES2014 dataset, needed to compute the form factor, are shown in the table below. The table also shows the latitude and longitude.\n",
    "\n",
    "|Tidal amplitudes [cm]| M2 | S2 | K1 | O1 | Longitude | Latitude |\n",
    "|----------------|:--:|:--:|:--:|:--:|----------------|----------------|\n",
    "| Scheveningen (Netherlands)  | 75.78 | 17.74 | 8.39  |  11.85 | 4.25 | 52.125 | \n",
    "| Galveston (US Gulf of Mexico)  | 13.08| 3.97  |  16.17 | 15.89 | -94.6875 | 29.25 |  \n",
    "| Jakarta (Indonesia)| 4.58 |  5.18 |  25.75 | 13.46 | 106.8125 | -6.0625 |\n",
    "| Valparaiso (Chile) | 42.91 | 14.40 | 15.29  |  10.22 | -71.625 | -33 | \n",
    "\n",
    "### Questions about Part 2\n",
    "\n",
    "1. Run the first cell below to get the tidal signals for a time-range that you can specify (select at least a month within the period of 1977-2017). Remember that you can further adjust the figure to your liking; you can **pan** (move the view) and zoom and the two axes are **individually** zoomable as well by hovering over them and using the **wheelzoom** tool. What differences between the curves do you observe? \n",
    "2. Now compute the form factor *F* for each location. You can use the empty cell below to write your own code for this calculation.\n",
    "3. Then run the subsequent cell to get some questions about your results and their interpretation."
   ]
  },
  {
   "cell_type": "code",
   "execution_count": null,
   "id": "0d98d324-7564-4b8d-a914-a6b050255c28",
   "metadata": {},
   "outputs": [],
   "source": [
    "# Choose a time window of at least a month to plot (has to be between 1977 - 2017)\n",
    "start_date = pd.to_datetime(\"2000-05-01 00:00\")\n",
    "end_date = pd.to_datetime(\"2000-07-01 00:00\")\n",
    "\n",
    "dir_path = Path(\"../database/2_wind_waves_tides/\")\n",
    "\n",
    "figure, *_ = mod_3a.FES_tidal_signal(dir_path, start_date, end_date)\n",
    "display(figure)"
   ]
  },
  {
   "cell_type": "code",
   "execution_count": null,
   "id": "2bfc5f12-c0bb-4d61-beb9-3828c28e61d9",
   "metadata": {},
   "outputs": [],
   "source": [
    "## Write your code to compute F here.\n",
    "\n",
    "\n"
   ]
  },
  {
   "cell_type": "code",
   "execution_count": null,
   "id": "ecc81791-aa21-4c9b-9be0-1d8c1dea6070",
   "metadata": {},
   "outputs": [],
   "source": [
    "# Run to get questions about Part 2\n",
    "\n",
    "q = [\n",
    "    \"Q3a-F-Scheveningen\",\n",
    "    \"Q3a-category-Scheveningen\",\n",
    "    \"Q3a-F-Galveston\",\n",
    "    \"Q3a-category-Galveston\",\n",
    "    \"Q3a-F-Jakarta\",\n",
    "    \"Q3a-category-Jakarta\",\n",
    "    \"Q3a-F-Valparaiso\",\n",
    "    \"Q3a-category-Valparaiso\",\n",
    "    \"Q3a-label-1\",\n",
    "    \"Q3a-label-2\",\n",
    "    \"Q3a-label-3\",\n",
    "    \"Q3a-label-4\",\n",
    "]\n",
    "\n",
    "question_industry.serve(q)"
   ]
  },
  {
   "cell_type": "markdown",
   "id": "86b2c7d2-275c-492b-97df-ec6b62639a79",
   "metadata": {},
   "source": [
    "## Part 3: Beating of tidal constituents\n",
    "\n",
    "Now that we've identified the tidal characteristics of each location, we can visualize the tidal constituents that make up the total signal and address various questions. \n",
    "We already know from Notebook 2d that M2 and S2 combined give rise to a spring-neap tidal cycle of 14.77 days. We also know that the addition of the diurnal components K1, O1 and P1 leads to daily inequality (and in the extreme to a purely diurnal tide). Here, we are going to consider the beats between some other constituents as well.\n",
    "\n",
    "We will generate a figure that displays the individual tidal components (upper plot) and their combined tidal signal (lower plot, total signal and sum of selected components) for two of the locations at the same time. The two left plots are for the one location, the two right plot for the other location; in this way you can determine, which of the locations you would like to compare with each other. These are the steps:\n",
    "- Choose the two locations and data range (within the full period of 1977-2017) in the code cell.\n",
    "- Execute the block below to generate an interactive figure. \n",
    "- Select which tidal constituents to display with tick boxes.\n",
    "- You can further adjust the time range in the plot using the Bokeh zoom and pan tools.\n",
    "  \n",
    "This allows you to experiment with different constituents, observe the resulting signals, and compare the locations. \n",
    "\n",
    "#### Important note on the time range\n",
    "Note that in the below code cell we choose two months as the default time range. You can extend this to a year where necessary, but this will be much slower, so only do this when you need to discern beating periods that exceed the monthly time-scale. You will notice that some of the beatings vary seasonally and that we need a longer time range to discern these. To look at these seasonal variations make sure you comment the appropriate two lines in the below code cell. \n",
    "\n",
    "Note further that you can also zoom in using the Bokeh zoom tools. "
   ]
  },
  {
   "cell_type": "code",
   "execution_count": null,
   "id": "7b46ed7c-319f-4fb1-98a4-2610172cf200",
   "metadata": {},
   "outputs": [],
   "source": [
    "# We choose one year to plot, 2000-2001 same as in the previous Notebook\n",
    "start_date = pd.to_datetime(\"2000-01-01 00:00\")\n",
    "end_date = pd.to_datetime(\"2001-01-01 00:00\")\n",
    "\n",
    "# Pre-select a time range of to look at within this year (default: two months):\n",
    "# Comment out the below two lines if you want to look at the full year\n",
    "start_date = pd.to_datetime(\"2000-05-01 00:00\")\n",
    "end_date = pd.to_datetime(\"2000-07-01 00:00\")\n",
    "\n",
    "figure, FES1, FES2, FES3, FES4 = mod_3a.FES_tidal_signal(dir_path, start_date, end_date)"
   ]
  },
  {
   "cell_type": "code",
   "execution_count": null,
   "id": "092a4ba2-d56a-4f6b-bf85-f24bd933be04",
   "metadata": {},
   "outputs": [],
   "source": [
    "# Choose tidal constituents, these will be included in the figure\n",
    "comps = ['M2', 'S2', 'N2', 'K2',  #semi-diurnal\n",
    "         'K1', 'O1', 'P1', 'Q1',  #diurnal\n",
    "         'MF', 'MM', 'SSA',       #long period\n",
    "         'M4', 'M6', 'S4', 'MN4'] #short period (overtides)\n",
    "\n",
    "# We start with the M2, S2, K1 and O1 pre-selected\n",
    "\n",
    "# Select any two out of the four locations, to display the beating of the tidal constituents\n",
    "# \"Scheveningen\", \"Valparaiso\", \"Jakarta\", \"Galveston\"\n",
    "# Examples:\n",
    "#locs = [\"Scheveningen\", \"Valparaiso\"]   # Example statement to select locations Scheveningen and Valparaiso\n",
    "locs = [\"Jakarta\", \"Galveston\"]          # Example statement to select locations Jakarta and Galvestion\n",
    "\n",
    "mod_3a.plot_4timeseries_with_interactive_controls(locs, comps, start_date, end_date, FES1, FES2, FES3, FES4)"
   ]
  },
  {
   "cell_type": "markdown",
   "id": "0edb1bfe-ddd5-43e4-b20f-b0e448984cc7",
   "metadata": {},
   "source": [
    "### Open questions about Part 3\n",
    "\n",
    "In the code above, select the two locations with a (mainly) semi-diurnal character. Also choose the appropriate time ranges (note that you can further adjust the date range where necessary by using the zoom tools of the figure). Investigate the following: \n",
    "\n",
    "&emsp;a) Compare the amplitudes of the semi-diurnal components and diurnal components and explain the differences in the total signal based on this. \\\n",
    "&emsp;b) By selecting two components (which ones?), verify the previously computed spring-neap tidal cycle of 14.77 days. \\\n",
    "&emsp;c) What is the approximate beating period of M2 and N2? How would you describe this effect? What is the effect on subsequent spring tides?\\\n",
    "&emsp;d) Select S2 and K2. What is the approximate beating period of these two components? Are there certain times in the year that the resulting tidal amplitudes are largest? \\\n",
    "&emsp;e) Select all semi-diurnal components. Can you still identify the effects investigated above? \n",
    "\n",
    "In the code, select the two locations with a (mainly) diurnal character. Investigate the following  (note that you can further adjust the date range where necessary by using the zoom tools of the figure): \n",
    "\n",
    "&emsp;f) Compare the amplitudes of the semi-diurnal components and diurnal components and explain the differences in the total signal based on this. \\\n",
    "&emsp;g) What are the three strongest diurnal components at these locations? \\\n",
    "&emsp;h) Could there also be a fortnightly spring-neap tidal cycle from the beating of the most important diurnal component and one of the other diurnal components? Try to determine which other component. \\\n",
    "&emsp;i) Select K1 and P1. What is the approximate beating period of these two components? Are there certain times in the year that the resulting tidal amplitudes are largest? \\\n",
    "&emsp;j) Select all diurnal components. Can you still identify the effects investigated above? \n",
    "\n",
    "Now revisit the signal for each location and activate all components, including some short period constituents that we will further explore next week. \n",
    "\n",
    "&emsp;k) Analyse the combined signals. What kind of signal do you see for each location? What are the dominant components and beatings at each location? \n",
    "\n",
    "When you have finished the above steps, check your understanding by answering the questions below."
   ]
  },
  {
   "cell_type": "markdown",
   "id": "9d1e8d06-dd02-414f-b940-a6e16c2b39f5",
   "metadata": {},
   "source": [
    "### Question block about Part 3: Tidal Beating\n",
    "\n",
    "Using the knowledge gained from Chapter 3 of the textbook and the interactive figure above, try to answer the questions below. You can use the next cell as a calculator. Give your numeric answer with at least three significant figures. You will need the information in the below table, that was first shown in Notebook 2d.\n",
    "\n",
    "|Tidal constituents | Name | Equil. <br> Amplitude [m] | Period [h] |\n",
    "|-|-|-|-|\n",
    "| **Semi-diurnal** |\n",
    "| Principal lunar | M2 | 0.24 | 12.4206012 |\n",
    "| Principal solar | S2 | 0.11 | 12 |\n",
    "| Lunar elliptical | N2 | 0.046 | 12.65834751 |\n",
    "| Lunar-solar declinational | K2 | 0.031 | 11.96723606 |\n",
    "| **Diurnal** |\n",
    "| Lunar-solar declinational | K1 | 0.14 | 23.93447213 |\n",
    "| Principal lunar | O1 | 0.10 | 25.81933871 | \n",
    "| Principal solar | P1 | 0.047 | 24.06588766 | \n",
    "| Lunar elliptical | Q1 | 0.019 | 26.868350 |\n",
    "| **Long period** |\n",
    "| Fortnightly | Mf | 0.042 | 327.8599387 |\n",
    "| Monthly | Mm | 0.022 | 661.3111655 | \n",
    "| Semi-annual | Ssa | 0.019 | 4383.076325 | "
   ]
  },
  {
   "cell_type": "code",
   "execution_count": null,
   "id": "d5f37d5d-396b-4f23-8588-df2673b94b54",
   "metadata": {},
   "outputs": [],
   "source": [
    "# Write your code here to get answers to the questions below. \n",
    "# Use the values from the table above and use at least 4 significant figures.\n",
    "\n",
    "\n"
   ]
  },
  {
   "cell_type": "code",
   "execution_count": null,
   "id": "946850c8-8555-4aa1-b853-ea409bb66723",
   "metadata": {},
   "outputs": [],
   "source": [
    "# Run this cell to get the questions\n",
    "q = [\n",
    "    \"Q3a-semi-diurnal-TC12\",\n",
    "    \"Q3a-semi-diurnal-D1\",\n",
    "    \"Q3a-diurnal-TC34\",\n",
    "    \"Q3a-diurnal-D2\",\n",
    "    \"Q3a-semi-diurnal-month12\",\n",
    "    \"Q3a-semi-diurnal-TC56\",\n",
    "    \"Q3a-diurnal-month34\",\n",
    "    \"Q3a-diurnal-TC78\"\n",
    "]\n",
    "\n",
    "question_industry.serve(q)"
   ]
  },
  {
   "cell_type": "markdown",
   "id": "5f726bea-eebb-4974-9c76-140e1255fd34",
   "metadata": {},
   "source": [
    "## The end\n",
    "\n",
    "You have reached the end of this Notebook 3a. You can continue with this week's second notebook, which is Notebook 3b on wave asymmetry and skewness."
   ]
  }
 ],
 "metadata": {
  "kernelspec": {
   "display_name": "coastalcodebook",
   "language": "python",
   "name": "python3"
  },
  "language_info": {
   "codemirror_mode": {
    "name": "ipython",
    "version": 3
   },
   "file_extension": ".py",
   "mimetype": "text/x-python",
   "name": "python",
   "nbconvert_exporter": "python",
   "pygments_lexer": "ipython3",
   "version": "3.13.1"
  }
 },
 "nbformat": 4,
 "nbformat_minor": 5
}
