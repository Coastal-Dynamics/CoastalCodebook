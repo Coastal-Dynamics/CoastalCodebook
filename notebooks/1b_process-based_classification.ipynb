{
 "cells": [
  {
   "cell_type": "markdown",
   "metadata": {},
   "source": [
    "<figure>\n",
    "  <img src=\"../images/tudelft_logo.png\" alt=\"image\" width=\"250\" align=\"right\"/>\n",
    "</figure>"
   ]
  },
  {
   "cell_type": "markdown",
   "metadata": {},
   "source": [
    "# 1b: Process-based coastal classification\n",
    "\n",
    "Welcome to the second notebook of week 1. In the previous notebook, you have looked at tectonic classification. We now continue with process-based coastal classification. In this notebook, we will explore several coastal systems around the world considering the second- and third-order scale of features (i.e., at regional $O$(10-100km) and local $O$(0.1-1km) scales).\n",
    "\n",
    "In Chapter 2 of the [Coastal Dynamics Open Textbook](https://books.open.tudelft.nl/home/catalog/book/202), it is explained how coastal systems can be classified according to the processes that influence these systems. For example, one of the figures (below) shows how the relative influence of fluvial, wave and tidal processes determines the shape of coastal features. The goal of this notebook exercise is that you can identify the signatures of the processes that are introduced in Chapter 2 in several coastal systems around the world. Looking at remotely-sensed (satellite or aerial) images of coastal systems and interpreting which physical processes shape the coast is an important skill for the modern coastal engineer.\n",
    "\n",
    "For this exercise, we will first prepare the visualization of the coastal systems. Next, you will be asked to answer 13 questions, mainly multiple-choice or multiple-selection questions, and 1 numeric question.\n",
    "\n",
    "<!-- ![image](./database/1_coastal_classification//1_coastal_forcing.png) -->"
   ]
  },
  {
   "cell_type": "markdown",
   "metadata": {},
   "source": [
    "<img src=\"../images/1_coastal_classification//1_coastal_forcing.png\" alt=\"image\" width=\"550\"/>"
   ]
  },
  {
   "cell_type": "markdown",
   "metadata": {},
   "source": [
    "## Import libraries that we use for our analysis\n",
    "\n",
    "Let's first import the libraries that we use for our analysis by running the next cells."
   ]
  },
  {
   "cell_type": "code",
   "execution_count": null,
   "metadata": {},
   "outputs": [],
   "source": [
    "from pathlib import Path\n",
    "import warnings\n",
    "\n",
    "import geopandas as gpd\n",
    "import holoviews as hv\n",
    "import hvplot.pandas  # noqa: API import\n",
    "import numpy as np\n",
    "import pandas as pd\n",
    "import panel as pn\n",
    "import pooch\n",
    "from bokeh.models import PanTool, WheelZoomTool\n",
    "\n",
    "import coastal_dynamics as cd\n",
    "\n",
    "# Activate Panel extension to make interactive visualizations\n",
    "pn.extension()"
   ]
  },
  {
   "cell_type": "code",
   "execution_count": null,
   "metadata": {},
   "outputs": [],
   "source": [
    "# read questions locally\n",
    "questions = cd.read_questions(Path(\"../hashed_questions/1_coastal_classification_hashed.json\"))\n",
    "\n",
    "question_industry = cd.QuestionIndustry(questions)\n",
    "\n",
    "cd.UseAnswersApp(\"1b\").serve()"
   ]
  },
  {
   "cell_type": "markdown",
   "metadata": {},
   "source": [
    "## Load the coastal systems data and prepare the visualization"
   ]
  },
  {
   "cell_type": "markdown",
   "metadata": {},
   "source": [
    "### Load coastal systems data\n",
    "In this notebook, we will take a closer look at individual coastal systems. To make that a bit easier, we have prepared a dataset of coastal sites with their coordinates. You might not recognize the '.parquet' file extension but don't worry, it's functionally similar to '.csv' (like Excel), but allows us to save and load geospatial data using geopandas. Load this dataset by running the cell below."
   ]
  },
  {
   "cell_type": "code",
   "execution_count": null,
   "metadata": {},
   "outputs": [],
   "source": [
    "coastal_systems_fp = Path(\"../database/1_coastal_classification/1_coastal_systems.parquet\")\n",
    "\n",
    "coastal_systems = gpd.read_parquet(coastal_systems_fp)"
   ]
  },
  {
   "cell_type": "markdown",
   "metadata": {},
   "source": [
    "### Load the isobaths\n",
    "\n",
    "Like in notebook 1a, we also get the bathymetric contours for a water depth of -200m from [ArcGIS](https://www.arcgis.com/home/item.html?id=5f98dbc4708e4a7e99c0a7fe043d70a1), which we will use as a proxy to find the boundary of the continental shelf. Because we want to maintain interactive plots, all shorter isobaths are dropped. Computing lengths is a metric operation, so the data first has to be reprojected from a geographic coordinate system in degrees latitude/longitude to a planar projection.  "
   ]
  },
  {
   "cell_type": "code",
   "execution_count": null,
   "metadata": {},
   "outputs": [],
   "source": [
    "isobath_fp = Path(\"../database/1_coastal_classification/1_isobaths200.gpkg\")\n",
    "\n",
    "data200 = gpd.read_file(isobath_fp)\n",
    "data200[\"length\"] = data200.to_crs(\"EPSG:3857\").geometry.length \n",
    "data200 = data200[data200[\"length\"] > 5 * 10**6]"
   ]
  },
  {
   "cell_type": "markdown",
   "metadata": {},
   "source": [
    " ### Define the plot function for the coastal systems data\n",
    "\n",
    "In the cell below we define a small plot function that generates an ESRI World Imagery base map given a longitude, latitude, zoom level and name. A small dataframe of coastal systems around the world is also loaded into `geopandas`, a Python library for geospatial tabular data. In the cells afterwards, we sample this dataframe and show the coastal system on a map. \n",
    "\n",
    "**Note**: Although you don't have to understand the plot method, we include it here so you can see how these interactive plots are made! "
   ]
  },
  {
   "cell_type": "code",
   "execution_count": null,
   "metadata": {},
   "outputs": [],
   "source": [
    "def show_coastal_systems():\n",
    "    \"\"\"\n",
    "    Creates an app showing coastal systems.\n",
    "    \"\"\"\n",
    "\n",
    "    # Below we build the widget\n",
    "    title_bar = pn.Row(\n",
    "        pn.pane.Markdown(\n",
    "            \"## Coastal systems overview\",\n",
    "            styles={\"color\": \"black\"},\n",
    "            width=800,\n",
    "            sizing_mode=\"fixed\",\n",
    "            margin=(10, 5, 10, 15),\n",
    "        ),\n",
    "        pn.Spacer(),\n",
    "    )\n",
    "    \n",
    "    options = coastal_systems.name.to_list()\n",
    "    coastal_systems_slider = pn.widgets.Select(\n",
    "        name=\"Coastal system\", options=options, value=np.random.choice(options)\n",
    "    )\n",
    "\n",
    "    plot_isobaths = pn.widgets.Select(\n",
    "        name=\"Plot isobaths -200m?\", options=[\"no\", \"yes\"]\n",
    "    )\n",
    "\n",
    "    @pn.depends(coastal_systems_slider.param.value, plot_isobaths.param.value)\n",
    "    def plot_coastal_system(name, plot_isobath):\n",
    "        system = coastal_systems.loc[coastal_systems[\"name\"] == name].copy()\n",
    "        west, south, east, north = system[\n",
    "            [\"west\", \"south\", \"east\", \"north\"]\n",
    "        ].values.flatten()\n",
    "\n",
    "        p = system.hvplot.points(\n",
    "            x=\"lon\",\n",
    "            y=\"lat\",\n",
    "            geo=True,\n",
    "            color=\"red\",\n",
    "            alpha=0,\n",
    "            xlim=(west, east),\n",
    "            ylim=(south, north),\n",
    "            tiles=\"ESRI\",\n",
    "            frame_width=1100,\n",
    "            ylabel=\"Latitude [deg]\",\n",
    "            xlabel=\"Longitude [deg]\",\n",
    "        )\n",
    "\n",
    "        if plot_isobath == \"yes\":\n",
    "            baths = data200.hvplot(\n",
    "                geo=True, line_width=2, line_color=\"white\", line_dash=\"dashed\"\n",
    "            )\n",
    "            p = p * baths\n",
    "\n",
    "        p.opts(frame_width=1000, frame_height=500, tools=[\"pan\", \"wheel_zoom\"])\n",
    "\n",
    "        return p\n",
    "\n",
    "    app = pn.Column(\n",
    "        title_bar,\n",
    "        pn.Row(plot_isobaths, align=\"center\"),\n",
    "        pn.Row(coastal_systems_slider, align=\"center\"),\n",
    "        pn.Row(plot_coastal_system, align=\"center\"),\n",
    "    )\n",
    "\n",
    "    return app"
   ]
  },
  {
   "cell_type": "markdown",
   "metadata": {},
   "source": [
    "### Plot the coastal systems data\n",
    "\n",
    "Execute the cell below to plot the coastal systems data using the function we defined above. Please note that altering the slider positions or selecting different options from the dropdown menus may trigger a warning; it can safely be ignored, and possibly silenced by adjusting the logging warning level."
   ]
  },
  {
   "cell_type": "code",
   "execution_count": null,
   "metadata": {},
   "outputs": [],
   "source": [
    "app = show_coastal_systems()\n",
    "\n",
    "cd.launch_app(app)"
   ]
  },
  {
   "cell_type": "markdown",
   "metadata": {},
   "source": [
    "## Questions\n",
    "\n",
    "By running the below cells you get two blocks of in total 13 questions. You can use the Coastal Systems panel in combination with Chapter 2 of your textbook to answer the questions. \n",
    "The coastal systems from the drop-down menu in the panel correspond to the ones classified in Table 2.3 of the textbook. Compare these classifications with evidence from the satellite images for each system. The below questions are designed to help you think along in this way.\n",
    "\n",
    "Please note that time always plays a role in classification. A previously sediment-rich system for instance, may be sediment-poor in current times. Systems may also show relict features from the past when there was a different balance between physical processes. For example, you can find beach/dune relicts in barrier islands on the rim of the Mississippi delta system (Figure 2.46 in the textbook). These islands date back to a previous era with larger sediment supply."
   ]
  },
  {
   "cell_type": "markdown",
   "metadata": {},
   "source": [
    "### Question block 1: characterizing Individual Coastal Systems\n",
    "One of the most useful skills that a modern coastal engineer can have is being able to interpret satellite imagery. What can we learn about coasts from remote sensing? How can we apply what we learned in Chapter 2 about coastal classification? When you look at these images, consider the following checklist:\n",
    " - Where is your site with respect to plate boundaries? (leading, trailing)\n",
    " - Is there evidence of past RSLR rise, fall, or stability?\n",
    " - Is there evidence of past glaciation?\n",
    " - What are the dominant hydrodynamic processes and sediment sources (wave/tide/river)?\n",
    " - Primary/secondary coastal forms? (See Table 2.3)\n",
    " - What kind of sediment is present (sand/mud/other)? How much?\n",
    " - What kind of biotic or human influences do you see?\n",
    " - Is the coast prograding or retreating?\n",
    "\n",
    "Let's first consider some individual coastal systems. Have a look at the system mentioned in the questions below, then try to answer the questions based on the satellite images and what you have learned so far. HINT: Zoom in and out to see the wider context of each site, as well as the smaller details of the coast."
   ]
  },
  {
   "cell_type": "code",
   "execution_count": null,
   "metadata": {},
   "outputs": [],
   "source": [
    "q = [\n",
    "    \"Q1b-columbia_and_ganges\",\n",
    "    \"Q1b-mekong\",\n",
    "    \"Q1b-wadden_sea\",\n",
    "    \"Q1b-wax_lake\",\n",
    "    \"Q1b-wadden_sea_vegetation\",\n",
    "    \"Q1b-st_michel\",\n",
    "    \"Q1b-willapa_bay\",\n",
    "]\n",
    "\n",
    "question_industry.serve(q)"
   ]
  },
  {
   "cell_type": "markdown",
   "metadata": {},
   "source": [
    "### Question block 2: Application\n",
    "You have hopefully learned a lot this week about coastal classification at different spatial scales. Let's now take a step back. The questions below cover some more application-oriented topics and not all questions concern coastal classification. Some questions ask you to compare different systems, and others might ask you about stuff you have not seen before in this course. You will need to engage your critical thinking skills to answer them correctly, and we will take a deeper dive into these topics in the coming weeks. Have fun!"
   ]
  },
  {
   "cell_type": "code",
   "execution_count": null,
   "metadata": {},
   "outputs": [],
   "source": [
    "q = [\n",
    "    \"Q1b-dune_du_pilat\",\n",
    "    \"Q1b-engineered_delta\",\n",
    "    \"Q1b-scale_lagoa_de_albofeira_and_amazon\",\n",
    "    \"Q1b-sandy_and_muddy_sediment\",\n",
    "    \"Q1b-pearl_and_st_michel\",\n",
    "    \"Q1b-favourite_site\",\n",
    "]\n",
    "\n",
    "question_industry.serve(q)"
   ]
  },
  {
   "cell_type": "markdown",
   "metadata": {},
   "source": [
    "### The end \n",
    "\n",
    "You have reached the end of this Notebook 1b. This was the last notebook of this week."
   ]
  }
 ],
 "metadata": {
  "kernelspec": {
   "display_name": "coastalcodebook",
   "language": "python",
   "name": "python3"
  },
  "language_info": {
   "codemirror_mode": {
    "name": "ipython",
    "version": 3
   },
   "file_extension": ".py",
   "mimetype": "text/x-python",
   "name": "python",
   "nbconvert_exporter": "python",
   "pygments_lexer": "ipython3",
   "version": "3.13.1"
  }
 },
 "nbformat": 4,
 "nbformat_minor": 4
}
