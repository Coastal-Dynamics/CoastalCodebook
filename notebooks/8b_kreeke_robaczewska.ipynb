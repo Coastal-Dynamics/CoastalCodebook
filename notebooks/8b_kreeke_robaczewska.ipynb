{
 "cells": [
  {
   "cell_type": "markdown",
   "metadata": {},
   "source": [
    "<figure>\n",
    "  <img src=\"../images/tudelft_logo.png\" alt=\"image\" width=\"250\" align=\"right\"/>\n",
    "</figure>"
   ]
  },
  {
   "cell_type": "markdown",
   "metadata": {},
   "source": [
    "# 8b: Tide-induced residual transport (Van de Kreeke and Robaczewska)\n",
    "\n",
    "This is the second notebook of week 8. In this notebook, we dive deeper into residual medium to coarse sediment transport induced by tidal asymmetry. For this analysis, we use the equations derived by [Van de Kreeke and Robaczewska (1993)](https://doi.org/10.1016/0077-7579(93)90022-K). Note that \"asymmetry\" is used here in the general definition, but we will see later that it is specifically asymmetry about the horizontal axis that leads to a residual transport of medium to coarse sediment.\n",
    "\n",
    "## Introduction\n",
    "The approach of Van de Kreeke and Robaczewska is a quasi-steady approach. It starts from the assumption that the instantaneous transport by tidal currents, $S(t)$, is a function of the local depth-averaged velocity as follows:\n",
    "\n",
    "\\begin{equation}\n",
    "\\tag{1}\n",
    "S(t) \\propto u(t) \\left|u(t)\\right|^2 \n",
    "\\end{equation}\n",
    "\n",
    "As a result, the residual (i.e. tide-averaged) transport is proportional to the third odd velocity moment: $\\left\\langle S \\right\\rangle \\propto \\left\\langle u \\left|u\\right|^2\\right\\rangle$, with the angle brackets denoting tide-averaging. This is equivalent to the energetics-type bed load transport formula that we have seen in Chapters 6 and 7. The difference is now that the horizontal velocity is the tidal velocity rather than the short-wave orbital velocity. It is assumed that the sediment is medium to coarse ($u_*/w_s<1$), so that the sediment is predominantly moving as bed load. Considering sediment travelling in suspension introduces other complications, as we shall see in Notebook 8c. \n",
    "\n",
    "## Structure\n",
    "\n",
    "In this notebook, you can practice with the Van de Kreeke and Robaczewska approach through interactive figures, questions and coding exercises. The notebook consists of the following two parts: \n",
    "1. Instananeous tidal velocity and transport (6 multiple-choice and multiple-selection questions)\n",
    "2. Residual transport in hypothetical estuary (two coding exercises and two multiple-choice questions)\n",
    "\n",
    "Before starting this notebook, make sure you followed the lectures on Chapter 9 (or read the slides) and read Section 9.7.2 of the [Coastal Dynamics Open Textbook](https://books.open.tudelft.nl/home/catalog/book/202)."
   ]
  },
  {
   "cell_type": "markdown",
   "metadata": {},
   "source": [
    "## First import some necessary packages\n",
    "\n",
    "Let's first import the libraries that we use for our analysis by running the next cells."
   ]
  },
  {
   "cell_type": "code",
   "execution_count": null,
   "metadata": {},
   "outputs": [],
   "source": [
    "from pathlib import Path\n",
    "\n",
    "import numpy as np\n",
    "import pandas as pd\n",
    "import panel as pn\n",
    "\n",
    "import coastal_dynamics as cd\n",
    "\n",
    "# Activate Panel extension to make interactive visualizations\n",
    "pn.extension()"
   ]
  },
  {
   "cell_type": "code",
   "execution_count": null,
   "metadata": {},
   "outputs": [],
   "source": [
    "import sys\n",
    "\n",
    "sys.path.append('../')\n",
    "\n",
    "from modules import mod_8"
   ]
  },
  {
   "cell_type": "code",
   "execution_count": null,
   "metadata": {},
   "outputs": [],
   "source": [
    "# read questions locally\n",
    "questions = cd.read_questions(Path(\"../hashed_questions/8_tidal_basins_hashed.json\"))\n",
    "\n",
    "question_industry = cd.QuestionIndustry(questions)\n",
    "\n",
    "cd.UseAnswersApp(\"8b\").serve()"
   ]
  },
  {
   "cell_type": "markdown",
   "metadata": {},
   "source": [
    "## Part 1: Instantaneous tidal velocity and transport\n",
    "\n",
    "In their analysis, Van de Kreeke and Robaczewska considered several diurnal and semi-diurnal components as well as overtides and compound tides. Under the assumption of M2 dominance, they found that M4 and M6 are the most important constituents contributing to the long-term tide-averaged transport. Higher overtides also contribute, but their contributions are smaller and were neglected. The components K1, S2, N2 and MS4 were also considered, but these were found to only cause fluctuations of the transport rates that would average out in the longer term. Thus, we can restrict ourselves to the following tidal-current signal $u(t)$: \n",
    "\n",
    "\\begin{equation}\n",
    "\\tag{2}\n",
    "u(t) = u_0 + {u}_{M2}(t) + {u}_{M4}(t) + {u}_{M6}(t) =  u_0 + \\hat{u}_{M2} \\cos(\\omega_{M2} t) + \\hat{u}_{M4} \\cos(\\omega_{M4} t - \\phi_{M4-2}) + \\hat{u}_{M6} \\cos(\\omega_{M6} t - \\phi_{M6-2})\n",
    "\\end{equation}\n",
    "\n",
    "You can recognize the Eulerian residual flow $u_0$ and the M2, M4 and M6 tidal-current components. Note that $\\phi_{M4-2}$ is the phase lag between $u_{M2}$ and $u_{M4}$ and $\\phi_{M6-2}$ is the phase lag between $u_{M2}$ and $u_{M6}$. See Equation 9.22 in the book for a full glossary of the mathematical symbols. \n",
    "\n",
    "### Interactive figure for velocity\n",
    "Let us now consider the time variation of the various velocity components and the total signal. To understand the effect on the transport better, let's also plot the third power of the velocity as a function of time. By running the cell below you get a left panel showing the velocity components as well as the total velocity $u$, and a right panel showing $u$ and $u^3$. You can use the sliders to change the amplitudes and phases of the components. Below the interactive figure, you will find some suggestion for exploration with the figure. "
   ]
  },
  {
   "cell_type": "code",
   "execution_count": null,
   "metadata": {},
   "outputs": [],
   "source": [
    "mod_8.slider_u(1)"
   ]
  },
  {
   "cell_type": "markdown",
   "metadata": {},
   "source": [
    "### Figures 9.28 and 9.29\n",
    "\n",
    "Have a look at Figures 9.28 and 9.29 of the book, which show the effect of the interaction of the **M2** tidal current and its **M4** overtide. Note that the figures in the book display one M2 period (in rad), while the interactive figure shows two M2 periods, expressed in hours. Using the sliders in the interactive figure, set the amplitudes and phases such that the left panel of the interactive figure corresponds to the upper left panel of Figure 9.28 and the right panel to the upper left panel of Figure 9.29. Now do the same for the upper right panels, the lower left panels and the lower right panels. Which of the panels show flood-dominant signals? And which ebb-dominant signals? Draw conclusions about the residual transport for each of the panels.\n",
    "\n",
    "### Figures 9.30 and 9.31\n",
    "\n",
    "Now try and reproduce Figures 9.30 and 9.29 of the book, which show the effect of the interaction of the **M2** tidal current and its **M6** overtide. Which of the panels show flood-dominant signals? And which ebb-dominant signals? Draw conclusions about the residual transport for each of the panels.\n",
    "\n",
    "### Questions \n",
    "\n",
    "When you have reproduced Figures 9.28-9.31, try to answer the below questions. They will help you check your interpretation of these figures."
   ]
  },
  {
   "cell_type": "code",
   "execution_count": null,
   "metadata": {},
   "outputs": [],
   "source": [
    "q = [\n",
    "    \"Q8b-zero_flow_ebb_dominant1\",\n",
    "    \"Q8b-zero_flow_ebb_dominant2\",\n",
    "    \"Q8b-channel_geometry\",\n",
    "    \"Q8b-M6_distortion\",\n",
    "    \"Q8b-zero_flow_flood_dominant\",\n",
    "    \"Q8b-flow_flood_dominant\",\n",
    "]\n",
    "\n",
    "question_industry.serve(q)"
   ]
  },
  {
   "cell_type": "markdown",
   "metadata": {},
   "source": [
    "## Part 2: Residual transport in hypothetical estuary\n",
    "\n",
    "### Residual transport\n",
    "As explained above, we can write for the residual transport:\n",
    "\n",
    "\\begin{equation}\n",
    "\\tag{3}\n",
    "\\left\\langle S \\right\\rangle = c \\left\\langle u \\left|u\\right|^2 \\right\\rangle\n",
    "\\end{equation}\n",
    "\n",
    "In here, $c$ is a coefficient given in m$^{-1}$s$^2$. The transport is defined as volumetric transport excluding pores, so with units m$^3$/m/s. \n",
    "\n",
    "If we substitute Eq. 1 into Eq. 3, we get the residual transport due to residual flow and the M2, M4 and M6 tidal current components. Van de Kreeke and Robaczewska made an additional assumption of M2 dominance, viz. that the M2 velocity is an order of magnitude larger than the residual flow and the M4 and M6 velocities. Under this assumption, they found that the transport (compare Eq. 9.23 in the book):\n",
    "\n",
    "\\begin{equation}\n",
    "\\tag{4}\n",
    "\\left\\langle S \\right\\rangle \\approx\n",
    "c \\left( \\frac{3}{2} u_0 \\hat{u}_{M2}^2 + \n",
    "\\frac{3}{4} \\hat{u}_{M4} \\hat{u}_{M2}^2 \\cos(\\phi_{M4-2}) \n",
    "+ \\frac{3}{2}  \\hat{u}_{M2} \\hat{u}_{M4} \\hat{u}_{M6} \\cos(\\phi_{M4-2} - \\phi_{M6-2}) \\right) \n",
    "\\end{equation}\n",
    "\n",
    "The three terms on the right-hand side of Eq. 4 show the effect of the:\n",
    "1. Residual flow velocity $u_0$ and $u_{M2}$ (term 1);\n",
    "2. M2 and M4 tidal currents (term 2)\n",
    "3. Triad interaction between $u_{M2}$, $u_{M4}$ and $u_{M6}$ (term 3).\n",
    "  \n",
    "The latter term indicates that $u_{M6}$ can influence the residual transport due to asymmetry, even though $u_{M2}$ plus $u_{M6}$ alone do not introduce asymmetry! \n",
    "\n",
    "### Hypothetical estuary\n",
    "Let us consider the situation of a hypothetical estuary, whose tidal components can be found in the tables below. Note that the velocity magnitudes of the residual flow, M4 and M6 components all are smaller than 10% of the M2 value, such that the requirement of M2 dominance is satisfied.\n",
    "\n",
    "You can use the above interactive figure to get an idea of what this tidal-current signal looks like. Note that the phase is now given in degrees and rads; you will have to use the phase in rad in the interactive figure!\n",
    "\n",
    "| Component | Velocity amplitude $\\hat{u}$ [cm/s] |\n",
    "|-----------|---------------------------|\n",
    "| residual flow      | -3                        |\n",
    "| M2        | 115                        |\n",
    "| M4        | 10                        |\n",
    "| M6        | 9                        |\n",
    "\n",
    "\n",
    "| Component phase| Phase [degrees] | Phase [rad] |\n",
    "|--------------|-----------------|-----------------|\n",
    "| $\\phi_{42}$  | 250             | $\\frac{25}{18}\\pi \\approx 4.36$             |\n",
    "| $\\phi_{62}$  | 230             | $\\frac{23}{18}\\pi \\approx 4.01$            |\n"
   ]
  },
  {
   "cell_type": "markdown",
   "metadata": {},
   "source": [
    "### Exercise: transport as a function of time\n",
    "\n",
    "For this hypothetical estuary, calculate the transport $S$ as a function of $t$:\n",
    "\n",
    "1. Use Eq. 1 and Eq. 2 with the tidal components as in the table above\n",
    "2. Use a value of $10^{-4}$ m$^{-1}$s$^2$ for the coefficient $c$\n",
    "3. Use the given time range of four M2 tidal periods\n",
    "4. Use the space provided in the below code cell for your code. \n",
    "5. Run the subsequent cell to generate a plot from which you can check whether your answer was correct (the correct answer is shown together with your computed transport)\n"
   ]
  },
  {
   "cell_type": "code",
   "execution_count": null,
   "metadata": {},
   "outputs": [],
   "source": [
    "## Use this code cell to compute your answer.\n",
    "\n",
    "t = np.linspace(0, 2 * (24 * 3600 +  50 * 60), 250)\n",
    "\n",
    "S = np.zeros(t.shape)\n",
    "\n",
    "################# ADD CODE HERE ####################\n",
    "\n",
    "# S = ...\n",
    "\n",
    "####################################################\n"
   ]
  },
  {
   "cell_type": "code",
   "execution_count": null,
   "metadata": {},
   "outputs": [],
   "source": [
    "mod_8.plot_S(S)"
   ]
  },
  {
   "cell_type": "markdown",
   "metadata": {},
   "source": [
    "### Exercise: residual transport\n",
    "\n",
    "From looking at the instantaneous third power of the velocity or the transport, it is not always trivial to determine the direction of the residual transport $\\left\\langle S \\right\\rangle$. We need to consider not just peak values, but the total integrated transport. It can even happen that the flood peaks are higher than the ebb peaks, but that the shape of the instantaneous third power of velocity, and, hence, transport, is such that we have a net export. You could try this out using the interactive figure. \n",
    "\n",
    "For this hypothetical estuary, what does the transport plot tell you about the direction of the residual transport? Let's verify this and compute the residual transport! You can use the code cell below for your computations. With this code cell, compute the residual transport in m$^3$/m/s using both the exact Eq. 3 and the approximate Eq. 4. When computing the transport according to Eq. 4., also explicitly compute the transport by each of the three terms. By running the code cell, you get a table from which you can  compare your own answers with the correct anwers."
   ]
  },
  {
   "cell_type": "code",
   "execution_count": null,
   "metadata": {},
   "outputs": [],
   "source": [
    "## Use this code cell to compute and print your answer.\n",
    "\n",
    "############ WRITE CODE HERE ###########\n",
    "\n",
    "Sres = None         # Replace by your code for the transport according to Equation 3 (in m³/m/s)\n",
    "\n",
    "Sres_term1 = None   # Replace by your code for term 1 in the right-hand-side (RHS) of Equation 4 (in m³/m/s)\n",
    "Sres_term2 = None   # Replace by your code for term 2 in the right-hand-side (RHS) of Equation 4 (in m³/m/s)\n",
    "Sres_term3 = None   # Replace by your code for term 3 in the right-hand-side (RHS) of Equation 4 (in m³/m/s)\n",
    "Sres_term123 = None # Replace by your code for the transport according to Equation 4 (in m³/m/s)\n",
    "\n",
    "\n",
    "####################################\n",
    "\n",
    "display(mod_8.check_answers(Sres, Sres_term1, Sres_term2, Sres_term3, Sres_term123))"
   ]
  },
  {
   "cell_type": "markdown",
   "metadata": {},
   "source": [
    "### Interpreting the calculated residual transports\n",
    "\n",
    "To verify your answers, compare the last two colums of the above table. \n",
    "\n",
    "As you can see, the approximate Eq. 4 gives somewhat different values than Eq. 3, but the values are quite close. The difference is due to higher order terms that are neglected in Eq. 4. The advantage of Eq. 4 is that the decomposition in different terms is quite insightful. The largest contribution to the transport is due to the asymmetry introduced by the residual flow, as we can see from term 1 ($u_0$ and M2). This term gives a net transport in the direction of the residual flow, which is seaward here. The terms representing the effect of the overtides, term 2 (M2 and M4) and term 3 (M2, M4 and M6) have opposite directions! Term 2 contributes to a net seaward transport, but term 3 actually indicates a landward transport due to the triad interaction between the M2, M4 and M6 tidal velocities. The result of all three terms combined is an ebb-dominant residual transport. \n",
    "\n",
    "**Note** In our case $u_0$ is small (< 10% of $u_{M2}$), such that the assumption of M2 dominance is a reasonable assumption. However, when $u_0$ is not small relative to $u_{M2}$, more terms than the terms in Eq. 4 need to be taken into account for the residual transport. If you want to read more on this (this is optional!), you can study the work of [Chu et al. (2015)](https://doi.org/10.1016/j.ecss.2015.06.003). "
   ]
  },
  {
   "cell_type": "markdown",
   "metadata": {},
   "source": [
    "### Reflective questions \n",
    "\n",
    "Below are two questions about residual transport in general and the hypothetical estuary in particular. "
   ]
  },
  {
   "cell_type": "code",
   "execution_count": null,
   "metadata": {},
   "outputs": [],
   "source": [
    "q = [\n",
    "    \"Q8b-basin_type\",\n",
    "    \"Q8b-barotropic\",\n",
    "]\n",
    "\n",
    "question_industry.serve(q)"
   ]
  },
  {
   "cell_type": "markdown",
   "metadata": {},
   "source": [
    "### The end\n",
    "\n",
    "You have reached the end of this Notebook 8b: Van de Kreeke and Robaczewska. You can continue to work on the other notebooks for this week."
   ]
  }
 ],
 "metadata": {
  "kernelspec": {
   "display_name": "coastalcodebook",
   "language": "python",
   "name": "python3"
  },
  "language_info": {
   "codemirror_mode": {
    "name": "ipython",
    "version": 3
   },
   "file_extension": ".py",
   "mimetype": "text/x-python",
   "name": "python",
   "nbconvert_exporter": "python",
   "pygments_lexer": "ipython3",
   "version": "3.13.1"
  }
 },
 "nbformat": 4,
 "nbformat_minor": 4
}
